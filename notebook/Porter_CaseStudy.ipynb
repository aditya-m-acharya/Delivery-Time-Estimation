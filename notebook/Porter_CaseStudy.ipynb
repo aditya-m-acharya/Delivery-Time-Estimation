{
 "cells": [
  {
   "cell_type": "markdown",
   "id": "e037878e",
   "metadata": {},
   "source": [
    "# Problem Statement Definition\n",
    "\n",
    "Porter is India's Largest Marketplace for Intra-City Logistics. Leader in the country's $40 billion intra-city logistics market, Porter strives to improve the lives of 1,50,000+ driver-partners by providing them with consistent earning & independence. Currently, the company has serviced 5+ million customers\n",
    "\n",
    "Porter works with a wide range of restaurants for delivering their items directly to the people.\n",
    "\n",
    "Porter has a number of delivery partners available for delivering the food, from various restaurants and wants to get an estimated delivery time that it can provide the customers on the basis of what they are ordering, from where and also the delivery partners.\n",
    "\n",
    "This dataset has the required data to train a regression model that will do the delivery time estimation, based on all those features."
   ]
  },
  {
   "cell_type": "markdown",
   "id": "85a369a2",
   "metadata": {},
   "source": [
    "# Load libraries and data"
   ]
  },
  {
   "cell_type": "code",
   "execution_count": 1,
   "id": "a8f65c1e",
   "metadata": {},
   "outputs": [
    {
     "name": "stderr",
     "output_type": "stream",
     "text": [
      "<frozen importlib._bootstrap>:228: RuntimeWarning: scipy._lib.messagestream.MessageStream size changed, may indicate binary incompatibility. Expected 56 from C header, got 64 from PyObject\n"
     ]
    }
   ],
   "source": [
    "# import libraries\n",
    "\n",
    "import pandas as pd\n",
    "import numpy as np\n",
    "\n",
    "import matplotlib.pyplot as plt\n",
    "import seaborn as sns\n",
    "\n",
    "import warnings\n",
    "warnings.filterwarnings('ignore')"
   ]
  },
  {
   "cell_type": "code",
   "execution_count": 2,
   "id": "74ce6503",
   "metadata": {},
   "outputs": [],
   "source": [
    "# Set Options\n",
    "warnings.simplefilter('ignore')\n",
    "pd.set_option(\"display.max_columns\", None)\n",
    "pd.options.display.float_format = '{:.2f}'.format\n",
    "sns.set_style('white')"
   ]
  },
  {
   "cell_type": "code",
   "execution_count": 3,
   "id": "7f10736c",
   "metadata": {},
   "outputs": [
    {
     "data": {
      "text/html": [
       "<div>\n",
       "<style scoped>\n",
       "    .dataframe tbody tr th:only-of-type {\n",
       "        vertical-align: middle;\n",
       "    }\n",
       "\n",
       "    .dataframe tbody tr th {\n",
       "        vertical-align: top;\n",
       "    }\n",
       "\n",
       "    .dataframe thead th {\n",
       "        text-align: right;\n",
       "    }\n",
       "</style>\n",
       "<table border=\"1\" class=\"dataframe\">\n",
       "  <thead>\n",
       "    <tr style=\"text-align: right;\">\n",
       "      <th></th>\n",
       "      <th>market_id</th>\n",
       "      <th>created_at</th>\n",
       "      <th>actual_delivery_time</th>\n",
       "      <th>store_id</th>\n",
       "      <th>store_primary_category</th>\n",
       "      <th>order_protocol</th>\n",
       "      <th>total_items</th>\n",
       "      <th>subtotal</th>\n",
       "      <th>num_distinct_items</th>\n",
       "      <th>min_item_price</th>\n",
       "      <th>max_item_price</th>\n",
       "      <th>total_onshift_partners</th>\n",
       "      <th>total_busy_partners</th>\n",
       "      <th>total_outstanding_orders</th>\n",
       "    </tr>\n",
       "  </thead>\n",
       "  <tbody>\n",
       "    <tr>\n",
       "      <th>0</th>\n",
       "      <td>1.00</td>\n",
       "      <td>2015-02-06 22:24:17</td>\n",
       "      <td>2015-02-06 23:27:16</td>\n",
       "      <td>df263d996281d984952c07998dc54358</td>\n",
       "      <td>american</td>\n",
       "      <td>1.00</td>\n",
       "      <td>4</td>\n",
       "      <td>3441</td>\n",
       "      <td>4</td>\n",
       "      <td>557</td>\n",
       "      <td>1239</td>\n",
       "      <td>33.00</td>\n",
       "      <td>14.00</td>\n",
       "      <td>21.00</td>\n",
       "    </tr>\n",
       "    <tr>\n",
       "      <th>1</th>\n",
       "      <td>2.00</td>\n",
       "      <td>2015-02-10 21:49:25</td>\n",
       "      <td>2015-02-10 22:56:29</td>\n",
       "      <td>f0ade77b43923b38237db569b016ba25</td>\n",
       "      <td>mexican</td>\n",
       "      <td>2.00</td>\n",
       "      <td>1</td>\n",
       "      <td>1900</td>\n",
       "      <td>1</td>\n",
       "      <td>1400</td>\n",
       "      <td>1400</td>\n",
       "      <td>1.00</td>\n",
       "      <td>2.00</td>\n",
       "      <td>2.00</td>\n",
       "    </tr>\n",
       "    <tr>\n",
       "      <th>2</th>\n",
       "      <td>3.00</td>\n",
       "      <td>2015-01-22 20:39:28</td>\n",
       "      <td>2015-01-22 21:09:09</td>\n",
       "      <td>f0ade77b43923b38237db569b016ba25</td>\n",
       "      <td>NaN</td>\n",
       "      <td>1.00</td>\n",
       "      <td>1</td>\n",
       "      <td>1900</td>\n",
       "      <td>1</td>\n",
       "      <td>1900</td>\n",
       "      <td>1900</td>\n",
       "      <td>1.00</td>\n",
       "      <td>0.00</td>\n",
       "      <td>0.00</td>\n",
       "    </tr>\n",
       "    <tr>\n",
       "      <th>3</th>\n",
       "      <td>3.00</td>\n",
       "      <td>2015-02-03 21:21:45</td>\n",
       "      <td>2015-02-03 22:13:00</td>\n",
       "      <td>f0ade77b43923b38237db569b016ba25</td>\n",
       "      <td>NaN</td>\n",
       "      <td>1.00</td>\n",
       "      <td>6</td>\n",
       "      <td>6900</td>\n",
       "      <td>5</td>\n",
       "      <td>600</td>\n",
       "      <td>1800</td>\n",
       "      <td>1.00</td>\n",
       "      <td>1.00</td>\n",
       "      <td>2.00</td>\n",
       "    </tr>\n",
       "    <tr>\n",
       "      <th>4</th>\n",
       "      <td>3.00</td>\n",
       "      <td>2015-02-15 02:40:36</td>\n",
       "      <td>2015-02-15 03:20:26</td>\n",
       "      <td>f0ade77b43923b38237db569b016ba25</td>\n",
       "      <td>NaN</td>\n",
       "      <td>1.00</td>\n",
       "      <td>3</td>\n",
       "      <td>3900</td>\n",
       "      <td>3</td>\n",
       "      <td>1100</td>\n",
       "      <td>1600</td>\n",
       "      <td>6.00</td>\n",
       "      <td>6.00</td>\n",
       "      <td>9.00</td>\n",
       "    </tr>\n",
       "  </tbody>\n",
       "</table>\n",
       "</div>"
      ],
      "text/plain": [
       "   market_id           created_at actual_delivery_time  \\\n",
       "0       1.00  2015-02-06 22:24:17  2015-02-06 23:27:16   \n",
       "1       2.00  2015-02-10 21:49:25  2015-02-10 22:56:29   \n",
       "2       3.00  2015-01-22 20:39:28  2015-01-22 21:09:09   \n",
       "3       3.00  2015-02-03 21:21:45  2015-02-03 22:13:00   \n",
       "4       3.00  2015-02-15 02:40:36  2015-02-15 03:20:26   \n",
       "\n",
       "                           store_id store_primary_category  order_protocol  \\\n",
       "0  df263d996281d984952c07998dc54358               american            1.00   \n",
       "1  f0ade77b43923b38237db569b016ba25                mexican            2.00   \n",
       "2  f0ade77b43923b38237db569b016ba25                    NaN            1.00   \n",
       "3  f0ade77b43923b38237db569b016ba25                    NaN            1.00   \n",
       "4  f0ade77b43923b38237db569b016ba25                    NaN            1.00   \n",
       "\n",
       "   total_items  subtotal  num_distinct_items  min_item_price  max_item_price  \\\n",
       "0            4      3441                   4             557            1239   \n",
       "1            1      1900                   1            1400            1400   \n",
       "2            1      1900                   1            1900            1900   \n",
       "3            6      6900                   5             600            1800   \n",
       "4            3      3900                   3            1100            1600   \n",
       "\n",
       "   total_onshift_partners  total_busy_partners  total_outstanding_orders  \n",
       "0                   33.00                14.00                     21.00  \n",
       "1                    1.00                 2.00                      2.00  \n",
       "2                    1.00                 0.00                      0.00  \n",
       "3                    1.00                 1.00                      2.00  \n",
       "4                    6.00                 6.00                      9.00  "
      ]
     },
     "execution_count": 3,
     "metadata": {},
     "output_type": "execute_result"
    }
   ],
   "source": [
    "df = pd.read_csv('dataset.csv')\n",
    "df.head()"
   ]
  },
  {
   "cell_type": "markdown",
   "id": "fd6ed3e7",
   "metadata": {},
   "source": [
    "# Basic Data Exploration"
   ]
  },
  {
   "cell_type": "code",
   "execution_count": 4,
   "id": "ba3aaf4d",
   "metadata": {},
   "outputs": [
    {
     "data": {
      "text/plain": [
       "(197428, 14)"
      ]
     },
     "execution_count": 4,
     "metadata": {},
     "output_type": "execute_result"
    }
   ],
   "source": [
    "df.shape"
   ]
  },
  {
   "cell_type": "code",
   "execution_count": 5,
   "id": "422c6698",
   "metadata": {},
   "outputs": [
    {
     "data": {
      "text/html": [
       "<div>\n",
       "<style scoped>\n",
       "    .dataframe tbody tr th:only-of-type {\n",
       "        vertical-align: middle;\n",
       "    }\n",
       "\n",
       "    .dataframe tbody tr th {\n",
       "        vertical-align: top;\n",
       "    }\n",
       "\n",
       "    .dataframe thead th {\n",
       "        text-align: right;\n",
       "    }\n",
       "</style>\n",
       "<table border=\"1\" class=\"dataframe\">\n",
       "  <thead>\n",
       "    <tr style=\"text-align: right;\">\n",
       "      <th></th>\n",
       "      <th>market_id</th>\n",
       "      <th>order_protocol</th>\n",
       "      <th>total_items</th>\n",
       "      <th>subtotal</th>\n",
       "      <th>num_distinct_items</th>\n",
       "      <th>min_item_price</th>\n",
       "      <th>max_item_price</th>\n",
       "      <th>total_onshift_partners</th>\n",
       "      <th>total_busy_partners</th>\n",
       "      <th>total_outstanding_orders</th>\n",
       "    </tr>\n",
       "  </thead>\n",
       "  <tbody>\n",
       "    <tr>\n",
       "      <th>count</th>\n",
       "      <td>196441.00</td>\n",
       "      <td>196433.00</td>\n",
       "      <td>197428.00</td>\n",
       "      <td>197428.00</td>\n",
       "      <td>197428.00</td>\n",
       "      <td>197428.00</td>\n",
       "      <td>197428.00</td>\n",
       "      <td>181166.00</td>\n",
       "      <td>181166.00</td>\n",
       "      <td>181166.00</td>\n",
       "    </tr>\n",
       "    <tr>\n",
       "      <th>mean</th>\n",
       "      <td>2.98</td>\n",
       "      <td>2.88</td>\n",
       "      <td>3.20</td>\n",
       "      <td>2682.33</td>\n",
       "      <td>2.67</td>\n",
       "      <td>686.22</td>\n",
       "      <td>1159.59</td>\n",
       "      <td>44.81</td>\n",
       "      <td>41.74</td>\n",
       "      <td>58.05</td>\n",
       "    </tr>\n",
       "    <tr>\n",
       "      <th>std</th>\n",
       "      <td>1.52</td>\n",
       "      <td>1.50</td>\n",
       "      <td>2.67</td>\n",
       "      <td>1823.09</td>\n",
       "      <td>1.63</td>\n",
       "      <td>522.04</td>\n",
       "      <td>558.41</td>\n",
       "      <td>34.53</td>\n",
       "      <td>32.15</td>\n",
       "      <td>52.66</td>\n",
       "    </tr>\n",
       "    <tr>\n",
       "      <th>min</th>\n",
       "      <td>1.00</td>\n",
       "      <td>1.00</td>\n",
       "      <td>1.00</td>\n",
       "      <td>0.00</td>\n",
       "      <td>1.00</td>\n",
       "      <td>-86.00</td>\n",
       "      <td>0.00</td>\n",
       "      <td>-4.00</td>\n",
       "      <td>-5.00</td>\n",
       "      <td>-6.00</td>\n",
       "    </tr>\n",
       "    <tr>\n",
       "      <th>25%</th>\n",
       "      <td>2.00</td>\n",
       "      <td>1.00</td>\n",
       "      <td>2.00</td>\n",
       "      <td>1400.00</td>\n",
       "      <td>1.00</td>\n",
       "      <td>299.00</td>\n",
       "      <td>800.00</td>\n",
       "      <td>17.00</td>\n",
       "      <td>15.00</td>\n",
       "      <td>17.00</td>\n",
       "    </tr>\n",
       "    <tr>\n",
       "      <th>50%</th>\n",
       "      <td>3.00</td>\n",
       "      <td>3.00</td>\n",
       "      <td>3.00</td>\n",
       "      <td>2200.00</td>\n",
       "      <td>2.00</td>\n",
       "      <td>595.00</td>\n",
       "      <td>1095.00</td>\n",
       "      <td>37.00</td>\n",
       "      <td>34.00</td>\n",
       "      <td>41.00</td>\n",
       "    </tr>\n",
       "    <tr>\n",
       "      <th>75%</th>\n",
       "      <td>4.00</td>\n",
       "      <td>4.00</td>\n",
       "      <td>4.00</td>\n",
       "      <td>3395.00</td>\n",
       "      <td>3.00</td>\n",
       "      <td>949.00</td>\n",
       "      <td>1395.00</td>\n",
       "      <td>65.00</td>\n",
       "      <td>62.00</td>\n",
       "      <td>85.00</td>\n",
       "    </tr>\n",
       "    <tr>\n",
       "      <th>max</th>\n",
       "      <td>6.00</td>\n",
       "      <td>7.00</td>\n",
       "      <td>411.00</td>\n",
       "      <td>27100.00</td>\n",
       "      <td>20.00</td>\n",
       "      <td>14700.00</td>\n",
       "      <td>14700.00</td>\n",
       "      <td>171.00</td>\n",
       "      <td>154.00</td>\n",
       "      <td>285.00</td>\n",
       "    </tr>\n",
       "  </tbody>\n",
       "</table>\n",
       "</div>"
      ],
      "text/plain": [
       "       market_id  order_protocol  total_items  subtotal  num_distinct_items  \\\n",
       "count  196441.00       196433.00    197428.00 197428.00           197428.00   \n",
       "mean        2.98            2.88         3.20   2682.33                2.67   \n",
       "std         1.52            1.50         2.67   1823.09                1.63   \n",
       "min         1.00            1.00         1.00      0.00                1.00   \n",
       "25%         2.00            1.00         2.00   1400.00                1.00   \n",
       "50%         3.00            3.00         3.00   2200.00                2.00   \n",
       "75%         4.00            4.00         4.00   3395.00                3.00   \n",
       "max         6.00            7.00       411.00  27100.00               20.00   \n",
       "\n",
       "       min_item_price  max_item_price  total_onshift_partners  \\\n",
       "count       197428.00       197428.00               181166.00   \n",
       "mean           686.22         1159.59                   44.81   \n",
       "std            522.04          558.41                   34.53   \n",
       "min            -86.00            0.00                   -4.00   \n",
       "25%            299.00          800.00                   17.00   \n",
       "50%            595.00         1095.00                   37.00   \n",
       "75%            949.00         1395.00                   65.00   \n",
       "max          14700.00        14700.00                  171.00   \n",
       "\n",
       "       total_busy_partners  total_outstanding_orders  \n",
       "count            181166.00                 181166.00  \n",
       "mean                 41.74                     58.05  \n",
       "std                  32.15                     52.66  \n",
       "min                  -5.00                     -6.00  \n",
       "25%                  15.00                     17.00  \n",
       "50%                  34.00                     41.00  \n",
       "75%                  62.00                     85.00  \n",
       "max                 154.00                    285.00  "
      ]
     },
     "execution_count": 5,
     "metadata": {},
     "output_type": "execute_result"
    }
   ],
   "source": [
    "df.describe()"
   ]
  },
  {
   "cell_type": "code",
   "execution_count": 6,
   "id": "36786900",
   "metadata": {},
   "outputs": [
    {
     "name": "stdout",
     "output_type": "stream",
     "text": [
      "<class 'pandas.core.frame.DataFrame'>\n",
      "RangeIndex: 197428 entries, 0 to 197427\n",
      "Data columns (total 14 columns):\n",
      " #   Column                    Non-Null Count   Dtype  \n",
      "---  ------                    --------------   -----  \n",
      " 0   market_id                 196441 non-null  float64\n",
      " 1   created_at                197428 non-null  object \n",
      " 2   actual_delivery_time      197421 non-null  object \n",
      " 3   store_id                  197428 non-null  object \n",
      " 4   store_primary_category    192668 non-null  object \n",
      " 5   order_protocol            196433 non-null  float64\n",
      " 6   total_items               197428 non-null  int64  \n",
      " 7   subtotal                  197428 non-null  int64  \n",
      " 8   num_distinct_items        197428 non-null  int64  \n",
      " 9   min_item_price            197428 non-null  int64  \n",
      " 10  max_item_price            197428 non-null  int64  \n",
      " 11  total_onshift_partners    181166 non-null  float64\n",
      " 12  total_busy_partners       181166 non-null  float64\n",
      " 13  total_outstanding_orders  181166 non-null  float64\n",
      "dtypes: float64(5), int64(5), object(4)\n",
      "memory usage: 21.1+ MB\n"
     ]
    }
   ],
   "source": [
    "df.info()"
   ]
  },
  {
   "cell_type": "code",
   "execution_count": 7,
   "id": "19bec213",
   "metadata": {},
   "outputs": [
    {
     "data": {
      "text/html": [
       "<div>\n",
       "<style scoped>\n",
       "    .dataframe tbody tr th:only-of-type {\n",
       "        vertical-align: middle;\n",
       "    }\n",
       "\n",
       "    .dataframe tbody tr th {\n",
       "        vertical-align: top;\n",
       "    }\n",
       "\n",
       "    .dataframe thead th {\n",
       "        text-align: right;\n",
       "    }\n",
       "</style>\n",
       "<table border=\"1\" class=\"dataframe\">\n",
       "  <thead>\n",
       "    <tr style=\"text-align: right;\">\n",
       "      <th></th>\n",
       "      <th>created_at</th>\n",
       "      <th>actual_delivery_time</th>\n",
       "      <th>store_id</th>\n",
       "      <th>store_primary_category</th>\n",
       "    </tr>\n",
       "  </thead>\n",
       "  <tbody>\n",
       "    <tr>\n",
       "      <th>count</th>\n",
       "      <td>197428</td>\n",
       "      <td>197421</td>\n",
       "      <td>197428</td>\n",
       "      <td>192668</td>\n",
       "    </tr>\n",
       "    <tr>\n",
       "      <th>unique</th>\n",
       "      <td>180985</td>\n",
       "      <td>178110</td>\n",
       "      <td>6743</td>\n",
       "      <td>74</td>\n",
       "    </tr>\n",
       "    <tr>\n",
       "      <th>top</th>\n",
       "      <td>2015-02-11 19:50:43</td>\n",
       "      <td>2015-02-11 20:40:45</td>\n",
       "      <td>d43ab110ab2489d6b9b2caa394bf920f</td>\n",
       "      <td>american</td>\n",
       "    </tr>\n",
       "    <tr>\n",
       "      <th>freq</th>\n",
       "      <td>6</td>\n",
       "      <td>5</td>\n",
       "      <td>937</td>\n",
       "      <td>19399</td>\n",
       "    </tr>\n",
       "  </tbody>\n",
       "</table>\n",
       "</div>"
      ],
      "text/plain": [
       "                 created_at actual_delivery_time  \\\n",
       "count                197428               197421   \n",
       "unique               180985               178110   \n",
       "top     2015-02-11 19:50:43  2015-02-11 20:40:45   \n",
       "freq                      6                    5   \n",
       "\n",
       "                                store_id store_primary_category  \n",
       "count                             197428                 192668  \n",
       "unique                              6743                     74  \n",
       "top     d43ab110ab2489d6b9b2caa394bf920f               american  \n",
       "freq                                 937                  19399  "
      ]
     },
     "execution_count": 7,
     "metadata": {},
     "output_type": "execute_result"
    }
   ],
   "source": [
    "df.describe(include=object)"
   ]
  },
  {
   "cell_type": "markdown",
   "id": "29b626f7",
   "metadata": {},
   "source": [
    "# Checking null values"
   ]
  },
  {
   "cell_type": "code",
   "execution_count": 8,
   "id": "6a93f741",
   "metadata": {},
   "outputs": [
    {
     "data": {
      "text/plain": [
       "market_id                  0.50\n",
       "created_at                 0.00\n",
       "actual_delivery_time       0.00\n",
       "store_id                   0.00\n",
       "store_primary_category     2.41\n",
       "order_protocol             0.50\n",
       "total_items                0.00\n",
       "subtotal                   0.00\n",
       "num_distinct_items         0.00\n",
       "min_item_price             0.00\n",
       "max_item_price             0.00\n",
       "total_onshift_partners     8.24\n",
       "total_busy_partners        8.24\n",
       "total_outstanding_orders   8.24\n",
       "dtype: float64"
      ]
     },
     "execution_count": 8,
     "metadata": {},
     "output_type": "execute_result"
    }
   ],
   "source": [
    "(df.isna().sum() / df.shape[0])*100"
   ]
  },
  {
   "cell_type": "markdown",
   "id": "30b0fca9",
   "metadata": {},
   "source": [
    "There are various ways to treat null values in our data:\n",
    "1. Drop rows with null values.\n",
    "2. Impute them using mean/median or mode if categorical variable.\n",
    "3. Impute it smartly using the data from other columns."
   ]
  },
  {
   "cell_type": "code",
   "execution_count": 9,
   "id": "309781d7",
   "metadata": {},
   "outputs": [
    {
     "data": {
      "text/html": [
       "<div>\n",
       "<style scoped>\n",
       "    .dataframe tbody tr th:only-of-type {\n",
       "        vertical-align: middle;\n",
       "    }\n",
       "\n",
       "    .dataframe tbody tr th {\n",
       "        vertical-align: top;\n",
       "    }\n",
       "\n",
       "    .dataframe thead th {\n",
       "        text-align: right;\n",
       "    }\n",
       "</style>\n",
       "<table border=\"1\" class=\"dataframe\">\n",
       "  <thead>\n",
       "    <tr style=\"text-align: right;\">\n",
       "      <th></th>\n",
       "      <th>market_id</th>\n",
       "      <th>created_at</th>\n",
       "      <th>actual_delivery_time</th>\n",
       "      <th>store_id</th>\n",
       "      <th>store_primary_category</th>\n",
       "      <th>order_protocol</th>\n",
       "      <th>total_items</th>\n",
       "      <th>subtotal</th>\n",
       "      <th>num_distinct_items</th>\n",
       "      <th>min_item_price</th>\n",
       "      <th>max_item_price</th>\n",
       "      <th>total_onshift_partners</th>\n",
       "      <th>total_busy_partners</th>\n",
       "      <th>total_outstanding_orders</th>\n",
       "    </tr>\n",
       "  </thead>\n",
       "  <tbody>\n",
       "    <tr>\n",
       "      <th>0</th>\n",
       "      <td>1.00</td>\n",
       "      <td>2015-02-06 22:24:17</td>\n",
       "      <td>2015-02-06 23:27:16</td>\n",
       "      <td>df263d996281d984952c07998dc54358</td>\n",
       "      <td>american</td>\n",
       "      <td>1.00</td>\n",
       "      <td>4</td>\n",
       "      <td>3441</td>\n",
       "      <td>4</td>\n",
       "      <td>557</td>\n",
       "      <td>1239</td>\n",
       "      <td>33.00</td>\n",
       "      <td>14.00</td>\n",
       "      <td>21.00</td>\n",
       "    </tr>\n",
       "    <tr>\n",
       "      <th>1</th>\n",
       "      <td>2.00</td>\n",
       "      <td>2015-02-10 21:49:25</td>\n",
       "      <td>2015-02-10 22:56:29</td>\n",
       "      <td>f0ade77b43923b38237db569b016ba25</td>\n",
       "      <td>mexican</td>\n",
       "      <td>2.00</td>\n",
       "      <td>1</td>\n",
       "      <td>1900</td>\n",
       "      <td>1</td>\n",
       "      <td>1400</td>\n",
       "      <td>1400</td>\n",
       "      <td>1.00</td>\n",
       "      <td>2.00</td>\n",
       "      <td>2.00</td>\n",
       "    </tr>\n",
       "    <tr>\n",
       "      <th>8</th>\n",
       "      <td>2.00</td>\n",
       "      <td>2015-02-16 00:11:35</td>\n",
       "      <td>2015-02-16 00:38:01</td>\n",
       "      <td>f0ade77b43923b38237db569b016ba25</td>\n",
       "      <td>indian</td>\n",
       "      <td>3.00</td>\n",
       "      <td>4</td>\n",
       "      <td>4771</td>\n",
       "      <td>3</td>\n",
       "      <td>820</td>\n",
       "      <td>1604</td>\n",
       "      <td>8.00</td>\n",
       "      <td>6.00</td>\n",
       "      <td>18.00</td>\n",
       "    </tr>\n",
       "    <tr>\n",
       "      <th>14</th>\n",
       "      <td>1.00</td>\n",
       "      <td>2015-02-12 03:36:46</td>\n",
       "      <td>2015-02-12 04:14:39</td>\n",
       "      <td>ef1e491a766ce3127556063d49bc2f98</td>\n",
       "      <td>italian</td>\n",
       "      <td>1.00</td>\n",
       "      <td>1</td>\n",
       "      <td>1525</td>\n",
       "      <td>1</td>\n",
       "      <td>1525</td>\n",
       "      <td>1525</td>\n",
       "      <td>5.00</td>\n",
       "      <td>6.00</td>\n",
       "      <td>8.00</td>\n",
       "    </tr>\n",
       "    <tr>\n",
       "      <th>15</th>\n",
       "      <td>1.00</td>\n",
       "      <td>2015-01-27 02:12:36</td>\n",
       "      <td>2015-01-27 03:02:24</td>\n",
       "      <td>ef1e491a766ce3127556063d49bc2f98</td>\n",
       "      <td>italian</td>\n",
       "      <td>1.00</td>\n",
       "      <td>2</td>\n",
       "      <td>3620</td>\n",
       "      <td>2</td>\n",
       "      <td>1425</td>\n",
       "      <td>2195</td>\n",
       "      <td>5.00</td>\n",
       "      <td>5.00</td>\n",
       "      <td>7.00</td>\n",
       "    </tr>\n",
       "    <tr>\n",
       "      <th>...</th>\n",
       "      <td>...</td>\n",
       "      <td>...</td>\n",
       "      <td>...</td>\n",
       "      <td>...</td>\n",
       "      <td>...</td>\n",
       "      <td>...</td>\n",
       "      <td>...</td>\n",
       "      <td>...</td>\n",
       "      <td>...</td>\n",
       "      <td>...</td>\n",
       "      <td>...</td>\n",
       "      <td>...</td>\n",
       "      <td>...</td>\n",
       "      <td>...</td>\n",
       "    </tr>\n",
       "    <tr>\n",
       "      <th>197423</th>\n",
       "      <td>1.00</td>\n",
       "      <td>2015-02-17 00:19:41</td>\n",
       "      <td>2015-02-17 01:24:48</td>\n",
       "      <td>a914ecef9c12ffdb9bede64bb703d877</td>\n",
       "      <td>fast</td>\n",
       "      <td>4.00</td>\n",
       "      <td>3</td>\n",
       "      <td>1389</td>\n",
       "      <td>3</td>\n",
       "      <td>345</td>\n",
       "      <td>649</td>\n",
       "      <td>17.00</td>\n",
       "      <td>17.00</td>\n",
       "      <td>23.00</td>\n",
       "    </tr>\n",
       "    <tr>\n",
       "      <th>197424</th>\n",
       "      <td>1.00</td>\n",
       "      <td>2015-02-13 00:01:59</td>\n",
       "      <td>2015-02-13 00:58:22</td>\n",
       "      <td>a914ecef9c12ffdb9bede64bb703d877</td>\n",
       "      <td>fast</td>\n",
       "      <td>4.00</td>\n",
       "      <td>6</td>\n",
       "      <td>3010</td>\n",
       "      <td>4</td>\n",
       "      <td>405</td>\n",
       "      <td>825</td>\n",
       "      <td>12.00</td>\n",
       "      <td>11.00</td>\n",
       "      <td>14.00</td>\n",
       "    </tr>\n",
       "    <tr>\n",
       "      <th>197425</th>\n",
       "      <td>1.00</td>\n",
       "      <td>2015-01-24 04:46:08</td>\n",
       "      <td>2015-01-24 05:36:16</td>\n",
       "      <td>a914ecef9c12ffdb9bede64bb703d877</td>\n",
       "      <td>fast</td>\n",
       "      <td>4.00</td>\n",
       "      <td>5</td>\n",
       "      <td>1836</td>\n",
       "      <td>3</td>\n",
       "      <td>300</td>\n",
       "      <td>399</td>\n",
       "      <td>39.00</td>\n",
       "      <td>41.00</td>\n",
       "      <td>40.00</td>\n",
       "    </tr>\n",
       "    <tr>\n",
       "      <th>197426</th>\n",
       "      <td>1.00</td>\n",
       "      <td>2015-02-01 18:18:15</td>\n",
       "      <td>2015-02-01 19:23:22</td>\n",
       "      <td>c81e155d85dae5430a8cee6f2242e82c</td>\n",
       "      <td>sandwich</td>\n",
       "      <td>1.00</td>\n",
       "      <td>1</td>\n",
       "      <td>1175</td>\n",
       "      <td>1</td>\n",
       "      <td>535</td>\n",
       "      <td>535</td>\n",
       "      <td>7.00</td>\n",
       "      <td>7.00</td>\n",
       "      <td>12.00</td>\n",
       "    </tr>\n",
       "    <tr>\n",
       "      <th>197427</th>\n",
       "      <td>1.00</td>\n",
       "      <td>2015-02-08 19:24:33</td>\n",
       "      <td>2015-02-08 20:01:41</td>\n",
       "      <td>c81e155d85dae5430a8cee6f2242e82c</td>\n",
       "      <td>sandwich</td>\n",
       "      <td>1.00</td>\n",
       "      <td>4</td>\n",
       "      <td>2605</td>\n",
       "      <td>4</td>\n",
       "      <td>425</td>\n",
       "      <td>750</td>\n",
       "      <td>20.00</td>\n",
       "      <td>20.00</td>\n",
       "      <td>23.00</td>\n",
       "    </tr>\n",
       "  </tbody>\n",
       "</table>\n",
       "<p>176248 rows × 14 columns</p>\n",
       "</div>"
      ],
      "text/plain": [
       "        market_id           created_at actual_delivery_time  \\\n",
       "0            1.00  2015-02-06 22:24:17  2015-02-06 23:27:16   \n",
       "1            2.00  2015-02-10 21:49:25  2015-02-10 22:56:29   \n",
       "8            2.00  2015-02-16 00:11:35  2015-02-16 00:38:01   \n",
       "14           1.00  2015-02-12 03:36:46  2015-02-12 04:14:39   \n",
       "15           1.00  2015-01-27 02:12:36  2015-01-27 03:02:24   \n",
       "...           ...                  ...                  ...   \n",
       "197423       1.00  2015-02-17 00:19:41  2015-02-17 01:24:48   \n",
       "197424       1.00  2015-02-13 00:01:59  2015-02-13 00:58:22   \n",
       "197425       1.00  2015-01-24 04:46:08  2015-01-24 05:36:16   \n",
       "197426       1.00  2015-02-01 18:18:15  2015-02-01 19:23:22   \n",
       "197427       1.00  2015-02-08 19:24:33  2015-02-08 20:01:41   \n",
       "\n",
       "                                store_id store_primary_category  \\\n",
       "0       df263d996281d984952c07998dc54358               american   \n",
       "1       f0ade77b43923b38237db569b016ba25                mexican   \n",
       "8       f0ade77b43923b38237db569b016ba25                 indian   \n",
       "14      ef1e491a766ce3127556063d49bc2f98                italian   \n",
       "15      ef1e491a766ce3127556063d49bc2f98                italian   \n",
       "...                                  ...                    ...   \n",
       "197423  a914ecef9c12ffdb9bede64bb703d877                   fast   \n",
       "197424  a914ecef9c12ffdb9bede64bb703d877                   fast   \n",
       "197425  a914ecef9c12ffdb9bede64bb703d877                   fast   \n",
       "197426  c81e155d85dae5430a8cee6f2242e82c               sandwich   \n",
       "197427  c81e155d85dae5430a8cee6f2242e82c               sandwich   \n",
       "\n",
       "        order_protocol  total_items  subtotal  num_distinct_items  \\\n",
       "0                 1.00            4      3441                   4   \n",
       "1                 2.00            1      1900                   1   \n",
       "8                 3.00            4      4771                   3   \n",
       "14                1.00            1      1525                   1   \n",
       "15                1.00            2      3620                   2   \n",
       "...                ...          ...       ...                 ...   \n",
       "197423            4.00            3      1389                   3   \n",
       "197424            4.00            6      3010                   4   \n",
       "197425            4.00            5      1836                   3   \n",
       "197426            1.00            1      1175                   1   \n",
       "197427            1.00            4      2605                   4   \n",
       "\n",
       "        min_item_price  max_item_price  total_onshift_partners  \\\n",
       "0                  557            1239                   33.00   \n",
       "1                 1400            1400                    1.00   \n",
       "8                  820            1604                    8.00   \n",
       "14                1525            1525                    5.00   \n",
       "15                1425            2195                    5.00   \n",
       "...                ...             ...                     ...   \n",
       "197423             345             649                   17.00   \n",
       "197424             405             825                   12.00   \n",
       "197425             300             399                   39.00   \n",
       "197426             535             535                    7.00   \n",
       "197427             425             750                   20.00   \n",
       "\n",
       "        total_busy_partners  total_outstanding_orders  \n",
       "0                     14.00                     21.00  \n",
       "1                      2.00                      2.00  \n",
       "8                      6.00                     18.00  \n",
       "14                     6.00                      8.00  \n",
       "15                     5.00                      7.00  \n",
       "...                     ...                       ...  \n",
       "197423                17.00                     23.00  \n",
       "197424                11.00                     14.00  \n",
       "197425                41.00                     40.00  \n",
       "197426                 7.00                     12.00  \n",
       "197427                20.00                     23.00  \n",
       "\n",
       "[176248 rows x 14 columns]"
      ]
     },
     "execution_count": 9,
     "metadata": {},
     "output_type": "execute_result"
    }
   ],
   "source": [
    "df.dropna()"
   ]
  },
  {
   "cell_type": "markdown",
   "id": "ccffd010",
   "metadata": {},
   "source": [
    "If we drop null values we lose about 8% of the data, which is a lot and hence let's not do that an impute the mean values."
   ]
  },
  {
   "cell_type": "code",
   "execution_count": 10,
   "id": "481d35f0",
   "metadata": {},
   "outputs": [
    {
     "data": {
      "text/plain": [
       "2.0"
      ]
     },
     "execution_count": 10,
     "metadata": {},
     "output_type": "execute_result"
    }
   ],
   "source": [
    "df['market_id'].value_counts().index[0]"
   ]
  },
  {
   "cell_type": "code",
   "execution_count": 11,
   "id": "b393e794",
   "metadata": {},
   "outputs": [],
   "source": [
    "df['store_primary_category'].fillna(df['store_primary_category'].mode()[0], inplace=True)"
   ]
  },
  {
   "cell_type": "code",
   "execution_count": 12,
   "id": "3341248f",
   "metadata": {},
   "outputs": [],
   "source": [
    "df['order_protocol'].fillna(df['order_protocol'].mode()[0], inplace=True)"
   ]
  },
  {
   "cell_type": "code",
   "execution_count": 13,
   "id": "8fa4baa6",
   "metadata": {},
   "outputs": [
    {
     "data": {
      "text/plain": [
       "0        33.00\n",
       "1         1.00\n",
       "2         1.00\n",
       "3         1.00\n",
       "4         6.00\n",
       "          ... \n",
       "197423   17.00\n",
       "197424   12.00\n",
       "197425   39.00\n",
       "197426    7.00\n",
       "197427   20.00\n",
       "Name: total_onshift_partners, Length: 197428, dtype: float64"
      ]
     },
     "execution_count": 13,
     "metadata": {},
     "output_type": "execute_result"
    }
   ],
   "source": [
    "df['total_onshift_partners']"
   ]
  },
  {
   "cell_type": "code",
   "execution_count": 14,
   "id": "59626c42",
   "metadata": {},
   "outputs": [],
   "source": [
    "df['created_at'] = pd.to_datetime(df['created_at'])\n",
    "df['actual_delivery_time'] = pd.to_datetime(df['actual_delivery_time'])"
   ]
  },
  {
   "cell_type": "code",
   "execution_count": 15,
   "id": "0ca708ff",
   "metadata": {},
   "outputs": [],
   "source": [
    "df['created_hour'] = df['created_at'].dt.hour\n",
    "df['created_dayofweek'] = df['created_at'].dt.dayofweek"
   ]
  },
  {
   "cell_type": "code",
   "execution_count": 16,
   "id": "cef7d300",
   "metadata": {},
   "outputs": [
    {
     "data": {
      "text/plain": [
       "0        20.00\n",
       "1        27.00\n",
       "2        36.00\n",
       "3        27.00\n",
       "4        65.00\n",
       "          ... \n",
       "197423   25.00\n",
       "197424   25.00\n",
       "197425   42.00\n",
       "197426   12.00\n",
       "197427   29.00\n",
       "Name: total_onshift_partners, Length: 197428, dtype: float64"
      ]
     },
     "execution_count": 16,
     "metadata": {},
     "output_type": "execute_result"
    }
   ],
   "source": [
    "df.groupby('created_hour')['total_onshift_partners'].transform('median')"
   ]
  },
  {
   "cell_type": "code",
   "execution_count": 17,
   "id": "762619eb",
   "metadata": {},
   "outputs": [
    {
     "data": {
      "text/html": [
       "<div>\n",
       "<style scoped>\n",
       "    .dataframe tbody tr th:only-of-type {\n",
       "        vertical-align: middle;\n",
       "    }\n",
       "\n",
       "    .dataframe tbody tr th {\n",
       "        vertical-align: top;\n",
       "    }\n",
       "\n",
       "    .dataframe thead th {\n",
       "        text-align: right;\n",
       "    }\n",
       "</style>\n",
       "<table border=\"1\" class=\"dataframe\">\n",
       "  <thead>\n",
       "    <tr style=\"text-align: right;\">\n",
       "      <th></th>\n",
       "      <th>market_id</th>\n",
       "      <th>created_at</th>\n",
       "      <th>actual_delivery_time</th>\n",
       "      <th>order_protocol</th>\n",
       "      <th>total_items</th>\n",
       "      <th>subtotal</th>\n",
       "      <th>num_distinct_items</th>\n",
       "      <th>min_item_price</th>\n",
       "      <th>max_item_price</th>\n",
       "      <th>total_onshift_partners</th>\n",
       "      <th>total_busy_partners</th>\n",
       "      <th>total_outstanding_orders</th>\n",
       "    </tr>\n",
       "  </thead>\n",
       "  <tbody>\n",
       "    <tr>\n",
       "      <th>0</th>\n",
       "      <td>3.00</td>\n",
       "      <td>2015-02-06 22:05:08.000</td>\n",
       "      <td>2015-02-06 22:43:36.000</td>\n",
       "      <td>3.00</td>\n",
       "      <td>2.00</td>\n",
       "      <td>1682.50</td>\n",
       "      <td>2.00</td>\n",
       "      <td>550.00</td>\n",
       "      <td>949.00</td>\n",
       "      <td>19.00</td>\n",
       "      <td>15.00</td>\n",
       "      <td>17.00</td>\n",
       "    </tr>\n",
       "    <tr>\n",
       "      <th>1</th>\n",
       "      <td>3.00</td>\n",
       "      <td>2015-02-10 21:00:15.000</td>\n",
       "      <td>2015-02-10 21:24:34.000</td>\n",
       "      <td>3.00</td>\n",
       "      <td>2.00</td>\n",
       "      <td>1622.50</td>\n",
       "      <td>2.00</td>\n",
       "      <td>650.00</td>\n",
       "      <td>975.00</td>\n",
       "      <td>25.00</td>\n",
       "      <td>22.00</td>\n",
       "      <td>24.00</td>\n",
       "    </tr>\n",
       "    <tr>\n",
       "      <th>2</th>\n",
       "      <td>3.00</td>\n",
       "      <td>2015-02-05 20:05:47.500</td>\n",
       "      <td>2015-02-05 20:42:51.500</td>\n",
       "      <td>3.00</td>\n",
       "      <td>2.00</td>\n",
       "      <td>1670.00</td>\n",
       "      <td>2.00</td>\n",
       "      <td>600.00</td>\n",
       "      <td>984.50</td>\n",
       "      <td>39.00</td>\n",
       "      <td>36.00</td>\n",
       "      <td>46.00</td>\n",
       "    </tr>\n",
       "    <tr>\n",
       "      <th>3</th>\n",
       "      <td>3.00</td>\n",
       "      <td>2015-02-10 21:00:15.000</td>\n",
       "      <td>2015-02-10 21:24:34.000</td>\n",
       "      <td>3.00</td>\n",
       "      <td>2.00</td>\n",
       "      <td>1622.50</td>\n",
       "      <td>2.00</td>\n",
       "      <td>650.00</td>\n",
       "      <td>975.00</td>\n",
       "      <td>25.00</td>\n",
       "      <td>22.00</td>\n",
       "      <td>24.00</td>\n",
       "    </tr>\n",
       "    <tr>\n",
       "      <th>4</th>\n",
       "      <td>3.00</td>\n",
       "      <td>2015-02-08 02:08:09.000</td>\n",
       "      <td>2015-02-08 02:54:54.500</td>\n",
       "      <td>3.00</td>\n",
       "      <td>3.00</td>\n",
       "      <td>2845.00</td>\n",
       "      <td>3.00</td>\n",
       "      <td>595.00</td>\n",
       "      <td>1199.00</td>\n",
       "      <td>67.00</td>\n",
       "      <td>64.00</td>\n",
       "      <td>96.00</td>\n",
       "    </tr>\n",
       "    <tr>\n",
       "      <th>...</th>\n",
       "      <td>...</td>\n",
       "      <td>...</td>\n",
       "      <td>...</td>\n",
       "      <td>...</td>\n",
       "      <td>...</td>\n",
       "      <td>...</td>\n",
       "      <td>...</td>\n",
       "      <td>...</td>\n",
       "      <td>...</td>\n",
       "      <td>...</td>\n",
       "      <td>...</td>\n",
       "      <td>...</td>\n",
       "    </tr>\n",
       "    <tr>\n",
       "      <th>197423</th>\n",
       "      <td>3.00</td>\n",
       "      <td>2015-02-03 00:57:42.500</td>\n",
       "      <td>2015-02-03 01:57:25.000</td>\n",
       "      <td>3.00</td>\n",
       "      <td>3.00</td>\n",
       "      <td>2281.00</td>\n",
       "      <td>2.00</td>\n",
       "      <td>550.00</td>\n",
       "      <td>1022.50</td>\n",
       "      <td>18.00</td>\n",
       "      <td>18.00</td>\n",
       "      <td>20.00</td>\n",
       "    </tr>\n",
       "    <tr>\n",
       "      <th>197424</th>\n",
       "      <td>3.00</td>\n",
       "      <td>2015-02-06 00:04:46.000</td>\n",
       "      <td>2015-02-06 00:39:50.000</td>\n",
       "      <td>3.00</td>\n",
       "      <td>3.00</td>\n",
       "      <td>2285.00</td>\n",
       "      <td>2.00</td>\n",
       "      <td>599.00</td>\n",
       "      <td>1095.00</td>\n",
       "      <td>23.00</td>\n",
       "      <td>18.00</td>\n",
       "      <td>20.00</td>\n",
       "    </tr>\n",
       "    <tr>\n",
       "      <th>197425</th>\n",
       "      <td>3.00</td>\n",
       "      <td>2015-02-07 04:06:03.000</td>\n",
       "      <td>2015-02-07 04:52:10.000</td>\n",
       "      <td>3.00</td>\n",
       "      <td>3.00</td>\n",
       "      <td>2385.00</td>\n",
       "      <td>2.00</td>\n",
       "      <td>600.00</td>\n",
       "      <td>1150.00</td>\n",
       "      <td>51.00</td>\n",
       "      <td>51.00</td>\n",
       "      <td>77.00</td>\n",
       "    </tr>\n",
       "    <tr>\n",
       "      <th>197426</th>\n",
       "      <td>3.00</td>\n",
       "      <td>2015-02-08 18:08:56.000</td>\n",
       "      <td>2015-02-08 18:46:15.500</td>\n",
       "      <td>3.00</td>\n",
       "      <td>3.00</td>\n",
       "      <td>1920.00</td>\n",
       "      <td>2.00</td>\n",
       "      <td>500.00</td>\n",
       "      <td>995.00</td>\n",
       "      <td>13.00</td>\n",
       "      <td>13.00</td>\n",
       "      <td>14.00</td>\n",
       "    </tr>\n",
       "    <tr>\n",
       "      <th>197427</th>\n",
       "      <td>3.00</td>\n",
       "      <td>2015-02-08 19:17:35.000</td>\n",
       "      <td>2015-02-08 19:53:38.000</td>\n",
       "      <td>3.00</td>\n",
       "      <td>3.00</td>\n",
       "      <td>2040.00</td>\n",
       "      <td>2.00</td>\n",
       "      <td>549.00</td>\n",
       "      <td>995.00</td>\n",
       "      <td>22.50</td>\n",
       "      <td>20.00</td>\n",
       "      <td>23.00</td>\n",
       "    </tr>\n",
       "  </tbody>\n",
       "</table>\n",
       "<p>197428 rows × 12 columns</p>\n",
       "</div>"
      ],
      "text/plain": [
       "        market_id              created_at    actual_delivery_time  \\\n",
       "0            3.00 2015-02-06 22:05:08.000 2015-02-06 22:43:36.000   \n",
       "1            3.00 2015-02-10 21:00:15.000 2015-02-10 21:24:34.000   \n",
       "2            3.00 2015-02-05 20:05:47.500 2015-02-05 20:42:51.500   \n",
       "3            3.00 2015-02-10 21:00:15.000 2015-02-10 21:24:34.000   \n",
       "4            3.00 2015-02-08 02:08:09.000 2015-02-08 02:54:54.500   \n",
       "...           ...                     ...                     ...   \n",
       "197423       3.00 2015-02-03 00:57:42.500 2015-02-03 01:57:25.000   \n",
       "197424       3.00 2015-02-06 00:04:46.000 2015-02-06 00:39:50.000   \n",
       "197425       3.00 2015-02-07 04:06:03.000 2015-02-07 04:52:10.000   \n",
       "197426       3.00 2015-02-08 18:08:56.000 2015-02-08 18:46:15.500   \n",
       "197427       3.00 2015-02-08 19:17:35.000 2015-02-08 19:53:38.000   \n",
       "\n",
       "        order_protocol  total_items  subtotal  num_distinct_items  \\\n",
       "0                 3.00         2.00   1682.50                2.00   \n",
       "1                 3.00         2.00   1622.50                2.00   \n",
       "2                 3.00         2.00   1670.00                2.00   \n",
       "3                 3.00         2.00   1622.50                2.00   \n",
       "4                 3.00         3.00   2845.00                3.00   \n",
       "...                ...          ...       ...                 ...   \n",
       "197423            3.00         3.00   2281.00                2.00   \n",
       "197424            3.00         3.00   2285.00                2.00   \n",
       "197425            3.00         3.00   2385.00                2.00   \n",
       "197426            3.00         3.00   1920.00                2.00   \n",
       "197427            3.00         3.00   2040.00                2.00   \n",
       "\n",
       "        min_item_price  max_item_price  total_onshift_partners  \\\n",
       "0               550.00          949.00                   19.00   \n",
       "1               650.00          975.00                   25.00   \n",
       "2               600.00          984.50                   39.00   \n",
       "3               650.00          975.00                   25.00   \n",
       "4               595.00         1199.00                   67.00   \n",
       "...                ...             ...                     ...   \n",
       "197423          550.00         1022.50                   18.00   \n",
       "197424          599.00         1095.00                   23.00   \n",
       "197425          600.00         1150.00                   51.00   \n",
       "197426          500.00          995.00                   13.00   \n",
       "197427          549.00          995.00                   22.50   \n",
       "\n",
       "        total_busy_partners  total_outstanding_orders  \n",
       "0                     15.00                     17.00  \n",
       "1                     22.00                     24.00  \n",
       "2                     36.00                     46.00  \n",
       "3                     22.00                     24.00  \n",
       "4                     64.00                     96.00  \n",
       "...                     ...                       ...  \n",
       "197423                18.00                     20.00  \n",
       "197424                18.00                     20.00  \n",
       "197425                51.00                     77.00  \n",
       "197426                13.00                     14.00  \n",
       "197427                20.00                     23.00  \n",
       "\n",
       "[197428 rows x 12 columns]"
      ]
     },
     "execution_count": 17,
     "metadata": {},
     "output_type": "execute_result"
    }
   ],
   "source": [
    "df.groupby(by = ['created_hour', 'created_dayofweek']).transform('median')"
   ]
  },
  {
   "cell_type": "code",
   "execution_count": 18,
   "id": "8cf32a51",
   "metadata": {},
   "outputs": [],
   "source": [
    "def fill(df, value):\n",
    "    df[value] = df[value].fillna(df.groupby(by = ['created_hour', 'created_dayofweek'])[value].transform('median'))"
   ]
  },
  {
   "cell_type": "code",
   "execution_count": 19,
   "id": "2f31eed4",
   "metadata": {},
   "outputs": [],
   "source": [
    "values = ['total_onshift_partners', 'total_busy_partners', 'total_outstanding_orders']\n",
    "for value in values:\n",
    "    fill(df, value)"
   ]
  },
  {
   "cell_type": "code",
   "execution_count": 20,
   "id": "60f0fcc3",
   "metadata": {},
   "outputs": [
    {
     "data": {
      "text/plain": [
       "market_id                   987\n",
       "created_at                    0\n",
       "actual_delivery_time          7\n",
       "store_id                      0\n",
       "store_primary_category        0\n",
       "order_protocol                0\n",
       "total_items                   0\n",
       "subtotal                      0\n",
       "num_distinct_items            0\n",
       "min_item_price                0\n",
       "max_item_price                0\n",
       "total_onshift_partners        0\n",
       "total_busy_partners           0\n",
       "total_outstanding_orders      0\n",
       "created_hour                  0\n",
       "created_dayofweek             0\n",
       "dtype: int64"
      ]
     },
     "execution_count": 20,
     "metadata": {},
     "output_type": "execute_result"
    }
   ],
   "source": [
    "df.isna().sum()"
   ]
  },
  {
   "cell_type": "code",
   "execution_count": 21,
   "id": "0b2eb76d",
   "metadata": {},
   "outputs": [],
   "source": [
    "df['market_id'].fillna(df['market_id'].value_counts().idxmax(), inplace=True)"
   ]
  },
  {
   "cell_type": "code",
   "execution_count": 22,
   "id": "d0328c8a",
   "metadata": {},
   "outputs": [
    {
     "name": "stdout",
     "output_type": "stream",
     "text": [
      "<class 'pandas.core.frame.DataFrame'>\n",
      "RangeIndex: 197428 entries, 0 to 197427\n",
      "Data columns (total 16 columns):\n",
      " #   Column                    Non-Null Count   Dtype         \n",
      "---  ------                    --------------   -----         \n",
      " 0   market_id                 197428 non-null  float64       \n",
      " 1   created_at                197428 non-null  datetime64[ns]\n",
      " 2   actual_delivery_time      197421 non-null  datetime64[ns]\n",
      " 3   store_id                  197428 non-null  object        \n",
      " 4   store_primary_category    197428 non-null  object        \n",
      " 5   order_protocol            197428 non-null  float64       \n",
      " 6   total_items               197428 non-null  int64         \n",
      " 7   subtotal                  197428 non-null  int64         \n",
      " 8   num_distinct_items        197428 non-null  int64         \n",
      " 9   min_item_price            197428 non-null  int64         \n",
      " 10  max_item_price            197428 non-null  int64         \n",
      " 11  total_onshift_partners    197428 non-null  float64       \n",
      " 12  total_busy_partners       197428 non-null  float64       \n",
      " 13  total_outstanding_orders  197428 non-null  float64       \n",
      " 14  created_hour              197428 non-null  int64         \n",
      " 15  created_dayofweek         197428 non-null  int64         \n",
      "dtypes: datetime64[ns](2), float64(5), int64(7), object(2)\n",
      "memory usage: 24.1+ MB\n"
     ]
    }
   ],
   "source": [
    "df.info()"
   ]
  },
  {
   "cell_type": "code",
   "execution_count": 23,
   "id": "ab5aaf2f",
   "metadata": {},
   "outputs": [],
   "source": [
    "df.dropna(inplace=True)"
   ]
  },
  {
   "cell_type": "code",
   "execution_count": 24,
   "id": "1b53f31c",
   "metadata": {},
   "outputs": [],
   "source": [
    "df.reset_index(drop=True, inplace=True)"
   ]
  },
  {
   "cell_type": "code",
   "execution_count": 25,
   "id": "3130d249",
   "metadata": {},
   "outputs": [
    {
     "data": {
      "text/html": [
       "<div>\n",
       "<style scoped>\n",
       "    .dataframe tbody tr th:only-of-type {\n",
       "        vertical-align: middle;\n",
       "    }\n",
       "\n",
       "    .dataframe tbody tr th {\n",
       "        vertical-align: top;\n",
       "    }\n",
       "\n",
       "    .dataframe thead th {\n",
       "        text-align: right;\n",
       "    }\n",
       "</style>\n",
       "<table border=\"1\" class=\"dataframe\">\n",
       "  <thead>\n",
       "    <tr style=\"text-align: right;\">\n",
       "      <th></th>\n",
       "      <th>market_id</th>\n",
       "      <th>created_at</th>\n",
       "      <th>actual_delivery_time</th>\n",
       "      <th>store_id</th>\n",
       "      <th>store_primary_category</th>\n",
       "      <th>order_protocol</th>\n",
       "      <th>total_items</th>\n",
       "      <th>subtotal</th>\n",
       "      <th>num_distinct_items</th>\n",
       "      <th>min_item_price</th>\n",
       "      <th>max_item_price</th>\n",
       "      <th>total_onshift_partners</th>\n",
       "      <th>total_busy_partners</th>\n",
       "      <th>total_outstanding_orders</th>\n",
       "      <th>created_hour</th>\n",
       "      <th>created_dayofweek</th>\n",
       "    </tr>\n",
       "  </thead>\n",
       "  <tbody>\n",
       "    <tr>\n",
       "      <th>0</th>\n",
       "      <td>1.00</td>\n",
       "      <td>2015-02-06 22:24:17</td>\n",
       "      <td>2015-02-06 23:27:16</td>\n",
       "      <td>df263d996281d984952c07998dc54358</td>\n",
       "      <td>american</td>\n",
       "      <td>1.00</td>\n",
       "      <td>4</td>\n",
       "      <td>3441</td>\n",
       "      <td>4</td>\n",
       "      <td>557</td>\n",
       "      <td>1239</td>\n",
       "      <td>33.00</td>\n",
       "      <td>14.00</td>\n",
       "      <td>21.00</td>\n",
       "      <td>22</td>\n",
       "      <td>4</td>\n",
       "    </tr>\n",
       "    <tr>\n",
       "      <th>1</th>\n",
       "      <td>2.00</td>\n",
       "      <td>2015-02-10 21:49:25</td>\n",
       "      <td>2015-02-10 22:56:29</td>\n",
       "      <td>f0ade77b43923b38237db569b016ba25</td>\n",
       "      <td>mexican</td>\n",
       "      <td>2.00</td>\n",
       "      <td>1</td>\n",
       "      <td>1900</td>\n",
       "      <td>1</td>\n",
       "      <td>1400</td>\n",
       "      <td>1400</td>\n",
       "      <td>1.00</td>\n",
       "      <td>2.00</td>\n",
       "      <td>2.00</td>\n",
       "      <td>21</td>\n",
       "      <td>1</td>\n",
       "    </tr>\n",
       "    <tr>\n",
       "      <th>2</th>\n",
       "      <td>3.00</td>\n",
       "      <td>2015-01-22 20:39:28</td>\n",
       "      <td>2015-01-22 21:09:09</td>\n",
       "      <td>f0ade77b43923b38237db569b016ba25</td>\n",
       "      <td>american</td>\n",
       "      <td>1.00</td>\n",
       "      <td>1</td>\n",
       "      <td>1900</td>\n",
       "      <td>1</td>\n",
       "      <td>1900</td>\n",
       "      <td>1900</td>\n",
       "      <td>1.00</td>\n",
       "      <td>0.00</td>\n",
       "      <td>0.00</td>\n",
       "      <td>20</td>\n",
       "      <td>3</td>\n",
       "    </tr>\n",
       "    <tr>\n",
       "      <th>3</th>\n",
       "      <td>3.00</td>\n",
       "      <td>2015-02-03 21:21:45</td>\n",
       "      <td>2015-02-03 22:13:00</td>\n",
       "      <td>f0ade77b43923b38237db569b016ba25</td>\n",
       "      <td>american</td>\n",
       "      <td>1.00</td>\n",
       "      <td>6</td>\n",
       "      <td>6900</td>\n",
       "      <td>5</td>\n",
       "      <td>600</td>\n",
       "      <td>1800</td>\n",
       "      <td>1.00</td>\n",
       "      <td>1.00</td>\n",
       "      <td>2.00</td>\n",
       "      <td>21</td>\n",
       "      <td>1</td>\n",
       "    </tr>\n",
       "    <tr>\n",
       "      <th>4</th>\n",
       "      <td>3.00</td>\n",
       "      <td>2015-02-15 02:40:36</td>\n",
       "      <td>2015-02-15 03:20:26</td>\n",
       "      <td>f0ade77b43923b38237db569b016ba25</td>\n",
       "      <td>american</td>\n",
       "      <td>1.00</td>\n",
       "      <td>3</td>\n",
       "      <td>3900</td>\n",
       "      <td>3</td>\n",
       "      <td>1100</td>\n",
       "      <td>1600</td>\n",
       "      <td>6.00</td>\n",
       "      <td>6.00</td>\n",
       "      <td>9.00</td>\n",
       "      <td>2</td>\n",
       "      <td>6</td>\n",
       "    </tr>\n",
       "    <tr>\n",
       "      <th>...</th>\n",
       "      <td>...</td>\n",
       "      <td>...</td>\n",
       "      <td>...</td>\n",
       "      <td>...</td>\n",
       "      <td>...</td>\n",
       "      <td>...</td>\n",
       "      <td>...</td>\n",
       "      <td>...</td>\n",
       "      <td>...</td>\n",
       "      <td>...</td>\n",
       "      <td>...</td>\n",
       "      <td>...</td>\n",
       "      <td>...</td>\n",
       "      <td>...</td>\n",
       "      <td>...</td>\n",
       "      <td>...</td>\n",
       "    </tr>\n",
       "    <tr>\n",
       "      <th>197416</th>\n",
       "      <td>1.00</td>\n",
       "      <td>2015-02-17 00:19:41</td>\n",
       "      <td>2015-02-17 01:24:48</td>\n",
       "      <td>a914ecef9c12ffdb9bede64bb703d877</td>\n",
       "      <td>fast</td>\n",
       "      <td>4.00</td>\n",
       "      <td>3</td>\n",
       "      <td>1389</td>\n",
       "      <td>3</td>\n",
       "      <td>345</td>\n",
       "      <td>649</td>\n",
       "      <td>17.00</td>\n",
       "      <td>17.00</td>\n",
       "      <td>23.00</td>\n",
       "      <td>0</td>\n",
       "      <td>1</td>\n",
       "    </tr>\n",
       "    <tr>\n",
       "      <th>197417</th>\n",
       "      <td>1.00</td>\n",
       "      <td>2015-02-13 00:01:59</td>\n",
       "      <td>2015-02-13 00:58:22</td>\n",
       "      <td>a914ecef9c12ffdb9bede64bb703d877</td>\n",
       "      <td>fast</td>\n",
       "      <td>4.00</td>\n",
       "      <td>6</td>\n",
       "      <td>3010</td>\n",
       "      <td>4</td>\n",
       "      <td>405</td>\n",
       "      <td>825</td>\n",
       "      <td>12.00</td>\n",
       "      <td>11.00</td>\n",
       "      <td>14.00</td>\n",
       "      <td>0</td>\n",
       "      <td>4</td>\n",
       "    </tr>\n",
       "    <tr>\n",
       "      <th>197418</th>\n",
       "      <td>1.00</td>\n",
       "      <td>2015-01-24 04:46:08</td>\n",
       "      <td>2015-01-24 05:36:16</td>\n",
       "      <td>a914ecef9c12ffdb9bede64bb703d877</td>\n",
       "      <td>fast</td>\n",
       "      <td>4.00</td>\n",
       "      <td>5</td>\n",
       "      <td>1836</td>\n",
       "      <td>3</td>\n",
       "      <td>300</td>\n",
       "      <td>399</td>\n",
       "      <td>39.00</td>\n",
       "      <td>41.00</td>\n",
       "      <td>40.00</td>\n",
       "      <td>4</td>\n",
       "      <td>5</td>\n",
       "    </tr>\n",
       "    <tr>\n",
       "      <th>197419</th>\n",
       "      <td>1.00</td>\n",
       "      <td>2015-02-01 18:18:15</td>\n",
       "      <td>2015-02-01 19:23:22</td>\n",
       "      <td>c81e155d85dae5430a8cee6f2242e82c</td>\n",
       "      <td>sandwich</td>\n",
       "      <td>1.00</td>\n",
       "      <td>1</td>\n",
       "      <td>1175</td>\n",
       "      <td>1</td>\n",
       "      <td>535</td>\n",
       "      <td>535</td>\n",
       "      <td>7.00</td>\n",
       "      <td>7.00</td>\n",
       "      <td>12.00</td>\n",
       "      <td>18</td>\n",
       "      <td>6</td>\n",
       "    </tr>\n",
       "    <tr>\n",
       "      <th>197420</th>\n",
       "      <td>1.00</td>\n",
       "      <td>2015-02-08 19:24:33</td>\n",
       "      <td>2015-02-08 20:01:41</td>\n",
       "      <td>c81e155d85dae5430a8cee6f2242e82c</td>\n",
       "      <td>sandwich</td>\n",
       "      <td>1.00</td>\n",
       "      <td>4</td>\n",
       "      <td>2605</td>\n",
       "      <td>4</td>\n",
       "      <td>425</td>\n",
       "      <td>750</td>\n",
       "      <td>20.00</td>\n",
       "      <td>20.00</td>\n",
       "      <td>23.00</td>\n",
       "      <td>19</td>\n",
       "      <td>6</td>\n",
       "    </tr>\n",
       "  </tbody>\n",
       "</table>\n",
       "<p>197421 rows × 16 columns</p>\n",
       "</div>"
      ],
      "text/plain": [
       "        market_id          created_at actual_delivery_time  \\\n",
       "0            1.00 2015-02-06 22:24:17  2015-02-06 23:27:16   \n",
       "1            2.00 2015-02-10 21:49:25  2015-02-10 22:56:29   \n",
       "2            3.00 2015-01-22 20:39:28  2015-01-22 21:09:09   \n",
       "3            3.00 2015-02-03 21:21:45  2015-02-03 22:13:00   \n",
       "4            3.00 2015-02-15 02:40:36  2015-02-15 03:20:26   \n",
       "...           ...                 ...                  ...   \n",
       "197416       1.00 2015-02-17 00:19:41  2015-02-17 01:24:48   \n",
       "197417       1.00 2015-02-13 00:01:59  2015-02-13 00:58:22   \n",
       "197418       1.00 2015-01-24 04:46:08  2015-01-24 05:36:16   \n",
       "197419       1.00 2015-02-01 18:18:15  2015-02-01 19:23:22   \n",
       "197420       1.00 2015-02-08 19:24:33  2015-02-08 20:01:41   \n",
       "\n",
       "                                store_id store_primary_category  \\\n",
       "0       df263d996281d984952c07998dc54358               american   \n",
       "1       f0ade77b43923b38237db569b016ba25                mexican   \n",
       "2       f0ade77b43923b38237db569b016ba25               american   \n",
       "3       f0ade77b43923b38237db569b016ba25               american   \n",
       "4       f0ade77b43923b38237db569b016ba25               american   \n",
       "...                                  ...                    ...   \n",
       "197416  a914ecef9c12ffdb9bede64bb703d877                   fast   \n",
       "197417  a914ecef9c12ffdb9bede64bb703d877                   fast   \n",
       "197418  a914ecef9c12ffdb9bede64bb703d877                   fast   \n",
       "197419  c81e155d85dae5430a8cee6f2242e82c               sandwich   \n",
       "197420  c81e155d85dae5430a8cee6f2242e82c               sandwich   \n",
       "\n",
       "        order_protocol  total_items  subtotal  num_distinct_items  \\\n",
       "0                 1.00            4      3441                   4   \n",
       "1                 2.00            1      1900                   1   \n",
       "2                 1.00            1      1900                   1   \n",
       "3                 1.00            6      6900                   5   \n",
       "4                 1.00            3      3900                   3   \n",
       "...                ...          ...       ...                 ...   \n",
       "197416            4.00            3      1389                   3   \n",
       "197417            4.00            6      3010                   4   \n",
       "197418            4.00            5      1836                   3   \n",
       "197419            1.00            1      1175                   1   \n",
       "197420            1.00            4      2605                   4   \n",
       "\n",
       "        min_item_price  max_item_price  total_onshift_partners  \\\n",
       "0                  557            1239                   33.00   \n",
       "1                 1400            1400                    1.00   \n",
       "2                 1900            1900                    1.00   \n",
       "3                  600            1800                    1.00   \n",
       "4                 1100            1600                    6.00   \n",
       "...                ...             ...                     ...   \n",
       "197416             345             649                   17.00   \n",
       "197417             405             825                   12.00   \n",
       "197418             300             399                   39.00   \n",
       "197419             535             535                    7.00   \n",
       "197420             425             750                   20.00   \n",
       "\n",
       "        total_busy_partners  total_outstanding_orders  created_hour  \\\n",
       "0                     14.00                     21.00            22   \n",
       "1                      2.00                      2.00            21   \n",
       "2                      0.00                      0.00            20   \n",
       "3                      1.00                      2.00            21   \n",
       "4                      6.00                      9.00             2   \n",
       "...                     ...                       ...           ...   \n",
       "197416                17.00                     23.00             0   \n",
       "197417                11.00                     14.00             0   \n",
       "197418                41.00                     40.00             4   \n",
       "197419                 7.00                     12.00            18   \n",
       "197420                20.00                     23.00            19   \n",
       "\n",
       "        created_dayofweek  \n",
       "0                       4  \n",
       "1                       1  \n",
       "2                       3  \n",
       "3                       1  \n",
       "4                       6  \n",
       "...                   ...  \n",
       "197416                  1  \n",
       "197417                  4  \n",
       "197418                  5  \n",
       "197419                  6  \n",
       "197420                  6  \n",
       "\n",
       "[197421 rows x 16 columns]"
      ]
     },
     "execution_count": 25,
     "metadata": {},
     "output_type": "execute_result"
    }
   ],
   "source": [
    "df"
   ]
  },
  {
   "cell_type": "code",
   "execution_count": 26,
   "id": "c560e5c5",
   "metadata": {},
   "outputs": [
    {
     "data": {
      "text/plain": [
       "market_id                   0\n",
       "created_at                  0\n",
       "actual_delivery_time        0\n",
       "store_id                    0\n",
       "store_primary_category      0\n",
       "order_protocol              0\n",
       "total_items                 0\n",
       "subtotal                    0\n",
       "num_distinct_items          0\n",
       "min_item_price              0\n",
       "max_item_price              0\n",
       "total_onshift_partners      0\n",
       "total_busy_partners         0\n",
       "total_outstanding_orders    0\n",
       "created_hour                0\n",
       "created_dayofweek           0\n",
       "dtype: int64"
      ]
     },
     "execution_count": 26,
     "metadata": {},
     "output_type": "execute_result"
    }
   ],
   "source": [
    "df.isna().sum()"
   ]
  },
  {
   "cell_type": "markdown",
   "id": "ffbf111e",
   "metadata": {},
   "source": [
    "We use the smart apporach to fill nan values in few columns and use the mode to fill a few nans. The rows with nan present in actual_delivery_time column are dropped because it would be used in creating the target variable. "
   ]
  },
  {
   "cell_type": "markdown",
   "id": "d6720ae6",
   "metadata": {},
   "source": [
    "# Feature Engineering"
   ]
  },
  {
   "cell_type": "code",
   "execution_count": 27,
   "id": "0216e35c",
   "metadata": {},
   "outputs": [],
   "source": [
    "# Creating target variable\n",
    "df['delivery_time_mins'] = ((df['actual_delivery_time'] - df['created_at']).dt.seconds) / 60"
   ]
  },
  {
   "cell_type": "code",
   "execution_count": 28,
   "id": "21f606eb",
   "metadata": {},
   "outputs": [
    {
     "data": {
      "text/html": [
       "<div>\n",
       "<style scoped>\n",
       "    .dataframe tbody tr th:only-of-type {\n",
       "        vertical-align: middle;\n",
       "    }\n",
       "\n",
       "    .dataframe tbody tr th {\n",
       "        vertical-align: top;\n",
       "    }\n",
       "\n",
       "    .dataframe thead th {\n",
       "        text-align: right;\n",
       "    }\n",
       "</style>\n",
       "<table border=\"1\" class=\"dataframe\">\n",
       "  <thead>\n",
       "    <tr style=\"text-align: right;\">\n",
       "      <th></th>\n",
       "      <th>market_id</th>\n",
       "      <th>created_at</th>\n",
       "      <th>actual_delivery_time</th>\n",
       "      <th>store_id</th>\n",
       "      <th>store_primary_category</th>\n",
       "      <th>order_protocol</th>\n",
       "      <th>total_items</th>\n",
       "      <th>subtotal</th>\n",
       "      <th>num_distinct_items</th>\n",
       "      <th>min_item_price</th>\n",
       "      <th>max_item_price</th>\n",
       "      <th>total_onshift_partners</th>\n",
       "      <th>total_busy_partners</th>\n",
       "      <th>total_outstanding_orders</th>\n",
       "      <th>created_hour</th>\n",
       "      <th>created_dayofweek</th>\n",
       "      <th>delivery_time_mins</th>\n",
       "    </tr>\n",
       "  </thead>\n",
       "  <tbody>\n",
       "    <tr>\n",
       "      <th>0</th>\n",
       "      <td>1.00</td>\n",
       "      <td>2015-02-06 22:24:17</td>\n",
       "      <td>2015-02-06 23:27:16</td>\n",
       "      <td>df263d996281d984952c07998dc54358</td>\n",
       "      <td>american</td>\n",
       "      <td>1.00</td>\n",
       "      <td>4</td>\n",
       "      <td>3441</td>\n",
       "      <td>4</td>\n",
       "      <td>557</td>\n",
       "      <td>1239</td>\n",
       "      <td>33.00</td>\n",
       "      <td>14.00</td>\n",
       "      <td>21.00</td>\n",
       "      <td>22</td>\n",
       "      <td>4</td>\n",
       "      <td>62.98</td>\n",
       "    </tr>\n",
       "    <tr>\n",
       "      <th>1</th>\n",
       "      <td>2.00</td>\n",
       "      <td>2015-02-10 21:49:25</td>\n",
       "      <td>2015-02-10 22:56:29</td>\n",
       "      <td>f0ade77b43923b38237db569b016ba25</td>\n",
       "      <td>mexican</td>\n",
       "      <td>2.00</td>\n",
       "      <td>1</td>\n",
       "      <td>1900</td>\n",
       "      <td>1</td>\n",
       "      <td>1400</td>\n",
       "      <td>1400</td>\n",
       "      <td>1.00</td>\n",
       "      <td>2.00</td>\n",
       "      <td>2.00</td>\n",
       "      <td>21</td>\n",
       "      <td>1</td>\n",
       "      <td>67.07</td>\n",
       "    </tr>\n",
       "    <tr>\n",
       "      <th>2</th>\n",
       "      <td>3.00</td>\n",
       "      <td>2015-01-22 20:39:28</td>\n",
       "      <td>2015-01-22 21:09:09</td>\n",
       "      <td>f0ade77b43923b38237db569b016ba25</td>\n",
       "      <td>american</td>\n",
       "      <td>1.00</td>\n",
       "      <td>1</td>\n",
       "      <td>1900</td>\n",
       "      <td>1</td>\n",
       "      <td>1900</td>\n",
       "      <td>1900</td>\n",
       "      <td>1.00</td>\n",
       "      <td>0.00</td>\n",
       "      <td>0.00</td>\n",
       "      <td>20</td>\n",
       "      <td>3</td>\n",
       "      <td>29.68</td>\n",
       "    </tr>\n",
       "    <tr>\n",
       "      <th>3</th>\n",
       "      <td>3.00</td>\n",
       "      <td>2015-02-03 21:21:45</td>\n",
       "      <td>2015-02-03 22:13:00</td>\n",
       "      <td>f0ade77b43923b38237db569b016ba25</td>\n",
       "      <td>american</td>\n",
       "      <td>1.00</td>\n",
       "      <td>6</td>\n",
       "      <td>6900</td>\n",
       "      <td>5</td>\n",
       "      <td>600</td>\n",
       "      <td>1800</td>\n",
       "      <td>1.00</td>\n",
       "      <td>1.00</td>\n",
       "      <td>2.00</td>\n",
       "      <td>21</td>\n",
       "      <td>1</td>\n",
       "      <td>51.25</td>\n",
       "    </tr>\n",
       "    <tr>\n",
       "      <th>4</th>\n",
       "      <td>3.00</td>\n",
       "      <td>2015-02-15 02:40:36</td>\n",
       "      <td>2015-02-15 03:20:26</td>\n",
       "      <td>f0ade77b43923b38237db569b016ba25</td>\n",
       "      <td>american</td>\n",
       "      <td>1.00</td>\n",
       "      <td>3</td>\n",
       "      <td>3900</td>\n",
       "      <td>3</td>\n",
       "      <td>1100</td>\n",
       "      <td>1600</td>\n",
       "      <td>6.00</td>\n",
       "      <td>6.00</td>\n",
       "      <td>9.00</td>\n",
       "      <td>2</td>\n",
       "      <td>6</td>\n",
       "      <td>39.83</td>\n",
       "    </tr>\n",
       "  </tbody>\n",
       "</table>\n",
       "</div>"
      ],
      "text/plain": [
       "   market_id          created_at actual_delivery_time  \\\n",
       "0       1.00 2015-02-06 22:24:17  2015-02-06 23:27:16   \n",
       "1       2.00 2015-02-10 21:49:25  2015-02-10 22:56:29   \n",
       "2       3.00 2015-01-22 20:39:28  2015-01-22 21:09:09   \n",
       "3       3.00 2015-02-03 21:21:45  2015-02-03 22:13:00   \n",
       "4       3.00 2015-02-15 02:40:36  2015-02-15 03:20:26   \n",
       "\n",
       "                           store_id store_primary_category  order_protocol  \\\n",
       "0  df263d996281d984952c07998dc54358               american            1.00   \n",
       "1  f0ade77b43923b38237db569b016ba25                mexican            2.00   \n",
       "2  f0ade77b43923b38237db569b016ba25               american            1.00   \n",
       "3  f0ade77b43923b38237db569b016ba25               american            1.00   \n",
       "4  f0ade77b43923b38237db569b016ba25               american            1.00   \n",
       "\n",
       "   total_items  subtotal  num_distinct_items  min_item_price  max_item_price  \\\n",
       "0            4      3441                   4             557            1239   \n",
       "1            1      1900                   1            1400            1400   \n",
       "2            1      1900                   1            1900            1900   \n",
       "3            6      6900                   5             600            1800   \n",
       "4            3      3900                   3            1100            1600   \n",
       "\n",
       "   total_onshift_partners  total_busy_partners  total_outstanding_orders  \\\n",
       "0                   33.00                14.00                     21.00   \n",
       "1                    1.00                 2.00                      2.00   \n",
       "2                    1.00                 0.00                      0.00   \n",
       "3                    1.00                 1.00                      2.00   \n",
       "4                    6.00                 6.00                      9.00   \n",
       "\n",
       "   created_hour  created_dayofweek  delivery_time_mins  \n",
       "0            22                  4               62.98  \n",
       "1            21                  1               67.07  \n",
       "2            20                  3               29.68  \n",
       "3            21                  1               51.25  \n",
       "4             2                  6               39.83  "
      ]
     },
     "execution_count": 28,
     "metadata": {},
     "output_type": "execute_result"
    }
   ],
   "source": [
    "df.head()"
   ]
  },
  {
   "cell_type": "code",
   "execution_count": 29,
   "id": "b48eb7bf",
   "metadata": {},
   "outputs": [
    {
     "name": "stdout",
     "output_type": "stream",
     "text": [
      "<class 'pandas.core.frame.DataFrame'>\n",
      "RangeIndex: 197421 entries, 0 to 197420\n",
      "Data columns (total 17 columns):\n",
      " #   Column                    Non-Null Count   Dtype         \n",
      "---  ------                    --------------   -----         \n",
      " 0   market_id                 197421 non-null  float64       \n",
      " 1   created_at                197421 non-null  datetime64[ns]\n",
      " 2   actual_delivery_time      197421 non-null  datetime64[ns]\n",
      " 3   store_id                  197421 non-null  object        \n",
      " 4   store_primary_category    197421 non-null  object        \n",
      " 5   order_protocol            197421 non-null  float64       \n",
      " 6   total_items               197421 non-null  int64         \n",
      " 7   subtotal                  197421 non-null  int64         \n",
      " 8   num_distinct_items        197421 non-null  int64         \n",
      " 9   min_item_price            197421 non-null  int64         \n",
      " 10  max_item_price            197421 non-null  int64         \n",
      " 11  total_onshift_partners    197421 non-null  float64       \n",
      " 12  total_busy_partners       197421 non-null  float64       \n",
      " 13  total_outstanding_orders  197421 non-null  float64       \n",
      " 14  created_hour              197421 non-null  int64         \n",
      " 15  created_dayofweek         197421 non-null  int64         \n",
      " 16  delivery_time_mins        197421 non-null  float64       \n",
      "dtypes: datetime64[ns](2), float64(6), int64(7), object(2)\n",
      "memory usage: 25.6+ MB\n"
     ]
    }
   ],
   "source": [
    "df.info()"
   ]
  },
  {
   "cell_type": "markdown",
   "id": "46eb4828",
   "metadata": {},
   "source": [
    "# Univariate Analysis"
   ]
  },
  {
   "cell_type": "code",
   "execution_count": 30,
   "id": "d214edf4",
   "metadata": {},
   "outputs": [
    {
     "data": {
      "text/plain": [
       "2.00   0.28\n",
       "4.00   0.24\n",
       "1.00   0.19\n",
       "3.00   0.12\n",
       "5.00   0.09\n",
       "6.00   0.07\n",
       "Name: market_id, dtype: float64"
      ]
     },
     "execution_count": 30,
     "metadata": {},
     "output_type": "execute_result"
    }
   ],
   "source": [
    "df['market_id'].value_counts(normalize=True)"
   ]
  },
  {
   "cell_type": "code",
   "execution_count": 31,
   "id": "1a5ef5f9",
   "metadata": {},
   "outputs": [
    {
     "data": {
      "text/plain": [
       "<AxesSubplot:xlabel='market_id', ylabel='count'>"
      ]
     },
     "execution_count": 31,
     "metadata": {},
     "output_type": "execute_result"
    },
    {
     "data": {
      "image/png": "[encoded data removed]",
      "text/plain": [
       "<Figure size 432x288 with 1 Axes>"
      ]
     },
     "metadata": {},
     "output_type": "display_data"
    }
   ],
   "source": [
    "sns.countplot(df['market_id'])"
   ]
  },
  {
   "cell_type": "markdown",
   "id": "3837ec35",
   "metadata": {},
   "source": [
    "Observation: About 28% of the restaurants lie in market 2, whereas only 7% lie in market 6."
   ]
  },
  {
   "cell_type": "code",
   "execution_count": 32,
   "id": "53f29611",
   "metadata": {},
   "outputs": [
    {
     "data": {
      "text/plain": [
       "(Timestamp('2014-10-19 05:24:15'), Timestamp('2015-02-18 06:00:44'))"
      ]
     },
     "execution_count": 32,
     "metadata": {},
     "output_type": "execute_result"
    }
   ],
   "source": [
    " df['created_at'].min(), df['created_at'].max()"
   ]
  },
  {
   "cell_type": "code",
   "execution_count": 33,
   "id": "72d5c1b3",
   "metadata": {},
   "outputs": [
    {
     "data": {
      "text/plain": [
       "5   0.17\n",
       "6   0.17\n",
       "4   0.14\n",
       "0   0.14\n",
       "3   0.13\n",
       "2   0.12\n",
       "1   0.12\n",
       "Name: created_dayofweek, dtype: float64"
      ]
     },
     "execution_count": 33,
     "metadata": {},
     "output_type": "execute_result"
    }
   ],
   "source": [
    "df['created_dayofweek'].value_counts(normalize=True)"
   ]
  },
  {
   "cell_type": "code",
   "execution_count": 34,
   "id": "967d3c7d",
   "metadata": {},
   "outputs": [
    {
     "data": {
      "text/plain": [
       "<AxesSubplot:xlabel='created_dayofweek', ylabel='count'>"
      ]
     },
     "execution_count": 34,
     "metadata": {},
     "output_type": "execute_result"
    },
    {
     "data": {
      "image/png": "[encoded data removed]",
      "text/plain": [
       "<Figure size 432x288 with 1 Axes>"
      ]
     },
     "metadata": {},
     "output_type": "display_data"
    }
   ],
   "source": [
    "sns.countplot(df['created_dayofweek'])"
   ]
  },
  {
   "cell_type": "markdown",
   "id": "ad35e874",
   "metadata": {},
   "source": [
    "The day of the week with Monday=0, Sunday=6.\n",
    "\n",
    "Observation: Max no. of orders are placed on weekends."
   ]
  },
  {
   "cell_type": "code",
   "execution_count": 35,
   "id": "69fd68d8",
   "metadata": {},
   "outputs": [
    {
     "data": {
      "text/plain": [
       "2    0.19\n",
       "1    0.14\n",
       "3    0.14\n",
       "20   0.08\n",
       "4    0.08\n",
       "19   0.07\n",
       "0    0.06\n",
       "21   0.06\n",
       "22   0.04\n",
       "23   0.04\n",
       "5    0.04\n",
       "18   0.03\n",
       "17   0.02\n",
       "16   0.01\n",
       "6    0.01\n",
       "15   0.00\n",
       "14   0.00\n",
       "7    0.00\n",
       "8    0.00\n",
       "Name: created_hour, dtype: float64"
      ]
     },
     "execution_count": 35,
     "metadata": {},
     "output_type": "execute_result"
    }
   ],
   "source": [
    "df['created_hour'].value_counts(normalize=True)"
   ]
  },
  {
   "cell_type": "code",
   "execution_count": 36,
   "id": "cc4fa766",
   "metadata": {},
   "outputs": [
    {
     "data": {
      "text/plain": [
       "<AxesSubplot:xlabel='created_hour', ylabel='count'>"
      ]
     },
     "execution_count": 36,
     "metadata": {},
     "output_type": "execute_result"
    },
    {
     "data": {
      "image/png": "[encoded data removed]",
      "text/plain": [
       "<Figure size 432x288 with 1 Axes>"
      ]
     },
     "metadata": {},
     "output_type": "display_data"
    }
   ],
   "source": [
    "sns.countplot(df['created_hour'])"
   ]
  },
  {
   "cell_type": "markdown",
   "id": "31fe9b46",
   "metadata": {},
   "source": [
    "Observation: The orders in an hour follow a bi-modal distribution."
   ]
  },
  {
   "cell_type": "code",
   "execution_count": 37,
   "id": "540e3bce",
   "metadata": {},
   "outputs": [
    {
     "data": {
      "text/plain": [
       "d43ab110ab2489d6b9b2caa394bf920f    937\n",
       "757b505cfd34c64c85ca5b5690ee5293    863\n",
       "faacbcd5bf1d018912c116bf2783e9a1    814\n",
       "cfecdb276f634854f3ef915e2e980c31    765\n",
       "45c48cce2e2d7fbdea1afc51c7c6ad26    721\n",
       "                                   ... \n",
       "adad0f2b196a1ed3e3b9d9025c397132      1\n",
       "2e6d9c6052e99fcdfa61d9b9da273ca2      1\n",
       "25daeb9b3072e9c53f66a2196a92a011      1\n",
       "55285adfd78a019a3245917649e29b3c      1\n",
       "df263d996281d984952c07998dc54358      1\n",
       "Name: store_id, Length: 6743, dtype: int64"
      ]
     },
     "execution_count": 37,
     "metadata": {},
     "output_type": "execute_result"
    }
   ],
   "source": [
    "df['store_id'].value_counts()"
   ]
  },
  {
   "cell_type": "markdown",
   "id": "6c21f050",
   "metadata": {},
   "source": [
    "Observation: There are total 6743 unique stores and max occurence of a store is 937 in the dataset of about 1.8 lakh rows and hence I think we should be able to ignore this variable in our modeling."
   ]
  },
  {
   "cell_type": "code",
   "execution_count": 38,
   "id": "59eae21d",
   "metadata": {},
   "outputs": [
    {
     "data": {
      "text/plain": [
       "american            0.12\n",
       "pizza               0.09\n",
       "mexican             0.09\n",
       "burger              0.06\n",
       "sandwich            0.05\n",
       "                    ... \n",
       "lebanese            0.00\n",
       "belgian             0.00\n",
       "indonesian          0.00\n",
       "chocolate           0.00\n",
       "alcohol-plus-food   0.00\n",
       "Name: store_primary_category, Length: 74, dtype: float64"
      ]
     },
     "execution_count": 38,
     "metadata": {},
     "output_type": "execute_result"
    }
   ],
   "source": [
    "df['store_primary_category'].value_counts(normalize=True)"
   ]
  },
  {
   "cell_type": "code",
   "execution_count": 39,
   "id": "7151102c",
   "metadata": {},
   "outputs": [
    {
     "data": {
      "text/plain": [
       "<AxesSubplot:ylabel='store_primary_category'>"
      ]
     },
     "execution_count": 39,
     "metadata": {},
     "output_type": "execute_result"
    },
    {
     "data": {
      "image/png": "[encoded data removed]",
      "text/plain": [
       "<Figure size 432x288 with 1 Axes>"
      ]
     },
     "metadata": {},
     "output_type": "display_data"
    }
   ],
   "source": [
    "sns.barplot(x=df['store_primary_category'].value_counts().head().index, y=df['store_primary_category'].value_counts().head())"
   ]
  },
  {
   "cell_type": "markdown",
   "id": "03e9a37a",
   "metadata": {},
   "source": [
    "Observation: About 12 % restaurants in the dataset are american, followed by pizza and mexican 9% each."
   ]
  },
  {
   "cell_type": "code",
   "execution_count": 40,
   "id": "b813bb55",
   "metadata": {},
   "outputs": [
    {
     "data": {
      "text/plain": [
       "1.00   0.28\n",
       "3.00   0.27\n",
       "5.00   0.22\n",
       "2.00   0.12\n",
       "4.00   0.10\n",
       "6.00   0.00\n",
       "7.00   0.00\n",
       "Name: order_protocol, dtype: float64"
      ]
     },
     "execution_count": 40,
     "metadata": {},
     "output_type": "execute_result"
    }
   ],
   "source": [
    "df['order_protocol'].value_counts(normalize=True)"
   ]
  },
  {
   "cell_type": "code",
   "execution_count": 41,
   "id": "f7913164",
   "metadata": {},
   "outputs": [
    {
     "data": {
      "text/plain": [
       "<AxesSubplot:xlabel='order_protocol', ylabel='count'>"
      ]
     },
     "execution_count": 41,
     "metadata": {},
     "output_type": "execute_result"
    },
    {
     "data": {
      "image/png": "[encoded data removed]",
      "text/plain": [
       "<Figure size 432x288 with 1 Axes>"
      ]
     },
     "metadata": {},
     "output_type": "display_data"
    }
   ],
   "source": [
    "sns.countplot(df['order_protocol'])"
   ]
  },
  {
   "cell_type": "markdown",
   "id": "04dfacf2",
   "metadata": {},
   "source": [
    "order_protocol : integer code value for order protocol(how the order was placed ie: through porter, call to restaurant, pre booked, third part etc)"
   ]
  },
  {
   "cell_type": "code",
   "execution_count": 42,
   "id": "0f0bfb33",
   "metadata": {},
   "outputs": [
    {
     "data": {
      "text/plain": [
       "(1, 411)"
      ]
     },
     "execution_count": 42,
     "metadata": {},
     "output_type": "execute_result"
    }
   ],
   "source": [
    "df['total_items'].min(), df['total_items'].max()"
   ]
  },
  {
   "cell_type": "code",
   "execution_count": 43,
   "id": "4a0b7fdf",
   "metadata": {},
   "outputs": [
    {
     "data": {
      "text/plain": [
       "2     0.28\n",
       "1     0.21\n",
       "3     0.20\n",
       "4     0.13\n",
       "5     0.07\n",
       "6     0.04\n",
       "7     0.03\n",
       "8     0.02\n",
       "9     0.01\n",
       "10    0.01\n",
       "11    0.00\n",
       "12    0.00\n",
       "13    0.00\n",
       "14    0.00\n",
       "15    0.00\n",
       "16    0.00\n",
       "17    0.00\n",
       "18    0.00\n",
       "19    0.00\n",
       "20    0.00\n",
       "21    0.00\n",
       "22    0.00\n",
       "25    0.00\n",
       "24    0.00\n",
       "26    0.00\n",
       "28    0.00\n",
       "23    0.00\n",
       "27    0.00\n",
       "30    0.00\n",
       "29    0.00\n",
       "34    0.00\n",
       "42    0.00\n",
       "35    0.00\n",
       "33    0.00\n",
       "31    0.00\n",
       "40    0.00\n",
       "48    0.00\n",
       "36    0.00\n",
       "32    0.00\n",
       "37    0.00\n",
       "39    0.00\n",
       "38    0.00\n",
       "41    0.00\n",
       "50    0.00\n",
       "49    0.00\n",
       "45    0.00\n",
       "411   0.00\n",
       "47    0.00\n",
       "59    0.00\n",
       "51    0.00\n",
       "57    0.00\n",
       "56    0.00\n",
       "44    0.00\n",
       "43    0.00\n",
       "84    0.00\n",
       "64    0.00\n",
       "66    0.00\n",
       "Name: total_items, dtype: float64"
      ]
     },
     "execution_count": 43,
     "metadata": {},
     "output_type": "execute_result"
    }
   ],
   "source": [
    "df['total_items'].value_counts(normalize=True)"
   ]
  },
  {
   "cell_type": "code",
   "execution_count": 44,
   "id": "d453b6d4",
   "metadata": {},
   "outputs": [
    {
     "data": {
      "text/plain": [
       "2     59173\n",
       "1     49838\n",
       "3     41839\n",
       "4     23185\n",
       "5     11772\n",
       "6      5695\n",
       "7      2917\n",
       "8      1419\n",
       "9       734\n",
       "10      389\n",
       "11      233\n",
       "12      105\n",
       "13       60\n",
       "14       35\n",
       "15       13\n",
       "16        6\n",
       "18        3\n",
       "17        2\n",
       "19        2\n",
       "20        1\n",
       "Name: num_distinct_items, dtype: int64"
      ]
     },
     "execution_count": 44,
     "metadata": {},
     "output_type": "execute_result"
    }
   ],
   "source": [
    "df['num_distinct_items'].value_counts()"
   ]
  },
  {
   "cell_type": "code",
   "execution_count": 45,
   "id": "39c2279a",
   "metadata": {},
   "outputs": [
    {
     "data": {
      "text/plain": [
       "<AxesSubplot:xlabel='num_distinct_items', ylabel='count'>"
      ]
     },
     "execution_count": 45,
     "metadata": {},
     "output_type": "execute_result"
    },
    {
     "data": {
      "image/png": "[encoded data removed]",
      "text/plain": [
       "<Figure size 432x288 with 1 Axes>"
      ]
     },
     "metadata": {},
     "output_type": "display_data"
    }
   ],
   "source": [
    "sns.countplot(df['num_distinct_items'])"
   ]
  },
  {
   "cell_type": "code",
   "execution_count": 46,
   "id": "d6a3916c",
   "metadata": {},
   "outputs": [
    {
     "data": {
      "text/plain": [
       "<AxesSubplot:xlabel='min_item_price', ylabel='Count'>"
      ]
     },
     "execution_count": 46,
     "metadata": {},
     "output_type": "execute_result"
    },
    {
     "data": {
      "image/png": "[encoded data removed]",
      "text/plain": [
       "<Figure size 432x288 with 1 Axes>"
      ]
     },
     "metadata": {},
     "output_type": "display_data"
    }
   ],
   "source": [
    "sns.histplot(df['min_item_price'], kde=True)"
   ]
  },
  {
   "cell_type": "code",
   "execution_count": 47,
   "id": "a9ed7db7",
   "metadata": {},
   "outputs": [
    {
     "data": {
      "text/plain": [
       "(-86, 14700)"
      ]
     },
     "execution_count": 47,
     "metadata": {},
     "output_type": "execute_result"
    }
   ],
   "source": [
    "df['min_item_price' ].min(), df['min_item_price' ].max()"
   ]
  },
  {
   "cell_type": "code",
   "execution_count": 48,
   "id": "eb4d7340",
   "metadata": {},
   "outputs": [
    {
     "data": {
      "text/plain": [
       "<AxesSubplot:xlabel='max_item_price', ylabel='Count'>"
      ]
     },
     "execution_count": 48,
     "metadata": {},
     "output_type": "execute_result"
    },
    {
     "data": {
      "image/png": "[encoded data removed]",
      "text/plain": [
       "<Figure size 432x288 with 1 Axes>"
      ]
     },
     "metadata": {},
     "output_type": "display_data"
    }
   ],
   "source": [
    "sns.histplot(df['max_item_price'], kde=True)"
   ]
  },
  {
   "cell_type": "code",
   "execution_count": 49,
   "id": "74e1ef91",
   "metadata": {},
   "outputs": [
    {
     "data": {
      "text/plain": [
       "(0, 14700)"
      ]
     },
     "execution_count": 49,
     "metadata": {},
     "output_type": "execute_result"
    }
   ],
   "source": [
    "df['max_item_price' ].min(), df['max_item_price' ].max()"
   ]
  },
  {
   "cell_type": "code",
   "execution_count": 50,
   "id": "07c2bf87",
   "metadata": {},
   "outputs": [
    {
     "data": {
      "text/plain": [
       "0.00      3615\n",
       "25.00     3438\n",
       "18.00     3183\n",
       "19.00     3131\n",
       "17.00     3093\n",
       "          ... \n",
       "163.00       1\n",
       "165.00       1\n",
       "-3.00        1\n",
       "171.00       1\n",
       "168.00       1\n",
       "Name: total_onshift_partners, Length: 178, dtype: int64"
      ]
     },
     "execution_count": 50,
     "metadata": {},
     "output_type": "execute_result"
    }
   ],
   "source": [
    "df['total_onshift_partners'].value_counts()"
   ]
  },
  {
   "cell_type": "code",
   "execution_count": 51,
   "id": "45c51e93",
   "metadata": {},
   "outputs": [
    {
     "data": {
      "text/plain": [
       "<AxesSubplot:xlabel='total_onshift_partners', ylabel='Count'>"
      ]
     },
     "execution_count": 51,
     "metadata": {},
     "output_type": "execute_result"
    },
    {
     "data": {
      "image/png": "[encoded data removed]",
      "text/plain": [
       "<Figure size 432x288 with 1 Axes>"
      ]
     },
     "metadata": {},
     "output_type": "display_data"
    }
   ],
   "source": [
    "sns.histplot(df['total_onshift_partners'], kde=True)"
   ]
  },
  {
   "cell_type": "code",
   "execution_count": 52,
   "id": "7b8bd947",
   "metadata": {},
   "outputs": [
    {
     "data": {
      "text/plain": [
       "0.00      4173\n",
       "13.00     3360\n",
       "18.00     3359\n",
       "10.00     3357\n",
       "24.00     3329\n",
       "          ... \n",
       "-4.00        2\n",
       "153.00       1\n",
       "154.00       1\n",
       "149.00       1\n",
       "-5.00        1\n",
       "Name: total_busy_partners, Length: 159, dtype: int64"
      ]
     },
     "execution_count": 52,
     "metadata": {},
     "output_type": "execute_result"
    }
   ],
   "source": [
    "df['total_busy_partners'].value_counts()"
   ]
  },
  {
   "cell_type": "code",
   "execution_count": 53,
   "id": "df88e499",
   "metadata": {},
   "outputs": [
    {
     "data": {
      "text/plain": [
       "<AxesSubplot:xlabel='total_busy_partners', ylabel='Count'>"
      ]
     },
     "execution_count": 53,
     "metadata": {},
     "output_type": "execute_result"
    },
    {
     "data": {
      "image/png": "[encoded data removed]",
      "text/plain": [
       "<Figure size 432x288 with 1 Axes>"
      ]
     },
     "metadata": {},
     "output_type": "display_data"
    }
   ],
   "source": [
    "sns.histplot(df['total_busy_partners'], kde=True)"
   ]
  },
  {
   "cell_type": "code",
   "execution_count": 54,
   "id": "44bd7204",
   "metadata": {},
   "outputs": [
    {
     "data": {
      "text/plain": [
       "0.00      4111\n",
       "10.00     2969\n",
       "14.00     2900\n",
       "20.00     2834\n",
       "9.00      2810\n",
       "          ... \n",
       "264.00       1\n",
       "277.00       1\n",
       "268.00       1\n",
       "285.00       1\n",
       "260.00       1\n",
       "Name: total_outstanding_orders, Length: 282, dtype: int64"
      ]
     },
     "execution_count": 54,
     "metadata": {},
     "output_type": "execute_result"
    }
   ],
   "source": [
    "df['total_outstanding_orders'].value_counts()"
   ]
  },
  {
   "cell_type": "code",
   "execution_count": 55,
   "id": "21bdf644",
   "metadata": {},
   "outputs": [
    {
     "data": {
      "text/plain": [
       "<AxesSubplot:xlabel='total_outstanding_orders', ylabel='Count'>"
      ]
     },
     "execution_count": 55,
     "metadata": {},
     "output_type": "execute_result"
    },
    {
     "data": {
      "image/png": "[encoded data removed]",
      "text/plain": [
       "<Figure size 432x288 with 1 Axes>"
      ]
     },
     "metadata": {},
     "output_type": "display_data"
    }
   ],
   "source": [
    "sns.histplot(df['total_outstanding_orders'], kde=True)"
   ]
  },
  {
   "cell_type": "markdown",
   "id": "f7a8ee89",
   "metadata": {},
   "source": [
    "Observation: Total onshift partners, total busy partners and total outstanding orders seem to follow similar distribution which is right-skewed in nature."
   ]
  },
  {
   "cell_type": "code",
   "execution_count": 56,
   "id": "90fc7f1d",
   "metadata": {},
   "outputs": [
    {
     "data": {
      "text/plain": [
       "<AxesSubplot:xlabel='delivery_time_mins', ylabel='Density'>"
      ]
     },
     "execution_count": 56,
     "metadata": {},
     "output_type": "execute_result"
    },
    {
     "data": {
      "image/png": "[encoded data removed]",
      "text/plain": [
       "<Figure size 432x288 with 1 Axes>"
      ]
     },
     "metadata": {},
     "output_type": "display_data"
    }
   ],
   "source": [
    "sns.kdeplot(df['delivery_time_mins'])"
   ]
  },
  {
   "cell_type": "markdown",
   "id": "1907f64b",
   "metadata": {},
   "source": [
    "Observation: The target variable follows a highly right-skewed distribution."
   ]
  },
  {
   "cell_type": "code",
   "execution_count": 57,
   "id": "b07bc0cb",
   "metadata": {},
   "outputs": [
    {
     "data": {
      "text/plain": [
       "(1.6833333333333333, 1221.3666666666666)"
      ]
     },
     "execution_count": 57,
     "metadata": {},
     "output_type": "execute_result"
    }
   ],
   "source": [
    "df['delivery_time_mins'].min(),df['delivery_time_mins'].max()"
   ]
  },
  {
   "cell_type": "markdown",
   "id": "332c6f71",
   "metadata": {},
   "source": [
    "# Outlier Detection"
   ]
  },
  {
   "cell_type": "code",
   "execution_count": 58,
   "id": "227d5c37",
   "metadata": {},
   "outputs": [],
   "source": [
    "num = df.dtypes[(df.dtypes=='int64') | (df.dtypes=='float64')].index.values"
   ]
  },
  {
   "cell_type": "code",
   "execution_count": 59,
   "id": "556e61fc",
   "metadata": {},
   "outputs": [
    {
     "data": {
      "text/plain": [
       "array(['market_id', 'order_protocol', 'total_items', 'subtotal',\n",
       "       'num_distinct_items', 'min_item_price', 'max_item_price',\n",
       "       'total_onshift_partners', 'total_busy_partners',\n",
       "       'total_outstanding_orders', 'created_hour', 'created_dayofweek',\n",
       "       'delivery_time_mins'], dtype=object)"
      ]
     },
     "execution_count": 59,
     "metadata": {},
     "output_type": "execute_result"
    }
   ],
   "source": [
    "df.dtypes[(df.dtypes=='int64') | (df.dtypes=='float64')].index.values"
   ]
  },
  {
   "cell_type": "code",
   "execution_count": 60,
   "id": "aca84243",
   "metadata": {},
   "outputs": [
    {
     "data": {
      "text/plain": [
       "array(['market_id', 'order_protocol', 'total_items', 'subtotal',\n",
       "       'num_distinct_items', 'min_item_price', 'max_item_price',\n",
       "       'total_onshift_partners', 'total_busy_partners',\n",
       "       'total_outstanding_orders', 'created_hour', 'created_dayofweek',\n",
       "       'delivery_time_mins'], dtype=object)"
      ]
     },
     "execution_count": 60,
     "metadata": {},
     "output_type": "execute_result"
    }
   ],
   "source": [
    "num"
   ]
  },
  {
   "cell_type": "code",
   "execution_count": 61,
   "id": "21009093",
   "metadata": {},
   "outputs": [
    {
     "data": {
      "text/plain": [
       "13"
      ]
     },
     "execution_count": 61,
     "metadata": {},
     "output_type": "execute_result"
    }
   ],
   "source": [
    "len(num)"
   ]
  },
  {
   "cell_type": "code",
   "execution_count": 62,
   "id": "cb0f6d99",
   "metadata": {},
   "outputs": [
    {
     "data": {
      "image/png": "[encoded data removed]",
      "text/plain": [
       "<Figure size 1440x1080 with 13 Axes>"
      ]
     },
     "metadata": {},
     "output_type": "display_data"
    }
   ],
   "source": [
    "plt.figure(figsize=(20,15))\n",
    "for c in range (0,len(num)):\n",
    "    plt.subplot(4,4,c+1)\n",
    "    sns.boxplot(data = df, x=num[c])"
   ]
  },
  {
   "cell_type": "code",
   "execution_count": 63,
   "id": "6b3bb008",
   "metadata": {},
   "outputs": [],
   "source": [
    "df_copy = df.copy()"
   ]
  },
  {
   "cell_type": "code",
   "execution_count": 64,
   "id": "e053dfd5",
   "metadata": {},
   "outputs": [],
   "source": [
    "# This function is going to determine outliers based on IQR.\n",
    "# Once outliers are identified, they will be removed from dataset.\n",
    "def remove_outliers(data,column):\n",
    "    first_quartile = data[column].quantile(0.25)\n",
    "    third_quartile = data[column].quantile(0.75)\n",
    "    IQR = third_quartile - first_quartile\n",
    "    hg_boundry = third_quartile + (1.5*IQR)\n",
    "    lw_boundry = first_quartile - (1.5*IQR)\n",
    "    data.drop( data[(data[column] > hg_boundry) | (data[column] < lw_boundry) ].index, axis=0, inplace=True)"
   ]
  },
  {
   "cell_type": "code",
   "execution_count": 65,
   "id": "9a4e4acf",
   "metadata": {},
   "outputs": [],
   "source": [
    "for i in range(len(num)):\n",
    "    remove_outliers(df_copy,num[i])"
   ]
  },
  {
   "cell_type": "code",
   "execution_count": 66,
   "id": "e6b6ce9b",
   "metadata": {},
   "outputs": [
    {
     "data": {
      "text/html": [
       "<div>\n",
       "<style scoped>\n",
       "    .dataframe tbody tr th:only-of-type {\n",
       "        vertical-align: middle;\n",
       "    }\n",
       "\n",
       "    .dataframe tbody tr th {\n",
       "        vertical-align: top;\n",
       "    }\n",
       "\n",
       "    .dataframe thead th {\n",
       "        text-align: right;\n",
       "    }\n",
       "</style>\n",
       "<table border=\"1\" class=\"dataframe\">\n",
       "  <thead>\n",
       "    <tr style=\"text-align: right;\">\n",
       "      <th></th>\n",
       "      <th>market_id</th>\n",
       "      <th>created_at</th>\n",
       "      <th>actual_delivery_time</th>\n",
       "      <th>store_id</th>\n",
       "      <th>store_primary_category</th>\n",
       "      <th>order_protocol</th>\n",
       "      <th>total_items</th>\n",
       "      <th>subtotal</th>\n",
       "      <th>num_distinct_items</th>\n",
       "      <th>min_item_price</th>\n",
       "      <th>max_item_price</th>\n",
       "      <th>total_onshift_partners</th>\n",
       "      <th>total_busy_partners</th>\n",
       "      <th>total_outstanding_orders</th>\n",
       "      <th>created_hour</th>\n",
       "      <th>created_dayofweek</th>\n",
       "      <th>delivery_time_mins</th>\n",
       "    </tr>\n",
       "  </thead>\n",
       "  <tbody>\n",
       "    <tr>\n",
       "      <th>0</th>\n",
       "      <td>1.00</td>\n",
       "      <td>2015-02-06 22:24:17</td>\n",
       "      <td>2015-02-06 23:27:16</td>\n",
       "      <td>df263d996281d984952c07998dc54358</td>\n",
       "      <td>american</td>\n",
       "      <td>1.00</td>\n",
       "      <td>4</td>\n",
       "      <td>3441</td>\n",
       "      <td>4</td>\n",
       "      <td>557</td>\n",
       "      <td>1239</td>\n",
       "      <td>33.00</td>\n",
       "      <td>14.00</td>\n",
       "      <td>21.00</td>\n",
       "      <td>22</td>\n",
       "      <td>4</td>\n",
       "      <td>62.98</td>\n",
       "    </tr>\n",
       "    <tr>\n",
       "      <th>1</th>\n",
       "      <td>2.00</td>\n",
       "      <td>2015-02-10 21:49:25</td>\n",
       "      <td>2015-02-10 22:56:29</td>\n",
       "      <td>f0ade77b43923b38237db569b016ba25</td>\n",
       "      <td>mexican</td>\n",
       "      <td>2.00</td>\n",
       "      <td>1</td>\n",
       "      <td>1900</td>\n",
       "      <td>1</td>\n",
       "      <td>1400</td>\n",
       "      <td>1400</td>\n",
       "      <td>1.00</td>\n",
       "      <td>2.00</td>\n",
       "      <td>2.00</td>\n",
       "      <td>21</td>\n",
       "      <td>1</td>\n",
       "      <td>67.07</td>\n",
       "    </tr>\n",
       "    <tr>\n",
       "      <th>2</th>\n",
       "      <td>3.00</td>\n",
       "      <td>2015-01-22 20:39:28</td>\n",
       "      <td>2015-01-22 21:09:09</td>\n",
       "      <td>f0ade77b43923b38237db569b016ba25</td>\n",
       "      <td>american</td>\n",
       "      <td>1.00</td>\n",
       "      <td>1</td>\n",
       "      <td>1900</td>\n",
       "      <td>1</td>\n",
       "      <td>1900</td>\n",
       "      <td>1900</td>\n",
       "      <td>1.00</td>\n",
       "      <td>0.00</td>\n",
       "      <td>0.00</td>\n",
       "      <td>20</td>\n",
       "      <td>3</td>\n",
       "      <td>29.68</td>\n",
       "    </tr>\n",
       "    <tr>\n",
       "      <th>4</th>\n",
       "      <td>3.00</td>\n",
       "      <td>2015-02-15 02:40:36</td>\n",
       "      <td>2015-02-15 03:20:26</td>\n",
       "      <td>f0ade77b43923b38237db569b016ba25</td>\n",
       "      <td>american</td>\n",
       "      <td>1.00</td>\n",
       "      <td>3</td>\n",
       "      <td>3900</td>\n",
       "      <td>3</td>\n",
       "      <td>1100</td>\n",
       "      <td>1600</td>\n",
       "      <td>6.00</td>\n",
       "      <td>6.00</td>\n",
       "      <td>9.00</td>\n",
       "      <td>2</td>\n",
       "      <td>6</td>\n",
       "      <td>39.83</td>\n",
       "    </tr>\n",
       "    <tr>\n",
       "      <th>5</th>\n",
       "      <td>3.00</td>\n",
       "      <td>2015-01-28 20:30:38</td>\n",
       "      <td>2015-01-28 21:08:58</td>\n",
       "      <td>f0ade77b43923b38237db569b016ba25</td>\n",
       "      <td>american</td>\n",
       "      <td>1.00</td>\n",
       "      <td>3</td>\n",
       "      <td>5000</td>\n",
       "      <td>3</td>\n",
       "      <td>1500</td>\n",
       "      <td>1900</td>\n",
       "      <td>2.00</td>\n",
       "      <td>2.00</td>\n",
       "      <td>2.00</td>\n",
       "      <td>20</td>\n",
       "      <td>2</td>\n",
       "      <td>38.33</td>\n",
       "    </tr>\n",
       "    <tr>\n",
       "      <th>...</th>\n",
       "      <td>...</td>\n",
       "      <td>...</td>\n",
       "      <td>...</td>\n",
       "      <td>...</td>\n",
       "      <td>...</td>\n",
       "      <td>...</td>\n",
       "      <td>...</td>\n",
       "      <td>...</td>\n",
       "      <td>...</td>\n",
       "      <td>...</td>\n",
       "      <td>...</td>\n",
       "      <td>...</td>\n",
       "      <td>...</td>\n",
       "      <td>...</td>\n",
       "      <td>...</td>\n",
       "      <td>...</td>\n",
       "      <td>...</td>\n",
       "    </tr>\n",
       "    <tr>\n",
       "      <th>197416</th>\n",
       "      <td>1.00</td>\n",
       "      <td>2015-02-17 00:19:41</td>\n",
       "      <td>2015-02-17 01:24:48</td>\n",
       "      <td>a914ecef9c12ffdb9bede64bb703d877</td>\n",
       "      <td>fast</td>\n",
       "      <td>4.00</td>\n",
       "      <td>3</td>\n",
       "      <td>1389</td>\n",
       "      <td>3</td>\n",
       "      <td>345</td>\n",
       "      <td>649</td>\n",
       "      <td>17.00</td>\n",
       "      <td>17.00</td>\n",
       "      <td>23.00</td>\n",
       "      <td>0</td>\n",
       "      <td>1</td>\n",
       "      <td>65.12</td>\n",
       "    </tr>\n",
       "    <tr>\n",
       "      <th>197417</th>\n",
       "      <td>1.00</td>\n",
       "      <td>2015-02-13 00:01:59</td>\n",
       "      <td>2015-02-13 00:58:22</td>\n",
       "      <td>a914ecef9c12ffdb9bede64bb703d877</td>\n",
       "      <td>fast</td>\n",
       "      <td>4.00</td>\n",
       "      <td>6</td>\n",
       "      <td>3010</td>\n",
       "      <td>4</td>\n",
       "      <td>405</td>\n",
       "      <td>825</td>\n",
       "      <td>12.00</td>\n",
       "      <td>11.00</td>\n",
       "      <td>14.00</td>\n",
       "      <td>0</td>\n",
       "      <td>4</td>\n",
       "      <td>56.38</td>\n",
       "    </tr>\n",
       "    <tr>\n",
       "      <th>197418</th>\n",
       "      <td>1.00</td>\n",
       "      <td>2015-01-24 04:46:08</td>\n",
       "      <td>2015-01-24 05:36:16</td>\n",
       "      <td>a914ecef9c12ffdb9bede64bb703d877</td>\n",
       "      <td>fast</td>\n",
       "      <td>4.00</td>\n",
       "      <td>5</td>\n",
       "      <td>1836</td>\n",
       "      <td>3</td>\n",
       "      <td>300</td>\n",
       "      <td>399</td>\n",
       "      <td>39.00</td>\n",
       "      <td>41.00</td>\n",
       "      <td>40.00</td>\n",
       "      <td>4</td>\n",
       "      <td>5</td>\n",
       "      <td>50.13</td>\n",
       "    </tr>\n",
       "    <tr>\n",
       "      <th>197419</th>\n",
       "      <td>1.00</td>\n",
       "      <td>2015-02-01 18:18:15</td>\n",
       "      <td>2015-02-01 19:23:22</td>\n",
       "      <td>c81e155d85dae5430a8cee6f2242e82c</td>\n",
       "      <td>sandwich</td>\n",
       "      <td>1.00</td>\n",
       "      <td>1</td>\n",
       "      <td>1175</td>\n",
       "      <td>1</td>\n",
       "      <td>535</td>\n",
       "      <td>535</td>\n",
       "      <td>7.00</td>\n",
       "      <td>7.00</td>\n",
       "      <td>12.00</td>\n",
       "      <td>18</td>\n",
       "      <td>6</td>\n",
       "      <td>65.12</td>\n",
       "    </tr>\n",
       "    <tr>\n",
       "      <th>197420</th>\n",
       "      <td>1.00</td>\n",
       "      <td>2015-02-08 19:24:33</td>\n",
       "      <td>2015-02-08 20:01:41</td>\n",
       "      <td>c81e155d85dae5430a8cee6f2242e82c</td>\n",
       "      <td>sandwich</td>\n",
       "      <td>1.00</td>\n",
       "      <td>4</td>\n",
       "      <td>2605</td>\n",
       "      <td>4</td>\n",
       "      <td>425</td>\n",
       "      <td>750</td>\n",
       "      <td>20.00</td>\n",
       "      <td>20.00</td>\n",
       "      <td>23.00</td>\n",
       "      <td>19</td>\n",
       "      <td>6</td>\n",
       "      <td>37.13</td>\n",
       "    </tr>\n",
       "  </tbody>\n",
       "</table>\n",
       "<p>158068 rows × 17 columns</p>\n",
       "</div>"
      ],
      "text/plain": [
       "        market_id          created_at actual_delivery_time  \\\n",
       "0            1.00 2015-02-06 22:24:17  2015-02-06 23:27:16   \n",
       "1            2.00 2015-02-10 21:49:25  2015-02-10 22:56:29   \n",
       "2            3.00 2015-01-22 20:39:28  2015-01-22 21:09:09   \n",
       "4            3.00 2015-02-15 02:40:36  2015-02-15 03:20:26   \n",
       "5            3.00 2015-01-28 20:30:38  2015-01-28 21:08:58   \n",
       "...           ...                 ...                  ...   \n",
       "197416       1.00 2015-02-17 00:19:41  2015-02-17 01:24:48   \n",
       "197417       1.00 2015-02-13 00:01:59  2015-02-13 00:58:22   \n",
       "197418       1.00 2015-01-24 04:46:08  2015-01-24 05:36:16   \n",
       "197419       1.00 2015-02-01 18:18:15  2015-02-01 19:23:22   \n",
       "197420       1.00 2015-02-08 19:24:33  2015-02-08 20:01:41   \n",
       "\n",
       "                                store_id store_primary_category  \\\n",
       "0       df263d996281d984952c07998dc54358               american   \n",
       "1       f0ade77b43923b38237db569b016ba25                mexican   \n",
       "2       f0ade77b43923b38237db569b016ba25               american   \n",
       "4       f0ade77b43923b38237db569b016ba25               american   \n",
       "5       f0ade77b43923b38237db569b016ba25               american   \n",
       "...                                  ...                    ...   \n",
       "197416  a914ecef9c12ffdb9bede64bb703d877                   fast   \n",
       "197417  a914ecef9c12ffdb9bede64bb703d877                   fast   \n",
       "197418  a914ecef9c12ffdb9bede64bb703d877                   fast   \n",
       "197419  c81e155d85dae5430a8cee6f2242e82c               sandwich   \n",
       "197420  c81e155d85dae5430a8cee6f2242e82c               sandwich   \n",
       "\n",
       "        order_protocol  total_items  subtotal  num_distinct_items  \\\n",
       "0                 1.00            4      3441                   4   \n",
       "1                 2.00            1      1900                   1   \n",
       "2                 1.00            1      1900                   1   \n",
       "4                 1.00            3      3900                   3   \n",
       "5                 1.00            3      5000                   3   \n",
       "...                ...          ...       ...                 ...   \n",
       "197416            4.00            3      1389                   3   \n",
       "197417            4.00            6      3010                   4   \n",
       "197418            4.00            5      1836                   3   \n",
       "197419            1.00            1      1175                   1   \n",
       "197420            1.00            4      2605                   4   \n",
       "\n",
       "        min_item_price  max_item_price  total_onshift_partners  \\\n",
       "0                  557            1239                   33.00   \n",
       "1                 1400            1400                    1.00   \n",
       "2                 1900            1900                    1.00   \n",
       "4                 1100            1600                    6.00   \n",
       "5                 1500            1900                    2.00   \n",
       "...                ...             ...                     ...   \n",
       "197416             345             649                   17.00   \n",
       "197417             405             825                   12.00   \n",
       "197418             300             399                   39.00   \n",
       "197419             535             535                    7.00   \n",
       "197420             425             750                   20.00   \n",
       "\n",
       "        total_busy_partners  total_outstanding_orders  created_hour  \\\n",
       "0                     14.00                     21.00            22   \n",
       "1                      2.00                      2.00            21   \n",
       "2                      0.00                      0.00            20   \n",
       "4                      6.00                      9.00             2   \n",
       "5                      2.00                      2.00            20   \n",
       "...                     ...                       ...           ...   \n",
       "197416                17.00                     23.00             0   \n",
       "197417                11.00                     14.00             0   \n",
       "197418                41.00                     40.00             4   \n",
       "197419                 7.00                     12.00            18   \n",
       "197420                20.00                     23.00            19   \n",
       "\n",
       "        created_dayofweek  delivery_time_mins  \n",
       "0                       4               62.98  \n",
       "1                       1               67.07  \n",
       "2                       3               29.68  \n",
       "4                       6               39.83  \n",
       "5                       2               38.33  \n",
       "...                   ...                 ...  \n",
       "197416                  1               65.12  \n",
       "197417                  4               56.38  \n",
       "197418                  5               50.13  \n",
       "197419                  6               65.12  \n",
       "197420                  6               37.13  \n",
       "\n",
       "[158068 rows x 17 columns]"
      ]
     },
     "execution_count": 66,
     "metadata": {},
     "output_type": "execute_result"
    }
   ],
   "source": [
    "df_copy"
   ]
  },
  {
   "cell_type": "code",
   "execution_count": 67,
   "id": "24328b46",
   "metadata": {},
   "outputs": [
    {
     "data": {
      "image/png": "[encoded data removed]",
      "text/plain": [
       "<Figure size 1440x1080 with 13 Axes>"
      ]
     },
     "metadata": {},
     "output_type": "display_data"
    }
   ],
   "source": [
    "plt.figure(figsize=(20,15))\n",
    "for c in range (0,len(num)):\n",
    "    plt.subplot(4,4,c+1)\n",
    "    sns.boxplot(data = df_copy, x=num[c])"
   ]
  },
  {
   "cell_type": "code",
   "execution_count": 68,
   "id": "a8794a4b",
   "metadata": {},
   "outputs": [
    {
     "data": {
      "image/png": "[encoded data removed]",
      "text/plain": [
       "<Figure size 1440x1080 with 13 Axes>"
      ]
     },
     "metadata": {},
     "output_type": "display_data"
    }
   ],
   "source": [
    "plt.figure(figsize=(20,15))\n",
    "for c in range (0,len(num)):\n",
    "    plt.subplot(4,4,c+1)\n",
    "    sns.kdeplot(data = df_copy, x=num[c])"
   ]
  },
  {
   "cell_type": "markdown",
   "id": "6cb65a2c",
   "metadata": {},
   "source": [
    "If we remove outliers using 1.5IQR method, we are losing almost 40k rows from the dataset, which implies we are losing a lot of information. And hence let's not remove using 1.5 IQR."
   ]
  },
  {
   "cell_type": "markdown",
   "id": "21e72f9e",
   "metadata": {},
   "source": [
    "Let us try to run the baseline model on the data with outliers so that we get a breif understanding of how the model would perform in presence of all the data that we have."
   ]
  },
  {
   "cell_type": "code",
   "execution_count": 69,
   "id": "0e2d4450",
   "metadata": {},
   "outputs": [],
   "source": [
    "from sklearn.metrics import r2_score\n",
    "from sklearn.metrics import mean_squared_error as mse\n",
    "from sklearn.impute import SimpleImputer as Imputer\n",
    "from sklearn.preprocessing import StandardScaler, MinMaxScaler, LabelEncoder\n",
    "from sklearn.ensemble import GradientBoostingRegressor, RandomForestRegressor\n",
    "from sklearn.model_selection import KFold\n",
    "from sklearn.metrics import mean_squared_error as mse\n",
    "from sklearn.metrics import mean_absolute_percentage_error as mape\n",
    "from sklearn.model_selection import train_test_split\n",
    "from sklearn.model_selection import cross_val_score"
   ]
  },
  {
   "cell_type": "code",
   "execution_count": 70,
   "id": "61ce6fb5",
   "metadata": {},
   "outputs": [],
   "source": [
    "df.drop(columns=['created_at', 'actual_delivery_time','store_id'], inplace=True)"
   ]
  },
  {
   "cell_type": "code",
   "execution_count": 71,
   "id": "09d55c3d",
   "metadata": {},
   "outputs": [
    {
     "data": {
      "text/html": [
       "<div>\n",
       "<style scoped>\n",
       "    .dataframe tbody tr th:only-of-type {\n",
       "        vertical-align: middle;\n",
       "    }\n",
       "\n",
       "    .dataframe tbody tr th {\n",
       "        vertical-align: top;\n",
       "    }\n",
       "\n",
       "    .dataframe thead th {\n",
       "        text-align: right;\n",
       "    }\n",
       "</style>\n",
       "<table border=\"1\" class=\"dataframe\">\n",
       "  <thead>\n",
       "    <tr style=\"text-align: right;\">\n",
       "      <th></th>\n",
       "      <th>market_id</th>\n",
       "      <th>store_primary_category</th>\n",
       "      <th>order_protocol</th>\n",
       "      <th>total_items</th>\n",
       "      <th>subtotal</th>\n",
       "      <th>num_distinct_items</th>\n",
       "      <th>min_item_price</th>\n",
       "      <th>max_item_price</th>\n",
       "      <th>total_onshift_partners</th>\n",
       "      <th>total_busy_partners</th>\n",
       "      <th>total_outstanding_orders</th>\n",
       "      <th>created_hour</th>\n",
       "      <th>created_dayofweek</th>\n",
       "      <th>delivery_time_mins</th>\n",
       "    </tr>\n",
       "  </thead>\n",
       "  <tbody>\n",
       "    <tr>\n",
       "      <th>0</th>\n",
       "      <td>1.00</td>\n",
       "      <td>american</td>\n",
       "      <td>1.00</td>\n",
       "      <td>4</td>\n",
       "      <td>3441</td>\n",
       "      <td>4</td>\n",
       "      <td>557</td>\n",
       "      <td>1239</td>\n",
       "      <td>33.00</td>\n",
       "      <td>14.00</td>\n",
       "      <td>21.00</td>\n",
       "      <td>22</td>\n",
       "      <td>4</td>\n",
       "      <td>62.98</td>\n",
       "    </tr>\n",
       "    <tr>\n",
       "      <th>1</th>\n",
       "      <td>2.00</td>\n",
       "      <td>mexican</td>\n",
       "      <td>2.00</td>\n",
       "      <td>1</td>\n",
       "      <td>1900</td>\n",
       "      <td>1</td>\n",
       "      <td>1400</td>\n",
       "      <td>1400</td>\n",
       "      <td>1.00</td>\n",
       "      <td>2.00</td>\n",
       "      <td>2.00</td>\n",
       "      <td>21</td>\n",
       "      <td>1</td>\n",
       "      <td>67.07</td>\n",
       "    </tr>\n",
       "    <tr>\n",
       "      <th>2</th>\n",
       "      <td>3.00</td>\n",
       "      <td>american</td>\n",
       "      <td>1.00</td>\n",
       "      <td>1</td>\n",
       "      <td>1900</td>\n",
       "      <td>1</td>\n",
       "      <td>1900</td>\n",
       "      <td>1900</td>\n",
       "      <td>1.00</td>\n",
       "      <td>0.00</td>\n",
       "      <td>0.00</td>\n",
       "      <td>20</td>\n",
       "      <td>3</td>\n",
       "      <td>29.68</td>\n",
       "    </tr>\n",
       "    <tr>\n",
       "      <th>3</th>\n",
       "      <td>3.00</td>\n",
       "      <td>american</td>\n",
       "      <td>1.00</td>\n",
       "      <td>6</td>\n",
       "      <td>6900</td>\n",
       "      <td>5</td>\n",
       "      <td>600</td>\n",
       "      <td>1800</td>\n",
       "      <td>1.00</td>\n",
       "      <td>1.00</td>\n",
       "      <td>2.00</td>\n",
       "      <td>21</td>\n",
       "      <td>1</td>\n",
       "      <td>51.25</td>\n",
       "    </tr>\n",
       "    <tr>\n",
       "      <th>4</th>\n",
       "      <td>3.00</td>\n",
       "      <td>american</td>\n",
       "      <td>1.00</td>\n",
       "      <td>3</td>\n",
       "      <td>3900</td>\n",
       "      <td>3</td>\n",
       "      <td>1100</td>\n",
       "      <td>1600</td>\n",
       "      <td>6.00</td>\n",
       "      <td>6.00</td>\n",
       "      <td>9.00</td>\n",
       "      <td>2</td>\n",
       "      <td>6</td>\n",
       "      <td>39.83</td>\n",
       "    </tr>\n",
       "    <tr>\n",
       "      <th>...</th>\n",
       "      <td>...</td>\n",
       "      <td>...</td>\n",
       "      <td>...</td>\n",
       "      <td>...</td>\n",
       "      <td>...</td>\n",
       "      <td>...</td>\n",
       "      <td>...</td>\n",
       "      <td>...</td>\n",
       "      <td>...</td>\n",
       "      <td>...</td>\n",
       "      <td>...</td>\n",
       "      <td>...</td>\n",
       "      <td>...</td>\n",
       "      <td>...</td>\n",
       "    </tr>\n",
       "    <tr>\n",
       "      <th>197416</th>\n",
       "      <td>1.00</td>\n",
       "      <td>fast</td>\n",
       "      <td>4.00</td>\n",
       "      <td>3</td>\n",
       "      <td>1389</td>\n",
       "      <td>3</td>\n",
       "      <td>345</td>\n",
       "      <td>649</td>\n",
       "      <td>17.00</td>\n",
       "      <td>17.00</td>\n",
       "      <td>23.00</td>\n",
       "      <td>0</td>\n",
       "      <td>1</td>\n",
       "      <td>65.12</td>\n",
       "    </tr>\n",
       "    <tr>\n",
       "      <th>197417</th>\n",
       "      <td>1.00</td>\n",
       "      <td>fast</td>\n",
       "      <td>4.00</td>\n",
       "      <td>6</td>\n",
       "      <td>3010</td>\n",
       "      <td>4</td>\n",
       "      <td>405</td>\n",
       "      <td>825</td>\n",
       "      <td>12.00</td>\n",
       "      <td>11.00</td>\n",
       "      <td>14.00</td>\n",
       "      <td>0</td>\n",
       "      <td>4</td>\n",
       "      <td>56.38</td>\n",
       "    </tr>\n",
       "    <tr>\n",
       "      <th>197418</th>\n",
       "      <td>1.00</td>\n",
       "      <td>fast</td>\n",
       "      <td>4.00</td>\n",
       "      <td>5</td>\n",
       "      <td>1836</td>\n",
       "      <td>3</td>\n",
       "      <td>300</td>\n",
       "      <td>399</td>\n",
       "      <td>39.00</td>\n",
       "      <td>41.00</td>\n",
       "      <td>40.00</td>\n",
       "      <td>4</td>\n",
       "      <td>5</td>\n",
       "      <td>50.13</td>\n",
       "    </tr>\n",
       "    <tr>\n",
       "      <th>197419</th>\n",
       "      <td>1.00</td>\n",
       "      <td>sandwich</td>\n",
       "      <td>1.00</td>\n",
       "      <td>1</td>\n",
       "      <td>1175</td>\n",
       "      <td>1</td>\n",
       "      <td>535</td>\n",
       "      <td>535</td>\n",
       "      <td>7.00</td>\n",
       "      <td>7.00</td>\n",
       "      <td>12.00</td>\n",
       "      <td>18</td>\n",
       "      <td>6</td>\n",
       "      <td>65.12</td>\n",
       "    </tr>\n",
       "    <tr>\n",
       "      <th>197420</th>\n",
       "      <td>1.00</td>\n",
       "      <td>sandwich</td>\n",
       "      <td>1.00</td>\n",
       "      <td>4</td>\n",
       "      <td>2605</td>\n",
       "      <td>4</td>\n",
       "      <td>425</td>\n",
       "      <td>750</td>\n",
       "      <td>20.00</td>\n",
       "      <td>20.00</td>\n",
       "      <td>23.00</td>\n",
       "      <td>19</td>\n",
       "      <td>6</td>\n",
       "      <td>37.13</td>\n",
       "    </tr>\n",
       "  </tbody>\n",
       "</table>\n",
       "<p>197421 rows × 14 columns</p>\n",
       "</div>"
      ],
      "text/plain": [
       "        market_id store_primary_category  order_protocol  total_items  \\\n",
       "0            1.00               american            1.00            4   \n",
       "1            2.00                mexican            2.00            1   \n",
       "2            3.00               american            1.00            1   \n",
       "3            3.00               american            1.00            6   \n",
       "4            3.00               american            1.00            3   \n",
       "...           ...                    ...             ...          ...   \n",
       "197416       1.00                   fast            4.00            3   \n",
       "197417       1.00                   fast            4.00            6   \n",
       "197418       1.00                   fast            4.00            5   \n",
       "197419       1.00               sandwich            1.00            1   \n",
       "197420       1.00               sandwich            1.00            4   \n",
       "\n",
       "        subtotal  num_distinct_items  min_item_price  max_item_price  \\\n",
       "0           3441                   4             557            1239   \n",
       "1           1900                   1            1400            1400   \n",
       "2           1900                   1            1900            1900   \n",
       "3           6900                   5             600            1800   \n",
       "4           3900                   3            1100            1600   \n",
       "...          ...                 ...             ...             ...   \n",
       "197416      1389                   3             345             649   \n",
       "197417      3010                   4             405             825   \n",
       "197418      1836                   3             300             399   \n",
       "197419      1175                   1             535             535   \n",
       "197420      2605                   4             425             750   \n",
       "\n",
       "        total_onshift_partners  total_busy_partners  total_outstanding_orders  \\\n",
       "0                        33.00                14.00                     21.00   \n",
       "1                         1.00                 2.00                      2.00   \n",
       "2                         1.00                 0.00                      0.00   \n",
       "3                         1.00                 1.00                      2.00   \n",
       "4                         6.00                 6.00                      9.00   \n",
       "...                        ...                  ...                       ...   \n",
       "197416                   17.00                17.00                     23.00   \n",
       "197417                   12.00                11.00                     14.00   \n",
       "197418                   39.00                41.00                     40.00   \n",
       "197419                    7.00                 7.00                     12.00   \n",
       "197420                   20.00                20.00                     23.00   \n",
       "\n",
       "        created_hour  created_dayofweek  delivery_time_mins  \n",
       "0                 22                  4               62.98  \n",
       "1                 21                  1               67.07  \n",
       "2                 20                  3               29.68  \n",
       "3                 21                  1               51.25  \n",
       "4                  2                  6               39.83  \n",
       "...              ...                ...                 ...  \n",
       "197416             0                  1               65.12  \n",
       "197417             0                  4               56.38  \n",
       "197418             4                  5               50.13  \n",
       "197419            18                  6               65.12  \n",
       "197420            19                  6               37.13  \n",
       "\n",
       "[197421 rows x 14 columns]"
      ]
     },
     "execution_count": 71,
     "metadata": {},
     "output_type": "execute_result"
    }
   ],
   "source": [
    "df"
   ]
  },
  {
   "cell_type": "code",
   "execution_count": 72,
   "id": "95da2af5",
   "metadata": {},
   "outputs": [],
   "source": [
    "le = LabelEncoder()\n",
    "df['store_primary_category'] = le.fit_transform(df['store_primary_category'])"
   ]
  },
  {
   "cell_type": "code",
   "execution_count": 73,
   "id": "080a0ab0",
   "metadata": {},
   "outputs": [],
   "source": [
    "x = df.drop(['delivery_time_mins'], axis=1)\n",
    "y=df['delivery_time_mins']\n",
    "\n",
    "scaler = StandardScaler()\n",
    "x_scaled = scaler.fit_transform(x)\n",
    "X_train, X_test, y_train, y_test = train_test_split(x_scaled, y, test_size=0.2, random_state=0)"
   ]
  },
  {
   "cell_type": "code",
   "execution_count": 74,
   "id": "5c15eeb7",
   "metadata": {},
   "outputs": [
    {
     "name": "stdout",
     "output_type": "stream",
     "text": [
      "RMSE :  17.680060158036323\n",
      "MAPE :  0.2728192388420478\n"
     ]
    }
   ],
   "source": [
    "baseline_regressor = RandomForestRegressor(random_state=0)\n",
    " \n",
    "baseline_regressor.fit(X_train, y_train)\n",
    "\n",
    "y_pred = baseline_regressor.predict(X_test)\n",
    "print(\"RMSE : \", mse(y_test, y_pred)**0.5)\n",
    "print(\"MAPE : \", mape(y_test, y_pred))"
   ]
  },
  {
   "cell_type": "markdown",
   "id": "9264aa65",
   "metadata": {},
   "source": [
    "The MAPE of the model doesn't look appealing. Hence let's try few other techniques."
   ]
  },
  {
   "cell_type": "code",
   "execution_count": 75,
   "id": "92b2d52e",
   "metadata": {},
   "outputs": [
    {
     "data": {
      "text/html": [
       "<div>\n",
       "<style scoped>\n",
       "    .dataframe tbody tr th:only-of-type {\n",
       "        vertical-align: middle;\n",
       "    }\n",
       "\n",
       "    .dataframe tbody tr th {\n",
       "        vertical-align: top;\n",
       "    }\n",
       "\n",
       "    .dataframe thead th {\n",
       "        text-align: right;\n",
       "    }\n",
       "</style>\n",
       "<table border=\"1\" class=\"dataframe\">\n",
       "  <thead>\n",
       "    <tr style=\"text-align: right;\">\n",
       "      <th></th>\n",
       "      <th>features</th>\n",
       "      <th>importance</th>\n",
       "    </tr>\n",
       "  </thead>\n",
       "  <tbody>\n",
       "    <tr>\n",
       "      <th>4</th>\n",
       "      <td>subtotal</td>\n",
       "      <td>0.15</td>\n",
       "    </tr>\n",
       "    <tr>\n",
       "      <th>10</th>\n",
       "      <td>total_outstanding_orders</td>\n",
       "      <td>0.12</td>\n",
       "    </tr>\n",
       "    <tr>\n",
       "      <th>8</th>\n",
       "      <td>total_onshift_partners</td>\n",
       "      <td>0.11</td>\n",
       "    </tr>\n",
       "    <tr>\n",
       "      <th>7</th>\n",
       "      <td>max_item_price</td>\n",
       "      <td>0.10</td>\n",
       "    </tr>\n",
       "    <tr>\n",
       "      <th>6</th>\n",
       "      <td>min_item_price</td>\n",
       "      <td>0.10</td>\n",
       "    </tr>\n",
       "    <tr>\n",
       "      <th>11</th>\n",
       "      <td>created_hour</td>\n",
       "      <td>0.08</td>\n",
       "    </tr>\n",
       "    <tr>\n",
       "      <th>1</th>\n",
       "      <td>store_primary_category</td>\n",
       "      <td>0.07</td>\n",
       "    </tr>\n",
       "    <tr>\n",
       "      <th>9</th>\n",
       "      <td>total_busy_partners</td>\n",
       "      <td>0.07</td>\n",
       "    </tr>\n",
       "    <tr>\n",
       "      <th>12</th>\n",
       "      <td>created_dayofweek</td>\n",
       "      <td>0.06</td>\n",
       "    </tr>\n",
       "    <tr>\n",
       "      <th>2</th>\n",
       "      <td>order_protocol</td>\n",
       "      <td>0.04</td>\n",
       "    </tr>\n",
       "    <tr>\n",
       "      <th>0</th>\n",
       "      <td>market_id</td>\n",
       "      <td>0.03</td>\n",
       "    </tr>\n",
       "    <tr>\n",
       "      <th>5</th>\n",
       "      <td>num_distinct_items</td>\n",
       "      <td>0.03</td>\n",
       "    </tr>\n",
       "    <tr>\n",
       "      <th>3</th>\n",
       "      <td>total_items</td>\n",
       "      <td>0.02</td>\n",
       "    </tr>\n",
       "  </tbody>\n",
       "</table>\n",
       "</div>"
      ],
      "text/plain": [
       "                    features  importance\n",
       "4                   subtotal        0.15\n",
       "10  total_outstanding_orders        0.12\n",
       "8     total_onshift_partners        0.11\n",
       "7             max_item_price        0.10\n",
       "6             min_item_price        0.10\n",
       "11              created_hour        0.08\n",
       "1     store_primary_category        0.07\n",
       "9        total_busy_partners        0.07\n",
       "12         created_dayofweek        0.06\n",
       "2             order_protocol        0.04\n",
       "0                  market_id        0.03\n",
       "5         num_distinct_items        0.03\n",
       "3                total_items        0.02"
      ]
     },
     "execution_count": 75,
     "metadata": {},
     "output_type": "execute_result"
    }
   ],
   "source": [
    "fi = pd.DataFrame()\n",
    "fi['features'] = df.columns[:-1]\n",
    "fi['importance'] = baseline_regressor.feature_importances_\n",
    "fi.sort_values(by='importance', ascending=False)"
   ]
  },
  {
   "cell_type": "code",
   "execution_count": 76,
   "id": "63ce9fbc",
   "metadata": {},
   "outputs": [],
   "source": [
    "from sklearn.decomposition import PCA\n",
    "\n",
    "cs = [2,4,6,8,10,12]\n",
    "info = []\n",
    "for i in cs:\n",
    "    pca = PCA(n_components=i)\n",
    "    vis = pca.fit_transform(x_scaled)\n",
    "    info.append(pca.explained_variance_ratio_.sum())"
   ]
  },
  {
   "cell_type": "code",
   "execution_count": 77,
   "id": "5500242e",
   "metadata": {},
   "outputs": [
    {
     "data": {
      "text/plain": [
       "[<matplotlib.lines.Line2D at 0x2d4ce90bdf0>]"
      ]
     },
     "execution_count": 77,
     "metadata": {},
     "output_type": "execute_result"
    },
    {
     "data": {
      "image/png": "[encoded data removed]",
      "text/plain": [
       "<Figure size 432x288 with 1 Axes>"
      ]
     },
     "metadata": {},
     "output_type": "display_data"
    }
   ],
   "source": [
    "plt.plot(cs, info, '-o')"
   ]
  },
  {
   "cell_type": "code",
   "execution_count": 78,
   "id": "a3a747da",
   "metadata": {},
   "outputs": [
    {
     "data": {
      "text/plain": [
       "<matplotlib.collections.PathCollection at 0x2d4ce7b6850>"
      ]
     },
     "execution_count": 78,
     "metadata": {},
     "output_type": "execute_result"
    },
    {
     "data": {
      "image/png": "[encoded data removed]",
      "text/plain": [
       "<Figure size 720x504 with 1 Axes>"
      ]
     },
     "metadata": {},
     "output_type": "display_data"
    }
   ],
   "source": [
    "from sklearn.decomposition import PCA\n",
    "\n",
    "plt.figure(figsize=(10,7))\n",
    "pca = PCA(n_components=2)\n",
    "vis = pca.fit_transform(x_scaled)\n",
    "plt.scatter(vis[:,0], vis[:,1], s=7)"
   ]
  },
  {
   "cell_type": "code",
   "execution_count": 79,
   "id": "9132c785",
   "metadata": {},
   "outputs": [
    {
     "name": "stdout",
     "output_type": "stream",
     "text": [
      "RMSE :  18.845510972608785\n",
      "MAPE :  0.29933102666415295\n"
     ]
    }
   ],
   "source": [
    "pca = PCA(n_components=8)\n",
    "\n",
    "Xpca = pca.fit_transform(x_scaled)\n",
    "y = df['delivery_time_mins']\n",
    "\n",
    "X_train, X_test, y_train, y_test = train_test_split(Xpca, y, test_size=0.2, random_state=0)\n",
    "\n",
    "baseline_regressor = RandomForestRegressor(random_state=0)\n",
    " \n",
    "baseline_regressor.fit(X_train, y_train)\n",
    "\n",
    "y_pred = baseline_regressor.predict(X_test)\n",
    "print(\"RMSE : \", mse(y_test, y_pred)**0.5)\n",
    "print(\"MAPE : \", mape(y_test, y_pred))"
   ]
  },
  {
   "cell_type": "markdown",
   "id": "6905abb6",
   "metadata": {},
   "source": [
    "PCA didn't really help in improving our model performance and hence let's try to remove outliers first with a different method."
   ]
  },
  {
   "cell_type": "code",
   "execution_count": 80,
   "id": "ce07f25a",
   "metadata": {},
   "outputs": [],
   "source": [
    "from sklearn.neighbors import LocalOutlierFactor\n",
    "from sklearn.ensemble import IsolationForest\n",
    "from sklearn.covariance import EllipticEnvelope"
   ]
  },
  {
   "cell_type": "code",
   "execution_count": 81,
   "id": "6ba09f9f",
   "metadata": {},
   "outputs": [
    {
     "data": {
      "image/png": "[encoded data removed]",
      "text/plain": [
       "<Figure size 720x504 with 1 Axes>"
      ]
     },
     "metadata": {},
     "output_type": "display_data"
    }
   ],
   "source": [
    "plt.figure(figsize=(10,7))\n",
    "is_outlier = IsolationForest(contamination = 0.05, random_state=0, n_estimators=100).fit_predict(vis)\n",
    "plt.scatter(vis[:,0], vis[:,1], s=7, c=is_outlier)\n",
    "plt.show()"
   ]
  },
  {
   "cell_type": "code",
   "execution_count": 82,
   "id": "51751eb2",
   "metadata": {},
   "outputs": [
    {
     "data": {
      "image/png": "[encoded data removed]",
      "text/plain": [
       "<Figure size 720x504 with 1 Axes>"
      ]
     },
     "metadata": {},
     "output_type": "display_data"
    }
   ],
   "source": [
    "plt.figure(figsize=(10,7))\n",
    "is_outlier = LocalOutlierFactor(n_neighbors=5, contamination=0.10).fit_predict(vis)\n",
    "plt.scatter(vis[:,0], vis[:,1], s=7, c=is_outlier)\n",
    "plt.show()"
   ]
  },
  {
   "cell_type": "markdown",
   "id": "daa9800b",
   "metadata": {},
   "source": [
    "Let us train a model on non-outliers data we got from LOF method using contamination=10"
   ]
  },
  {
   "cell_type": "code",
   "execution_count": 83,
   "id": "f9bdac1e",
   "metadata": {},
   "outputs": [
    {
     "data": {
      "text/plain": [
       "177678.9"
      ]
     },
     "execution_count": 83,
     "metadata": {},
     "output_type": "execute_result"
    }
   ],
   "source": [
    "df.shape[0] - df.shape[0] * 0.1"
   ]
  },
  {
   "cell_type": "code",
   "execution_count": 84,
   "id": "44c72e03",
   "metadata": {},
   "outputs": [
    {
     "data": {
      "text/plain": [
       "array([ 1,  1, -1, ...,  1,  1, -1])"
      ]
     },
     "execution_count": 84,
     "metadata": {},
     "output_type": "execute_result"
    }
   ],
   "source": [
    "is_outlier"
   ]
  },
  {
   "cell_type": "code",
   "execution_count": 85,
   "id": "b58df433",
   "metadata": {},
   "outputs": [
    {
     "data": {
      "text/html": [
       "<div>\n",
       "<style scoped>\n",
       "    .dataframe tbody tr th:only-of-type {\n",
       "        vertical-align: middle;\n",
       "    }\n",
       "\n",
       "    .dataframe tbody tr th {\n",
       "        vertical-align: top;\n",
       "    }\n",
       "\n",
       "    .dataframe thead th {\n",
       "        text-align: right;\n",
       "    }\n",
       "</style>\n",
       "<table border=\"1\" class=\"dataframe\">\n",
       "  <thead>\n",
       "    <tr style=\"text-align: right;\">\n",
       "      <th></th>\n",
       "      <th>market_id</th>\n",
       "      <th>store_primary_category</th>\n",
       "      <th>order_protocol</th>\n",
       "      <th>total_items</th>\n",
       "      <th>subtotal</th>\n",
       "      <th>num_distinct_items</th>\n",
       "      <th>min_item_price</th>\n",
       "      <th>max_item_price</th>\n",
       "      <th>total_onshift_partners</th>\n",
       "      <th>total_busy_partners</th>\n",
       "      <th>total_outstanding_orders</th>\n",
       "      <th>created_hour</th>\n",
       "      <th>created_dayofweek</th>\n",
       "      <th>delivery_time_mins</th>\n",
       "    </tr>\n",
       "  </thead>\n",
       "  <tbody>\n",
       "    <tr>\n",
       "      <th>0</th>\n",
       "      <td>1.00</td>\n",
       "      <td>4</td>\n",
       "      <td>1.00</td>\n",
       "      <td>4</td>\n",
       "      <td>3441</td>\n",
       "      <td>4</td>\n",
       "      <td>557</td>\n",
       "      <td>1239</td>\n",
       "      <td>33.00</td>\n",
       "      <td>14.00</td>\n",
       "      <td>21.00</td>\n",
       "      <td>22</td>\n",
       "      <td>4</td>\n",
       "      <td>62.98</td>\n",
       "    </tr>\n",
       "    <tr>\n",
       "      <th>1</th>\n",
       "      <td>2.00</td>\n",
       "      <td>47</td>\n",
       "      <td>2.00</td>\n",
       "      <td>1</td>\n",
       "      <td>1900</td>\n",
       "      <td>1</td>\n",
       "      <td>1400</td>\n",
       "      <td>1400</td>\n",
       "      <td>1.00</td>\n",
       "      <td>2.00</td>\n",
       "      <td>2.00</td>\n",
       "      <td>21</td>\n",
       "      <td>1</td>\n",
       "      <td>67.07</td>\n",
       "    </tr>\n",
       "    <tr>\n",
       "      <th>3</th>\n",
       "      <td>3.00</td>\n",
       "      <td>4</td>\n",
       "      <td>1.00</td>\n",
       "      <td>6</td>\n",
       "      <td>6900</td>\n",
       "      <td>5</td>\n",
       "      <td>600</td>\n",
       "      <td>1800</td>\n",
       "      <td>1.00</td>\n",
       "      <td>1.00</td>\n",
       "      <td>2.00</td>\n",
       "      <td>21</td>\n",
       "      <td>1</td>\n",
       "      <td>51.25</td>\n",
       "    </tr>\n",
       "    <tr>\n",
       "      <th>4</th>\n",
       "      <td>3.00</td>\n",
       "      <td>4</td>\n",
       "      <td>1.00</td>\n",
       "      <td>3</td>\n",
       "      <td>3900</td>\n",
       "      <td>3</td>\n",
       "      <td>1100</td>\n",
       "      <td>1600</td>\n",
       "      <td>6.00</td>\n",
       "      <td>6.00</td>\n",
       "      <td>9.00</td>\n",
       "      <td>2</td>\n",
       "      <td>6</td>\n",
       "      <td>39.83</td>\n",
       "    </tr>\n",
       "    <tr>\n",
       "      <th>5</th>\n",
       "      <td>3.00</td>\n",
       "      <td>4</td>\n",
       "      <td>1.00</td>\n",
       "      <td>3</td>\n",
       "      <td>5000</td>\n",
       "      <td>3</td>\n",
       "      <td>1500</td>\n",
       "      <td>1900</td>\n",
       "      <td>2.00</td>\n",
       "      <td>2.00</td>\n",
       "      <td>2.00</td>\n",
       "      <td>20</td>\n",
       "      <td>2</td>\n",
       "      <td>38.33</td>\n",
       "    </tr>\n",
       "    <tr>\n",
       "      <th>...</th>\n",
       "      <td>...</td>\n",
       "      <td>...</td>\n",
       "      <td>...</td>\n",
       "      <td>...</td>\n",
       "      <td>...</td>\n",
       "      <td>...</td>\n",
       "      <td>...</td>\n",
       "      <td>...</td>\n",
       "      <td>...</td>\n",
       "      <td>...</td>\n",
       "      <td>...</td>\n",
       "      <td>...</td>\n",
       "      <td>...</td>\n",
       "      <td>...</td>\n",
       "    </tr>\n",
       "    <tr>\n",
       "      <th>197414</th>\n",
       "      <td>1.00</td>\n",
       "      <td>28</td>\n",
       "      <td>4.00</td>\n",
       "      <td>2</td>\n",
       "      <td>979</td>\n",
       "      <td>2</td>\n",
       "      <td>145</td>\n",
       "      <td>339</td>\n",
       "      <td>67.00</td>\n",
       "      <td>60.00</td>\n",
       "      <td>86.00</td>\n",
       "      <td>3</td>\n",
       "      <td>4</td>\n",
       "      <td>67.30</td>\n",
       "    </tr>\n",
       "    <tr>\n",
       "      <th>197415</th>\n",
       "      <td>1.00</td>\n",
       "      <td>28</td>\n",
       "      <td>4.00</td>\n",
       "      <td>7</td>\n",
       "      <td>2445</td>\n",
       "      <td>3</td>\n",
       "      <td>145</td>\n",
       "      <td>585</td>\n",
       "      <td>23.00</td>\n",
       "      <td>24.00</td>\n",
       "      <td>24.00</td>\n",
       "      <td>19</td>\n",
       "      <td>5</td>\n",
       "      <td>39.40</td>\n",
       "    </tr>\n",
       "    <tr>\n",
       "      <th>197416</th>\n",
       "      <td>1.00</td>\n",
       "      <td>28</td>\n",
       "      <td>4.00</td>\n",
       "      <td>3</td>\n",
       "      <td>1389</td>\n",
       "      <td>3</td>\n",
       "      <td>345</td>\n",
       "      <td>649</td>\n",
       "      <td>17.00</td>\n",
       "      <td>17.00</td>\n",
       "      <td>23.00</td>\n",
       "      <td>0</td>\n",
       "      <td>1</td>\n",
       "      <td>65.12</td>\n",
       "    </tr>\n",
       "    <tr>\n",
       "      <th>197418</th>\n",
       "      <td>1.00</td>\n",
       "      <td>28</td>\n",
       "      <td>4.00</td>\n",
       "      <td>5</td>\n",
       "      <td>1836</td>\n",
       "      <td>3</td>\n",
       "      <td>300</td>\n",
       "      <td>399</td>\n",
       "      <td>39.00</td>\n",
       "      <td>41.00</td>\n",
       "      <td>40.00</td>\n",
       "      <td>4</td>\n",
       "      <td>5</td>\n",
       "      <td>50.13</td>\n",
       "    </tr>\n",
       "    <tr>\n",
       "      <th>197419</th>\n",
       "      <td>1.00</td>\n",
       "      <td>59</td>\n",
       "      <td>1.00</td>\n",
       "      <td>1</td>\n",
       "      <td>1175</td>\n",
       "      <td>1</td>\n",
       "      <td>535</td>\n",
       "      <td>535</td>\n",
       "      <td>7.00</td>\n",
       "      <td>7.00</td>\n",
       "      <td>12.00</td>\n",
       "      <td>18</td>\n",
       "      <td>6</td>\n",
       "      <td>65.12</td>\n",
       "    </tr>\n",
       "  </tbody>\n",
       "</table>\n",
       "<p>177679 rows × 14 columns</p>\n",
       "</div>"
      ],
      "text/plain": [
       "        market_id  store_primary_category  order_protocol  total_items  \\\n",
       "0            1.00                       4            1.00            4   \n",
       "1            2.00                      47            2.00            1   \n",
       "3            3.00                       4            1.00            6   \n",
       "4            3.00                       4            1.00            3   \n",
       "5            3.00                       4            1.00            3   \n",
       "...           ...                     ...             ...          ...   \n",
       "197414       1.00                      28            4.00            2   \n",
       "197415       1.00                      28            4.00            7   \n",
       "197416       1.00                      28            4.00            3   \n",
       "197418       1.00                      28            4.00            5   \n",
       "197419       1.00                      59            1.00            1   \n",
       "\n",
       "        subtotal  num_distinct_items  min_item_price  max_item_price  \\\n",
       "0           3441                   4             557            1239   \n",
       "1           1900                   1            1400            1400   \n",
       "3           6900                   5             600            1800   \n",
       "4           3900                   3            1100            1600   \n",
       "5           5000                   3            1500            1900   \n",
       "...          ...                 ...             ...             ...   \n",
       "197414       979                   2             145             339   \n",
       "197415      2445                   3             145             585   \n",
       "197416      1389                   3             345             649   \n",
       "197418      1836                   3             300             399   \n",
       "197419      1175                   1             535             535   \n",
       "\n",
       "        total_onshift_partners  total_busy_partners  total_outstanding_orders  \\\n",
       "0                        33.00                14.00                     21.00   \n",
       "1                         1.00                 2.00                      2.00   \n",
       "3                         1.00                 1.00                      2.00   \n",
       "4                         6.00                 6.00                      9.00   \n",
       "5                         2.00                 2.00                      2.00   \n",
       "...                        ...                  ...                       ...   \n",
       "197414                   67.00                60.00                     86.00   \n",
       "197415                   23.00                24.00                     24.00   \n",
       "197416                   17.00                17.00                     23.00   \n",
       "197418                   39.00                41.00                     40.00   \n",
       "197419                    7.00                 7.00                     12.00   \n",
       "\n",
       "        created_hour  created_dayofweek  delivery_time_mins  \n",
       "0                 22                  4               62.98  \n",
       "1                 21                  1               67.07  \n",
       "3                 21                  1               51.25  \n",
       "4                  2                  6               39.83  \n",
       "5                 20                  2               38.33  \n",
       "...              ...                ...                 ...  \n",
       "197414             3                  4               67.30  \n",
       "197415            19                  5               39.40  \n",
       "197416             0                  1               65.12  \n",
       "197418             4                  5               50.13  \n",
       "197419            18                  6               65.12  \n",
       "\n",
       "[177679 rows x 14 columns]"
      ]
     },
     "execution_count": 85,
     "metadata": {},
     "output_type": "execute_result"
    }
   ],
   "source": [
    "df[is_outlier==1]"
   ]
  },
  {
   "cell_type": "code",
   "execution_count": 86,
   "id": "8a88ad26",
   "metadata": {},
   "outputs": [],
   "source": [
    "df_nooutliers = df[is_outlier==1]\n",
    "df_nooutliers.reset_index(inplace=True,drop=True)"
   ]
  },
  {
   "cell_type": "code",
   "execution_count": 87,
   "id": "eecb4371",
   "metadata": {},
   "outputs": [
    {
     "data": {
      "text/html": [
       "<div>\n",
       "<style scoped>\n",
       "    .dataframe tbody tr th:only-of-type {\n",
       "        vertical-align: middle;\n",
       "    }\n",
       "\n",
       "    .dataframe tbody tr th {\n",
       "        vertical-align: top;\n",
       "    }\n",
       "\n",
       "    .dataframe thead th {\n",
       "        text-align: right;\n",
       "    }\n",
       "</style>\n",
       "<table border=\"1\" class=\"dataframe\">\n",
       "  <thead>\n",
       "    <tr style=\"text-align: right;\">\n",
       "      <th></th>\n",
       "      <th>market_id</th>\n",
       "      <th>store_primary_category</th>\n",
       "      <th>order_protocol</th>\n",
       "      <th>total_items</th>\n",
       "      <th>subtotal</th>\n",
       "      <th>num_distinct_items</th>\n",
       "      <th>min_item_price</th>\n",
       "      <th>max_item_price</th>\n",
       "      <th>total_onshift_partners</th>\n",
       "      <th>total_busy_partners</th>\n",
       "      <th>total_outstanding_orders</th>\n",
       "      <th>created_hour</th>\n",
       "      <th>created_dayofweek</th>\n",
       "      <th>delivery_time_mins</th>\n",
       "    </tr>\n",
       "  </thead>\n",
       "  <tbody>\n",
       "    <tr>\n",
       "      <th>0</th>\n",
       "      <td>1.00</td>\n",
       "      <td>4</td>\n",
       "      <td>1.00</td>\n",
       "      <td>4</td>\n",
       "      <td>3441</td>\n",
       "      <td>4</td>\n",
       "      <td>557</td>\n",
       "      <td>1239</td>\n",
       "      <td>33.00</td>\n",
       "      <td>14.00</td>\n",
       "      <td>21.00</td>\n",
       "      <td>22</td>\n",
       "      <td>4</td>\n",
       "      <td>62.98</td>\n",
       "    </tr>\n",
       "    <tr>\n",
       "      <th>1</th>\n",
       "      <td>2.00</td>\n",
       "      <td>47</td>\n",
       "      <td>2.00</td>\n",
       "      <td>1</td>\n",
       "      <td>1900</td>\n",
       "      <td>1</td>\n",
       "      <td>1400</td>\n",
       "      <td>1400</td>\n",
       "      <td>1.00</td>\n",
       "      <td>2.00</td>\n",
       "      <td>2.00</td>\n",
       "      <td>21</td>\n",
       "      <td>1</td>\n",
       "      <td>67.07</td>\n",
       "    </tr>\n",
       "    <tr>\n",
       "      <th>2</th>\n",
       "      <td>3.00</td>\n",
       "      <td>4</td>\n",
       "      <td>1.00</td>\n",
       "      <td>6</td>\n",
       "      <td>6900</td>\n",
       "      <td>5</td>\n",
       "      <td>600</td>\n",
       "      <td>1800</td>\n",
       "      <td>1.00</td>\n",
       "      <td>1.00</td>\n",
       "      <td>2.00</td>\n",
       "      <td>21</td>\n",
       "      <td>1</td>\n",
       "      <td>51.25</td>\n",
       "    </tr>\n",
       "    <tr>\n",
       "      <th>3</th>\n",
       "      <td>3.00</td>\n",
       "      <td>4</td>\n",
       "      <td>1.00</td>\n",
       "      <td>3</td>\n",
       "      <td>3900</td>\n",
       "      <td>3</td>\n",
       "      <td>1100</td>\n",
       "      <td>1600</td>\n",
       "      <td>6.00</td>\n",
       "      <td>6.00</td>\n",
       "      <td>9.00</td>\n",
       "      <td>2</td>\n",
       "      <td>6</td>\n",
       "      <td>39.83</td>\n",
       "    </tr>\n",
       "    <tr>\n",
       "      <th>4</th>\n",
       "      <td>3.00</td>\n",
       "      <td>4</td>\n",
       "      <td>1.00</td>\n",
       "      <td>3</td>\n",
       "      <td>5000</td>\n",
       "      <td>3</td>\n",
       "      <td>1500</td>\n",
       "      <td>1900</td>\n",
       "      <td>2.00</td>\n",
       "      <td>2.00</td>\n",
       "      <td>2.00</td>\n",
       "      <td>20</td>\n",
       "      <td>2</td>\n",
       "      <td>38.33</td>\n",
       "    </tr>\n",
       "    <tr>\n",
       "      <th>...</th>\n",
       "      <td>...</td>\n",
       "      <td>...</td>\n",
       "      <td>...</td>\n",
       "      <td>...</td>\n",
       "      <td>...</td>\n",
       "      <td>...</td>\n",
       "      <td>...</td>\n",
       "      <td>...</td>\n",
       "      <td>...</td>\n",
       "      <td>...</td>\n",
       "      <td>...</td>\n",
       "      <td>...</td>\n",
       "      <td>...</td>\n",
       "      <td>...</td>\n",
       "    </tr>\n",
       "    <tr>\n",
       "      <th>177674</th>\n",
       "      <td>1.00</td>\n",
       "      <td>28</td>\n",
       "      <td>4.00</td>\n",
       "      <td>2</td>\n",
       "      <td>979</td>\n",
       "      <td>2</td>\n",
       "      <td>145</td>\n",
       "      <td>339</td>\n",
       "      <td>67.00</td>\n",
       "      <td>60.00</td>\n",
       "      <td>86.00</td>\n",
       "      <td>3</td>\n",
       "      <td>4</td>\n",
       "      <td>67.30</td>\n",
       "    </tr>\n",
       "    <tr>\n",
       "      <th>177675</th>\n",
       "      <td>1.00</td>\n",
       "      <td>28</td>\n",
       "      <td>4.00</td>\n",
       "      <td>7</td>\n",
       "      <td>2445</td>\n",
       "      <td>3</td>\n",
       "      <td>145</td>\n",
       "      <td>585</td>\n",
       "      <td>23.00</td>\n",
       "      <td>24.00</td>\n",
       "      <td>24.00</td>\n",
       "      <td>19</td>\n",
       "      <td>5</td>\n",
       "      <td>39.40</td>\n",
       "    </tr>\n",
       "    <tr>\n",
       "      <th>177676</th>\n",
       "      <td>1.00</td>\n",
       "      <td>28</td>\n",
       "      <td>4.00</td>\n",
       "      <td>3</td>\n",
       "      <td>1389</td>\n",
       "      <td>3</td>\n",
       "      <td>345</td>\n",
       "      <td>649</td>\n",
       "      <td>17.00</td>\n",
       "      <td>17.00</td>\n",
       "      <td>23.00</td>\n",
       "      <td>0</td>\n",
       "      <td>1</td>\n",
       "      <td>65.12</td>\n",
       "    </tr>\n",
       "    <tr>\n",
       "      <th>177677</th>\n",
       "      <td>1.00</td>\n",
       "      <td>28</td>\n",
       "      <td>4.00</td>\n",
       "      <td>5</td>\n",
       "      <td>1836</td>\n",
       "      <td>3</td>\n",
       "      <td>300</td>\n",
       "      <td>399</td>\n",
       "      <td>39.00</td>\n",
       "      <td>41.00</td>\n",
       "      <td>40.00</td>\n",
       "      <td>4</td>\n",
       "      <td>5</td>\n",
       "      <td>50.13</td>\n",
       "    </tr>\n",
       "    <tr>\n",
       "      <th>177678</th>\n",
       "      <td>1.00</td>\n",
       "      <td>59</td>\n",
       "      <td>1.00</td>\n",
       "      <td>1</td>\n",
       "      <td>1175</td>\n",
       "      <td>1</td>\n",
       "      <td>535</td>\n",
       "      <td>535</td>\n",
       "      <td>7.00</td>\n",
       "      <td>7.00</td>\n",
       "      <td>12.00</td>\n",
       "      <td>18</td>\n",
       "      <td>6</td>\n",
       "      <td>65.12</td>\n",
       "    </tr>\n",
       "  </tbody>\n",
       "</table>\n",
       "<p>177679 rows × 14 columns</p>\n",
       "</div>"
      ],
      "text/plain": [
       "        market_id  store_primary_category  order_protocol  total_items  \\\n",
       "0            1.00                       4            1.00            4   \n",
       "1            2.00                      47            2.00            1   \n",
       "2            3.00                       4            1.00            6   \n",
       "3            3.00                       4            1.00            3   \n",
       "4            3.00                       4            1.00            3   \n",
       "...           ...                     ...             ...          ...   \n",
       "177674       1.00                      28            4.00            2   \n",
       "177675       1.00                      28            4.00            7   \n",
       "177676       1.00                      28            4.00            3   \n",
       "177677       1.00                      28            4.00            5   \n",
       "177678       1.00                      59            1.00            1   \n",
       "\n",
       "        subtotal  num_distinct_items  min_item_price  max_item_price  \\\n",
       "0           3441                   4             557            1239   \n",
       "1           1900                   1            1400            1400   \n",
       "2           6900                   5             600            1800   \n",
       "3           3900                   3            1100            1600   \n",
       "4           5000                   3            1500            1900   \n",
       "...          ...                 ...             ...             ...   \n",
       "177674       979                   2             145             339   \n",
       "177675      2445                   3             145             585   \n",
       "177676      1389                   3             345             649   \n",
       "177677      1836                   3             300             399   \n",
       "177678      1175                   1             535             535   \n",
       "\n",
       "        total_onshift_partners  total_busy_partners  total_outstanding_orders  \\\n",
       "0                        33.00                14.00                     21.00   \n",
       "1                         1.00                 2.00                      2.00   \n",
       "2                         1.00                 1.00                      2.00   \n",
       "3                         6.00                 6.00                      9.00   \n",
       "4                         2.00                 2.00                      2.00   \n",
       "...                        ...                  ...                       ...   \n",
       "177674                   67.00                60.00                     86.00   \n",
       "177675                   23.00                24.00                     24.00   \n",
       "177676                   17.00                17.00                     23.00   \n",
       "177677                   39.00                41.00                     40.00   \n",
       "177678                    7.00                 7.00                     12.00   \n",
       "\n",
       "        created_hour  created_dayofweek  delivery_time_mins  \n",
       "0                 22                  4               62.98  \n",
       "1                 21                  1               67.07  \n",
       "2                 21                  1               51.25  \n",
       "3                  2                  6               39.83  \n",
       "4                 20                  2               38.33  \n",
       "...              ...                ...                 ...  \n",
       "177674             3                  4               67.30  \n",
       "177675            19                  5               39.40  \n",
       "177676             0                  1               65.12  \n",
       "177677             4                  5               50.13  \n",
       "177678            18                  6               65.12  \n",
       "\n",
       "[177679 rows x 14 columns]"
      ]
     },
     "execution_count": 87,
     "metadata": {},
     "output_type": "execute_result"
    }
   ],
   "source": [
    "df_nooutliers"
   ]
  },
  {
   "cell_type": "code",
   "execution_count": 88,
   "id": "ea345198",
   "metadata": {},
   "outputs": [],
   "source": [
    "x = df_nooutliers.drop(['delivery_time_mins'], axis=1)\n",
    "y=df_nooutliers['delivery_time_mins']\n",
    "\n",
    "scaler = StandardScaler()\n",
    "x_scaled = scaler.fit_transform(x)\n",
    "X_train, X_test, y_train, y_test = train_test_split(x_scaled, y, test_size=0.2, random_state=0)"
   ]
  },
  {
   "cell_type": "code",
   "execution_count": 89,
   "id": "5c8b4f46",
   "metadata": {},
   "outputs": [
    {
     "name": "stdout",
     "output_type": "stream",
     "text": [
      "RMSE :  18.12149271033784\n",
      "MAPE :  0.27140392295575483\n"
     ]
    }
   ],
   "source": [
    "baseline_regressor = RandomForestRegressor(random_state=0)\n",
    " \n",
    "baseline_regressor.fit(X_train, y_train)\n",
    "\n",
    "y_pred = baseline_regressor.predict(X_test)\n",
    "print(\"RMSE : \", mse(y_test, y_pred)**0.5)\n",
    "print(\"MAPE : \", mape(y_test, y_pred))"
   ]
  },
  {
   "cell_type": "markdown",
   "id": "af743f95",
   "metadata": {},
   "source": [
    "The accuracy slightly improved but let us try some other method outlier removal. Let us try using 3IQR range "
   ]
  },
  {
   "cell_type": "code",
   "execution_count": 90,
   "id": "8517a91b",
   "metadata": {},
   "outputs": [
    {
     "data": {
      "image/png": "[encoded data removed]",
      "text/plain": [
       "<Figure size 1440x1080 with 13 Axes>"
      ]
     },
     "metadata": {},
     "output_type": "display_data"
    }
   ],
   "source": [
    "plt.figure(figsize=(20,15))\n",
    "for c in range (0,len(num)):\n",
    "    plt.subplot(4,4,c+1)\n",
    "    sns.boxplot(data = df, x=num[c])"
   ]
  },
  {
   "cell_type": "code",
   "execution_count": 91,
   "id": "96e917f2",
   "metadata": {},
   "outputs": [],
   "source": [
    "# This function is going to determine outliers based on IQR.\n",
    "# Once outliers are identified, they will be removed from dataset.\n",
    "def remove_outliers(data,column):\n",
    "    first_quartile = data[column].quantile(0.25)\n",
    "    third_quartile = data[column].quantile(0.75)\n",
    "    IQR = third_quartile - first_quartile\n",
    "    hg_boundry = third_quartile + (3*IQR)\n",
    "    lw_boundry = first_quartile - (3*IQR)\n",
    "    data.drop( data[(data[column] > hg_boundry) | (data[column] < lw_boundry) ].index, axis=0, inplace=True)"
   ]
  },
  {
   "cell_type": "code",
   "execution_count": 92,
   "id": "32073f08",
   "metadata": {},
   "outputs": [],
   "source": [
    "for i in range(len(num)):\n",
    "    remove_outliers(df,num[i])"
   ]
  },
  {
   "cell_type": "code",
   "execution_count": 93,
   "id": "38bf1b10",
   "metadata": {},
   "outputs": [
    {
     "data": {
      "image/png": "[encoded data removed]",
      "text/plain": [
       "<Figure size 1440x1080 with 13 Axes>"
      ]
     },
     "metadata": {},
     "output_type": "display_data"
    }
   ],
   "source": [
    "plt.figure(figsize=(20,15))\n",
    "for c in range (0,len(num)):\n",
    "    plt.subplot(4,4,c+1)\n",
    "    sns.boxplot(data = df, x=num[c])"
   ]
  },
  {
   "cell_type": "code",
   "execution_count": 94,
   "id": "026d892e",
   "metadata": {},
   "outputs": [],
   "source": [
    "df.reset_index(inplace=True, drop=True)"
   ]
  },
  {
   "cell_type": "code",
   "execution_count": 95,
   "id": "e932e0d0",
   "metadata": {},
   "outputs": [
    {
     "data": {
      "text/html": [
       "<div>\n",
       "<style scoped>\n",
       "    .dataframe tbody tr th:only-of-type {\n",
       "        vertical-align: middle;\n",
       "    }\n",
       "\n",
       "    .dataframe tbody tr th {\n",
       "        vertical-align: top;\n",
       "    }\n",
       "\n",
       "    .dataframe thead th {\n",
       "        text-align: right;\n",
       "    }\n",
       "</style>\n",
       "<table border=\"1\" class=\"dataframe\">\n",
       "  <thead>\n",
       "    <tr style=\"text-align: right;\">\n",
       "      <th></th>\n",
       "      <th>market_id</th>\n",
       "      <th>store_primary_category</th>\n",
       "      <th>order_protocol</th>\n",
       "      <th>total_items</th>\n",
       "      <th>subtotal</th>\n",
       "      <th>num_distinct_items</th>\n",
       "      <th>min_item_price</th>\n",
       "      <th>max_item_price</th>\n",
       "      <th>total_onshift_partners</th>\n",
       "      <th>total_busy_partners</th>\n",
       "      <th>total_outstanding_orders</th>\n",
       "      <th>created_hour</th>\n",
       "      <th>created_dayofweek</th>\n",
       "      <th>delivery_time_mins</th>\n",
       "    </tr>\n",
       "  </thead>\n",
       "  <tbody>\n",
       "    <tr>\n",
       "      <th>0</th>\n",
       "      <td>1.00</td>\n",
       "      <td>4</td>\n",
       "      <td>1.00</td>\n",
       "      <td>4</td>\n",
       "      <td>3441</td>\n",
       "      <td>4</td>\n",
       "      <td>557</td>\n",
       "      <td>1239</td>\n",
       "      <td>33.00</td>\n",
       "      <td>14.00</td>\n",
       "      <td>21.00</td>\n",
       "      <td>22</td>\n",
       "      <td>4</td>\n",
       "      <td>62.98</td>\n",
       "    </tr>\n",
       "    <tr>\n",
       "      <th>1</th>\n",
       "      <td>2.00</td>\n",
       "      <td>47</td>\n",
       "      <td>2.00</td>\n",
       "      <td>1</td>\n",
       "      <td>1900</td>\n",
       "      <td>1</td>\n",
       "      <td>1400</td>\n",
       "      <td>1400</td>\n",
       "      <td>1.00</td>\n",
       "      <td>2.00</td>\n",
       "      <td>2.00</td>\n",
       "      <td>21</td>\n",
       "      <td>1</td>\n",
       "      <td>67.07</td>\n",
       "    </tr>\n",
       "    <tr>\n",
       "      <th>2</th>\n",
       "      <td>3.00</td>\n",
       "      <td>4</td>\n",
       "      <td>1.00</td>\n",
       "      <td>1</td>\n",
       "      <td>1900</td>\n",
       "      <td>1</td>\n",
       "      <td>1900</td>\n",
       "      <td>1900</td>\n",
       "      <td>1.00</td>\n",
       "      <td>0.00</td>\n",
       "      <td>0.00</td>\n",
       "      <td>20</td>\n",
       "      <td>3</td>\n",
       "      <td>29.68</td>\n",
       "    </tr>\n",
       "    <tr>\n",
       "      <th>3</th>\n",
       "      <td>3.00</td>\n",
       "      <td>4</td>\n",
       "      <td>1.00</td>\n",
       "      <td>6</td>\n",
       "      <td>6900</td>\n",
       "      <td>5</td>\n",
       "      <td>600</td>\n",
       "      <td>1800</td>\n",
       "      <td>1.00</td>\n",
       "      <td>1.00</td>\n",
       "      <td>2.00</td>\n",
       "      <td>21</td>\n",
       "      <td>1</td>\n",
       "      <td>51.25</td>\n",
       "    </tr>\n",
       "    <tr>\n",
       "      <th>4</th>\n",
       "      <td>3.00</td>\n",
       "      <td>4</td>\n",
       "      <td>1.00</td>\n",
       "      <td>3</td>\n",
       "      <td>3900</td>\n",
       "      <td>3</td>\n",
       "      <td>1100</td>\n",
       "      <td>1600</td>\n",
       "      <td>6.00</td>\n",
       "      <td>6.00</td>\n",
       "      <td>9.00</td>\n",
       "      <td>2</td>\n",
       "      <td>6</td>\n",
       "      <td>39.83</td>\n",
       "    </tr>\n",
       "    <tr>\n",
       "      <th>...</th>\n",
       "      <td>...</td>\n",
       "      <td>...</td>\n",
       "      <td>...</td>\n",
       "      <td>...</td>\n",
       "      <td>...</td>\n",
       "      <td>...</td>\n",
       "      <td>...</td>\n",
       "      <td>...</td>\n",
       "      <td>...</td>\n",
       "      <td>...</td>\n",
       "      <td>...</td>\n",
       "      <td>...</td>\n",
       "      <td>...</td>\n",
       "      <td>...</td>\n",
       "    </tr>\n",
       "    <tr>\n",
       "      <th>189565</th>\n",
       "      <td>1.00</td>\n",
       "      <td>28</td>\n",
       "      <td>4.00</td>\n",
       "      <td>3</td>\n",
       "      <td>1389</td>\n",
       "      <td>3</td>\n",
       "      <td>345</td>\n",
       "      <td>649</td>\n",
       "      <td>17.00</td>\n",
       "      <td>17.00</td>\n",
       "      <td>23.00</td>\n",
       "      <td>0</td>\n",
       "      <td>1</td>\n",
       "      <td>65.12</td>\n",
       "    </tr>\n",
       "    <tr>\n",
       "      <th>189566</th>\n",
       "      <td>1.00</td>\n",
       "      <td>28</td>\n",
       "      <td>4.00</td>\n",
       "      <td>6</td>\n",
       "      <td>3010</td>\n",
       "      <td>4</td>\n",
       "      <td>405</td>\n",
       "      <td>825</td>\n",
       "      <td>12.00</td>\n",
       "      <td>11.00</td>\n",
       "      <td>14.00</td>\n",
       "      <td>0</td>\n",
       "      <td>4</td>\n",
       "      <td>56.38</td>\n",
       "    </tr>\n",
       "    <tr>\n",
       "      <th>189567</th>\n",
       "      <td>1.00</td>\n",
       "      <td>28</td>\n",
       "      <td>4.00</td>\n",
       "      <td>5</td>\n",
       "      <td>1836</td>\n",
       "      <td>3</td>\n",
       "      <td>300</td>\n",
       "      <td>399</td>\n",
       "      <td>39.00</td>\n",
       "      <td>41.00</td>\n",
       "      <td>40.00</td>\n",
       "      <td>4</td>\n",
       "      <td>5</td>\n",
       "      <td>50.13</td>\n",
       "    </tr>\n",
       "    <tr>\n",
       "      <th>189568</th>\n",
       "      <td>1.00</td>\n",
       "      <td>59</td>\n",
       "      <td>1.00</td>\n",
       "      <td>1</td>\n",
       "      <td>1175</td>\n",
       "      <td>1</td>\n",
       "      <td>535</td>\n",
       "      <td>535</td>\n",
       "      <td>7.00</td>\n",
       "      <td>7.00</td>\n",
       "      <td>12.00</td>\n",
       "      <td>18</td>\n",
       "      <td>6</td>\n",
       "      <td>65.12</td>\n",
       "    </tr>\n",
       "    <tr>\n",
       "      <th>189569</th>\n",
       "      <td>1.00</td>\n",
       "      <td>59</td>\n",
       "      <td>1.00</td>\n",
       "      <td>4</td>\n",
       "      <td>2605</td>\n",
       "      <td>4</td>\n",
       "      <td>425</td>\n",
       "      <td>750</td>\n",
       "      <td>20.00</td>\n",
       "      <td>20.00</td>\n",
       "      <td>23.00</td>\n",
       "      <td>19</td>\n",
       "      <td>6</td>\n",
       "      <td>37.13</td>\n",
       "    </tr>\n",
       "  </tbody>\n",
       "</table>\n",
       "<p>189570 rows × 14 columns</p>\n",
       "</div>"
      ],
      "text/plain": [
       "        market_id  store_primary_category  order_protocol  total_items  \\\n",
       "0            1.00                       4            1.00            4   \n",
       "1            2.00                      47            2.00            1   \n",
       "2            3.00                       4            1.00            1   \n",
       "3            3.00                       4            1.00            6   \n",
       "4            3.00                       4            1.00            3   \n",
       "...           ...                     ...             ...          ...   \n",
       "189565       1.00                      28            4.00            3   \n",
       "189566       1.00                      28            4.00            6   \n",
       "189567       1.00                      28            4.00            5   \n",
       "189568       1.00                      59            1.00            1   \n",
       "189569       1.00                      59            1.00            4   \n",
       "\n",
       "        subtotal  num_distinct_items  min_item_price  max_item_price  \\\n",
       "0           3441                   4             557            1239   \n",
       "1           1900                   1            1400            1400   \n",
       "2           1900                   1            1900            1900   \n",
       "3           6900                   5             600            1800   \n",
       "4           3900                   3            1100            1600   \n",
       "...          ...                 ...             ...             ...   \n",
       "189565      1389                   3             345             649   \n",
       "189566      3010                   4             405             825   \n",
       "189567      1836                   3             300             399   \n",
       "189568      1175                   1             535             535   \n",
       "189569      2605                   4             425             750   \n",
       "\n",
       "        total_onshift_partners  total_busy_partners  total_outstanding_orders  \\\n",
       "0                        33.00                14.00                     21.00   \n",
       "1                         1.00                 2.00                      2.00   \n",
       "2                         1.00                 0.00                      0.00   \n",
       "3                         1.00                 1.00                      2.00   \n",
       "4                         6.00                 6.00                      9.00   \n",
       "...                        ...                  ...                       ...   \n",
       "189565                   17.00                17.00                     23.00   \n",
       "189566                   12.00                11.00                     14.00   \n",
       "189567                   39.00                41.00                     40.00   \n",
       "189568                    7.00                 7.00                     12.00   \n",
       "189569                   20.00                20.00                     23.00   \n",
       "\n",
       "        created_hour  created_dayofweek  delivery_time_mins  \n",
       "0                 22                  4               62.98  \n",
       "1                 21                  1               67.07  \n",
       "2                 20                  3               29.68  \n",
       "3                 21                  1               51.25  \n",
       "4                  2                  6               39.83  \n",
       "...              ...                ...                 ...  \n",
       "189565             0                  1               65.12  \n",
       "189566             0                  4               56.38  \n",
       "189567             4                  5               50.13  \n",
       "189568            18                  6               65.12  \n",
       "189569            19                  6               37.13  \n",
       "\n",
       "[189570 rows x 14 columns]"
      ]
     },
     "execution_count": 95,
     "metadata": {},
     "output_type": "execute_result"
    }
   ],
   "source": [
    "df"
   ]
  },
  {
   "cell_type": "code",
   "execution_count": 96,
   "id": "e17a4661",
   "metadata": {},
   "outputs": [],
   "source": [
    "x = df.drop(['delivery_time_mins'], axis=1)\n",
    "y=df['delivery_time_mins']\n",
    "\n",
    "scaler = StandardScaler()\n",
    "x_scaled = scaler.fit_transform(x)\n",
    "X_train, X_test, y_train, y_test = train_test_split(x_scaled, y, test_size=0.2, random_state=0)"
   ]
  },
  {
   "cell_type": "code",
   "execution_count": 97,
   "id": "2579aa87",
   "metadata": {},
   "outputs": [
    {
     "name": "stdout",
     "output_type": "stream",
     "text": [
      "RMSE :  14.558861867958914\n",
      "MAPE :  0.26194626377226565\n"
     ]
    }
   ],
   "source": [
    "baseline_regressor = RandomForestRegressor(random_state=0)\n",
    " \n",
    "baseline_regressor.fit(X_train, y_train)\n",
    "\n",
    "y_pred = baseline_regressor.predict(X_test)\n",
    "print(\"RMSE : \", mse(y_test, y_pred)**0.5)\n",
    "print(\"MAPE : \", mape(y_test, y_pred))"
   ]
  },
  {
   "cell_type": "markdown",
   "id": "211a6610",
   "metadata": {},
   "source": [
    "The model performance somewhat improved and we can now move on to training a NN Regressor model."
   ]
  },
  {
   "cell_type": "code",
   "execution_count": 98,
   "id": "21a961ad",
   "metadata": {},
   "outputs": [
    {
     "data": {
      "text/html": [
       "<div>\n",
       "<style scoped>\n",
       "    .dataframe tbody tr th:only-of-type {\n",
       "        vertical-align: middle;\n",
       "    }\n",
       "\n",
       "    .dataframe tbody tr th {\n",
       "        vertical-align: top;\n",
       "    }\n",
       "\n",
       "    .dataframe thead th {\n",
       "        text-align: right;\n",
       "    }\n",
       "</style>\n",
       "<table border=\"1\" class=\"dataframe\">\n",
       "  <thead>\n",
       "    <tr style=\"text-align: right;\">\n",
       "      <th></th>\n",
       "      <th>features</th>\n",
       "      <th>importance</th>\n",
       "    </tr>\n",
       "  </thead>\n",
       "  <tbody>\n",
       "    <tr>\n",
       "      <th>4</th>\n",
       "      <td>subtotal</td>\n",
       "      <td>0.14</td>\n",
       "    </tr>\n",
       "    <tr>\n",
       "      <th>10</th>\n",
       "      <td>total_outstanding_orders</td>\n",
       "      <td>0.13</td>\n",
       "    </tr>\n",
       "    <tr>\n",
       "      <th>8</th>\n",
       "      <td>total_onshift_partners</td>\n",
       "      <td>0.11</td>\n",
       "    </tr>\n",
       "    <tr>\n",
       "      <th>7</th>\n",
       "      <td>max_item_price</td>\n",
       "      <td>0.10</td>\n",
       "    </tr>\n",
       "    <tr>\n",
       "      <th>11</th>\n",
       "      <td>created_hour</td>\n",
       "      <td>0.10</td>\n",
       "    </tr>\n",
       "    <tr>\n",
       "      <th>6</th>\n",
       "      <td>min_item_price</td>\n",
       "      <td>0.10</td>\n",
       "    </tr>\n",
       "    <tr>\n",
       "      <th>1</th>\n",
       "      <td>store_primary_category</td>\n",
       "      <td>0.08</td>\n",
       "    </tr>\n",
       "    <tr>\n",
       "      <th>9</th>\n",
       "      <td>total_busy_partners</td>\n",
       "      <td>0.07</td>\n",
       "    </tr>\n",
       "    <tr>\n",
       "      <th>12</th>\n",
       "      <td>created_dayofweek</td>\n",
       "      <td>0.06</td>\n",
       "    </tr>\n",
       "    <tr>\n",
       "      <th>2</th>\n",
       "      <td>order_protocol</td>\n",
       "      <td>0.04</td>\n",
       "    </tr>\n",
       "    <tr>\n",
       "      <th>0</th>\n",
       "      <td>market_id</td>\n",
       "      <td>0.03</td>\n",
       "    </tr>\n",
       "    <tr>\n",
       "      <th>3</th>\n",
       "      <td>total_items</td>\n",
       "      <td>0.02</td>\n",
       "    </tr>\n",
       "    <tr>\n",
       "      <th>5</th>\n",
       "      <td>num_distinct_items</td>\n",
       "      <td>0.02</td>\n",
       "    </tr>\n",
       "  </tbody>\n",
       "</table>\n",
       "</div>"
      ],
      "text/plain": [
       "                    features  importance\n",
       "4                   subtotal        0.14\n",
       "10  total_outstanding_orders        0.13\n",
       "8     total_onshift_partners        0.11\n",
       "7             max_item_price        0.10\n",
       "11              created_hour        0.10\n",
       "6             min_item_price        0.10\n",
       "1     store_primary_category        0.08\n",
       "9        total_busy_partners        0.07\n",
       "12         created_dayofweek        0.06\n",
       "2             order_protocol        0.04\n",
       "0                  market_id        0.03\n",
       "3                total_items        0.02\n",
       "5         num_distinct_items        0.02"
      ]
     },
     "execution_count": 98,
     "metadata": {},
     "output_type": "execute_result"
    }
   ],
   "source": [
    "fi = pd.DataFrame()\n",
    "fi['features'] = df.columns[:-1]\n",
    "fi['importance'] = baseline_regressor.feature_importances_\n",
    "fi.sort_values(by='importance', ascending=False, inplace=True)\n",
    "fi"
   ]
  },
  {
   "cell_type": "code",
   "execution_count": 99,
   "id": "350fcad2",
   "metadata": {},
   "outputs": [
    {
     "data": {
      "text/plain": [
       "<AxesSubplot:xlabel='importance', ylabel='features'>"
      ]
     },
     "execution_count": 99,
     "metadata": {},
     "output_type": "execute_result"
    },
    {
     "data": {
      "image/png": "[encoded data removed]",
      "text/plain": [
       "<Figure size 432x288 with 1 Axes>"
      ]
     },
     "metadata": {},
     "output_type": "display_data"
    }
   ],
   "source": [
    "sns.barplot(y=fi['features'], x=fi['importance'], orient='h')"
   ]
  },
  {
   "cell_type": "markdown",
   "id": "9f872dd8",
   "metadata": {},
   "source": [
    "# Regression with neural networks"
   ]
  },
  {
   "cell_type": "code",
   "execution_count": 100,
   "id": "47fca4e8",
   "metadata": {},
   "outputs": [],
   "source": [
    "#Ann training\n",
    "import tensorflow as tf\n",
    "from tensorflow.keras import Model\n",
    "from tensorflow.keras import Sequential\n",
    "from tensorflow.keras.optimizers import Adam\n",
    "from tensorflow.keras.layers import Dense, Dropout, BatchNormalization, LeakyReLU\n",
    "from sklearn.model_selection import train_test_split\n",
    "from tensorflow.keras.losses import MeanSquaredLogarithmicError\n",
    "from tensorflow.keras.losses import MeanSquaredError\n",
    "from tensorflow.keras.losses import MeanAbsolutePercentageError\n",
    "\n",
    "\n",
    "from tensorflow.keras.metrics import  mean_absolute_percentage_error\n",
    "from tensorflow.keras.metrics import RootMeanSquaredError\n",
    "from tensorflow.keras.metrics import MeanAbsoluteError\n",
    "from tensorflow.keras.optimizers import SGD, Adam"
   ]
  },
  {
   "cell_type": "code",
   "execution_count": 101,
   "id": "587286a8",
   "metadata": {},
   "outputs": [
    {
     "data": {
      "text/plain": [
       "(151656, 13)"
      ]
     },
     "execution_count": 101,
     "metadata": {},
     "output_type": "execute_result"
    }
   ],
   "source": [
    "X_train.shape"
   ]
  },
  {
   "cell_type": "code",
   "execution_count": 102,
   "id": "e1414261",
   "metadata": {},
   "outputs": [],
   "source": [
    "model = Sequential()\n",
    "model.add(Dense(13,  kernel_initializer='normal', activation='relu'))\n",
    "model.add(Dense(128, activation='relu'))\n",
    "model.add(Dense(256, activation='relu'))\n",
    "model.add(Dropout(0.2))\n",
    "model.add(Dense(256, activation='relu'))\n",
    "model.add(Dense(1, activation='linear'))"
   ]
  },
  {
   "cell_type": "code",
   "execution_count": 103,
   "id": "dd258e46",
   "metadata": {},
   "outputs": [],
   "source": [
    "early_stop = tf.keras.callbacks.EarlyStopping(monitor='loss',patience=10)"
   ]
  },
  {
   "cell_type": "code",
   "execution_count": 104,
   "id": "07f193b2",
   "metadata": {},
   "outputs": [
    {
     "name": "stdout",
     "output_type": "stream",
     "text": [
      "Epoch 1/200\n",
      "16/16 [==============================] - 2s 79ms/step - loss: 2363.4773 - mse: 2363.4773 - mae: 45.6505 - val_loss: 2061.3035 - val_mse: 2061.3035 - val_mae: 42.2296\n",
      "Epoch 2/200\n",
      "16/16 [==============================] - 1s 75ms/step - loss: 1260.6608 - mse: 1260.6608 - mae: 30.2604 - val_loss: 425.6478 - val_mse: 425.6478 - val_mae: 16.0781\n",
      "Epoch 3/200\n",
      "16/16 [==============================] - 1s 77ms/step - loss: 436.3710 - mse: 436.3710 - mae: 16.2234 - val_loss: 364.9533 - val_mse: 364.9533 - val_mae: 14.1983\n",
      "Epoch 4/200\n",
      "16/16 [==============================] - 1s 71ms/step - loss: 322.7722 - mse: 322.7722 - mae: 13.6096 - val_loss: 298.6429 - val_mse: 298.6429 - val_mae: 13.5602\n",
      "Epoch 5/200\n",
      "16/16 [==============================] - 1s 74ms/step - loss: 287.4789 - mse: 287.4789 - mae: 12.9518 - val_loss: 275.3645 - val_mse: 275.3645 - val_mae: 12.6432\n",
      "Epoch 6/200\n",
      "16/16 [==============================] - 1s 71ms/step - loss: 272.8983 - mse: 272.8983 - mae: 12.7131 - val_loss: 266.9004 - val_mse: 266.9004 - val_mae: 12.4481\n",
      "Epoch 7/200\n",
      "16/16 [==============================] - 1s 74ms/step - loss: 265.2097 - mse: 265.2097 - mae: 12.4618 - val_loss: 259.8199 - val_mse: 259.8199 - val_mae: 12.3957\n",
      "Epoch 8/200\n",
      "16/16 [==============================] - 1s 74ms/step - loss: 259.4433 - mse: 259.4433 - mae: 12.3508 - val_loss: 255.1922 - val_mse: 255.1922 - val_mae: 12.2731\n",
      "Epoch 9/200\n",
      "16/16 [==============================] - 1s 74ms/step - loss: 255.1109 - mse: 255.1109 - mae: 12.2487 - val_loss: 251.5737 - val_mse: 251.5737 - val_mae: 12.1919\n",
      "Epoch 10/200\n",
      "16/16 [==============================] - 1s 71ms/step - loss: 251.8839 - mse: 251.8839 - mae: 12.1722 - val_loss: 248.7932 - val_mse: 248.7932 - val_mae: 12.1102\n",
      "Epoch 11/200\n",
      "16/16 [==============================] - 1s 72ms/step - loss: 249.1339 - mse: 249.1339 - mae: 12.0960 - val_loss: 246.4222 - val_mse: 246.4222 - val_mae: 12.0650\n",
      "Epoch 12/200\n",
      "16/16 [==============================] - 1s 72ms/step - loss: 246.9528 - mse: 246.9528 - mae: 12.0507 - val_loss: 244.3627 - val_mse: 244.3627 - val_mae: 12.0049\n",
      "Epoch 13/200\n",
      "16/16 [==============================] - 1s 72ms/step - loss: 245.2893 - mse: 245.2893 - mae: 12.0094 - val_loss: 242.5244 - val_mse: 242.5244 - val_mae: 11.9402\n",
      "Epoch 14/200\n",
      "16/16 [==============================] - 1s 70ms/step - loss: 243.4101 - mse: 243.4101 - mae: 11.9697 - val_loss: 240.5769 - val_mse: 240.5769 - val_mae: 11.9548\n",
      "Epoch 15/200\n",
      "16/16 [==============================] - 1s 71ms/step - loss: 241.6188 - mse: 241.6188 - mae: 11.9237 - val_loss: 238.7676 - val_mse: 238.7676 - val_mae: 11.9071\n",
      "Epoch 16/200\n",
      "16/16 [==============================] - 1s 70ms/step - loss: 239.9119 - mse: 239.9119 - mae: 11.8813 - val_loss: 236.9284 - val_mse: 236.9284 - val_mae: 11.8388\n",
      "Epoch 17/200\n",
      "16/16 [==============================] - 1s 70ms/step - loss: 238.2347 - mse: 238.2347 - mae: 11.8388 - val_loss: 235.4978 - val_mse: 235.4978 - val_mae: 11.7510\n",
      "Epoch 18/200\n",
      "16/16 [==============================] - 1s 75ms/step - loss: 236.6647 - mse: 236.6647 - mae: 11.7811 - val_loss: 233.8729 - val_mse: 233.8729 - val_mae: 11.7222\n",
      "Epoch 19/200\n",
      "16/16 [==============================] - 1s 69ms/step - loss: 235.0695 - mse: 235.0695 - mae: 11.7526 - val_loss: 232.5941 - val_mse: 232.5941 - val_mae: 11.6737\n",
      "Epoch 20/200\n",
      "16/16 [==============================] - 1s 73ms/step - loss: 233.9364 - mse: 233.9364 - mae: 11.7129 - val_loss: 231.3071 - val_mse: 231.3071 - val_mae: 11.6629\n",
      "Epoch 21/200\n",
      "16/16 [==============================] - 1s 73ms/step - loss: 232.9404 - mse: 232.9404 - mae: 11.6914 - val_loss: 230.3512 - val_mse: 230.3512 - val_mae: 11.6907\n",
      "Epoch 22/200\n",
      "16/16 [==============================] - 1s 68ms/step - loss: 232.1266 - mse: 232.1266 - mae: 11.6671 - val_loss: 229.4414 - val_mse: 229.4414 - val_mae: 11.6090\n",
      "Epoch 23/200\n",
      "16/16 [==============================] - 1s 69ms/step - loss: 231.2120 - mse: 231.2120 - mae: 11.6427 - val_loss: 228.6615 - val_mse: 228.6615 - val_mae: 11.5758\n",
      "Epoch 24/200\n",
      "16/16 [==============================] - 1s 70ms/step - loss: 230.4899 - mse: 230.4899 - mae: 11.6339 - val_loss: 227.9809 - val_mse: 227.9809 - val_mae: 11.5394\n",
      "Epoch 25/200\n",
      "16/16 [==============================] - 1s 74ms/step - loss: 229.8604 - mse: 229.8604 - mae: 11.5992 - val_loss: 227.4107 - val_mse: 227.4107 - val_mae: 11.5159\n",
      "Epoch 26/200\n",
      "16/16 [==============================] - 1s 70ms/step - loss: 229.3695 - mse: 229.3695 - mae: 11.5995 - val_loss: 226.5376 - val_mse: 226.5376 - val_mae: 11.5260\n",
      "Epoch 27/200\n",
      "16/16 [==============================] - 1s 73ms/step - loss: 228.6865 - mse: 228.6865 - mae: 11.5736 - val_loss: 226.0888 - val_mse: 226.0888 - val_mae: 11.4997\n",
      "Epoch 28/200\n",
      "16/16 [==============================] - 1s 72ms/step - loss: 228.0263 - mse: 228.0263 - mae: 11.5603 - val_loss: 225.5766 - val_mse: 225.5766 - val_mae: 11.4958\n",
      "Epoch 29/200\n",
      "16/16 [==============================] - 1s 71ms/step - loss: 227.6419 - mse: 227.6419 - mae: 11.5464 - val_loss: 225.2363 - val_mse: 225.2363 - val_mae: 11.4747\n",
      "Epoch 30/200\n",
      "16/16 [==============================] - 1s 74ms/step - loss: 227.6557 - mse: 227.6557 - mae: 11.5460 - val_loss: 225.2742 - val_mse: 225.2742 - val_mae: 11.4324\n",
      "Epoch 31/200\n",
      "16/16 [==============================] - 1s 71ms/step - loss: 227.1776 - mse: 227.1776 - mae: 11.5305 - val_loss: 224.3942 - val_mse: 224.3942 - val_mae: 11.4765\n",
      "Epoch 32/200\n",
      "16/16 [==============================] - 1s 73ms/step - loss: 226.5953 - mse: 226.5953 - mae: 11.5245 - val_loss: 224.1010 - val_mse: 224.1010 - val_mae: 11.4507\n",
      "Epoch 33/200\n",
      "16/16 [==============================] - 1s 70ms/step - loss: 226.2890 - mse: 226.2890 - mae: 11.5093 - val_loss: 223.7442 - val_mse: 223.7442 - val_mae: 11.4233\n",
      "Epoch 34/200\n",
      "16/16 [==============================] - 1s 72ms/step - loss: 226.0567 - mse: 226.0567 - mae: 11.5094 - val_loss: 223.3195 - val_mse: 223.3195 - val_mae: 11.4451\n",
      "Epoch 35/200\n",
      "16/16 [==============================] - 1s 71ms/step - loss: 225.7025 - mse: 225.7025 - mae: 11.4953 - val_loss: 223.7803 - val_mse: 223.7803 - val_mae: 11.3682\n",
      "Epoch 36/200\n",
      "16/16 [==============================] - 1s 70ms/step - loss: 225.5181 - mse: 225.5181 - mae: 11.4728 - val_loss: 222.6946 - val_mse: 222.6946 - val_mae: 11.4646\n",
      "Epoch 37/200\n",
      "16/16 [==============================] - 1s 71ms/step - loss: 225.0559 - mse: 225.0559 - mae: 11.4868 - val_loss: 222.5796 - val_mse: 222.5796 - val_mae: 11.3903\n",
      "Epoch 38/200\n",
      "16/16 [==============================] - 1s 70ms/step - loss: 224.5022 - mse: 224.5022 - mae: 11.4665 - val_loss: 222.1534 - val_mse: 222.1534 - val_mae: 11.4125\n",
      "Epoch 39/200\n",
      "16/16 [==============================] - 1s 71ms/step - loss: 224.3155 - mse: 224.3155 - mae: 11.4604 - val_loss: 222.4693 - val_mse: 222.4693 - val_mae: 11.3399\n",
      "Epoch 40/200\n",
      "16/16 [==============================] - 1s 70ms/step - loss: 224.0509 - mse: 224.0509 - mae: 11.4379 - val_loss: 222.0006 - val_mse: 222.0006 - val_mae: 11.4269\n",
      "Epoch 41/200\n",
      "16/16 [==============================] - 1s 74ms/step - loss: 224.0397 - mse: 224.0397 - mae: 11.4506 - val_loss: 221.7563 - val_mse: 221.7563 - val_mae: 11.3427\n",
      "Epoch 42/200\n",
      "16/16 [==============================] - 1s 73ms/step - loss: 223.8643 - mse: 223.8643 - mae: 11.4401 - val_loss: 221.3896 - val_mse: 221.3896 - val_mae: 11.3775\n",
      "Epoch 43/200\n",
      "16/16 [==============================] - 1s 71ms/step - loss: 223.6508 - mse: 223.6508 - mae: 11.4417 - val_loss: 221.1863 - val_mse: 221.1863 - val_mae: 11.3349\n",
      "Epoch 44/200\n",
      "16/16 [==============================] - 1s 70ms/step - loss: 223.5370 - mse: 223.5370 - mae: 11.4285 - val_loss: 221.0542 - val_mse: 221.0542 - val_mae: 11.3734\n",
      "Epoch 45/200\n",
      "16/16 [==============================] - 1s 71ms/step - loss: 223.0277 - mse: 223.0277 - mae: 11.4300 - val_loss: 220.8348 - val_mse: 220.8348 - val_mae: 11.3361\n",
      "Epoch 46/200\n",
      "16/16 [==============================] - 1s 74ms/step - loss: 223.1801 - mse: 223.1801 - mae: 11.4125 - val_loss: 220.5699 - val_mse: 220.5699 - val_mae: 11.3484\n",
      "Epoch 47/200\n",
      "16/16 [==============================] - 1s 71ms/step - loss: 222.8123 - mse: 222.8123 - mae: 11.4202 - val_loss: 220.3457 - val_mse: 220.3457 - val_mae: 11.3280\n"
     ]
    },
    {
     "name": "stdout",
     "output_type": "stream",
     "text": [
      "Epoch 48/200\n",
      "16/16 [==============================] - 1s 70ms/step - loss: 222.8128 - mse: 222.8128 - mae: 11.4056 - val_loss: 220.2162 - val_mse: 220.2162 - val_mae: 11.3712\n",
      "Epoch 49/200\n",
      "16/16 [==============================] - 1s 69ms/step - loss: 222.6230 - mse: 222.6230 - mae: 11.3966 - val_loss: 220.0992 - val_mse: 220.0992 - val_mae: 11.3346\n",
      "Epoch 50/200\n",
      "16/16 [==============================] - 1s 70ms/step - loss: 222.1767 - mse: 222.1767 - mae: 11.4041 - val_loss: 219.9680 - val_mse: 219.9680 - val_mae: 11.3271\n",
      "Epoch 51/200\n",
      "16/16 [==============================] - 1s 69ms/step - loss: 222.2408 - mse: 222.2408 - mae: 11.4003 - val_loss: 220.1049 - val_mse: 220.1049 - val_mae: 11.3164\n",
      "Epoch 52/200\n",
      "16/16 [==============================] - 1s 69ms/step - loss: 222.2505 - mse: 222.2505 - mae: 11.3886 - val_loss: 219.9022 - val_mse: 219.9022 - val_mae: 11.3023\n",
      "Epoch 53/200\n",
      "16/16 [==============================] - 1s 68ms/step - loss: 221.9019 - mse: 221.9019 - mae: 11.3931 - val_loss: 219.7950 - val_mse: 219.7950 - val_mae: 11.2991\n",
      "Epoch 54/200\n",
      "16/16 [==============================] - 1s 70ms/step - loss: 221.9644 - mse: 221.9644 - mae: 11.3905 - val_loss: 219.7604 - val_mse: 219.7604 - val_mae: 11.3111\n",
      "Epoch 55/200\n",
      "16/16 [==============================] - 1s 68ms/step - loss: 221.5864 - mse: 221.5864 - mae: 11.3739 - val_loss: 219.4202 - val_mse: 219.4202 - val_mae: 11.3316\n",
      "Epoch 56/200\n",
      "16/16 [==============================] - 1s 69ms/step - loss: 221.5813 - mse: 221.5813 - mae: 11.3765 - val_loss: 219.4734 - val_mse: 219.4734 - val_mae: 11.3526\n",
      "Epoch 57/200\n",
      "16/16 [==============================] - 1s 69ms/step - loss: 221.4385 - mse: 221.4385 - mae: 11.3740 - val_loss: 219.4000 - val_mse: 219.4000 - val_mae: 11.3446\n",
      "Epoch 58/200\n",
      "16/16 [==============================] - 1s 69ms/step - loss: 221.7156 - mse: 221.7156 - mae: 11.3864 - val_loss: 219.9422 - val_mse: 219.9422 - val_mae: 11.2477\n",
      "Epoch 59/200\n",
      "16/16 [==============================] - 1s 69ms/step - loss: 221.5631 - mse: 221.5631 - mae: 11.3700 - val_loss: 219.2408 - val_mse: 219.2408 - val_mae: 11.3331\n",
      "Epoch 60/200\n",
      "16/16 [==============================] - 1s 74ms/step - loss: 221.2479 - mse: 221.2479 - mae: 11.3690 - val_loss: 219.3302 - val_mse: 219.3302 - val_mae: 11.2880\n",
      "Epoch 61/200\n",
      "16/16 [==============================] - 1s 69ms/step - loss: 221.0399 - mse: 221.0399 - mae: 11.3653 - val_loss: 219.4197 - val_mse: 219.4197 - val_mae: 11.2705\n",
      "Epoch 62/200\n",
      "16/16 [==============================] - 1s 69ms/step - loss: 221.0717 - mse: 221.0717 - mae: 11.3547 - val_loss: 219.1239 - val_mse: 219.1239 - val_mae: 11.3869\n",
      "Epoch 63/200\n",
      "16/16 [==============================] - 1s 72ms/step - loss: 221.1350 - mse: 221.1350 - mae: 11.3697 - val_loss: 219.1612 - val_mse: 219.1612 - val_mae: 11.3177\n",
      "Epoch 64/200\n",
      "16/16 [==============================] - 1s 71ms/step - loss: 221.1863 - mse: 221.1863 - mae: 11.3671 - val_loss: 218.8135 - val_mse: 218.8135 - val_mae: 11.3333\n",
      "Epoch 65/200\n",
      "16/16 [==============================] - 1s 68ms/step - loss: 221.2800 - mse: 221.2800 - mae: 11.3700 - val_loss: 218.8723 - val_mse: 218.8723 - val_mae: 11.3179\n",
      "Epoch 66/200\n",
      "16/16 [==============================] - 1s 70ms/step - loss: 220.7937 - mse: 220.7937 - mae: 11.3622 - val_loss: 218.8155 - val_mse: 218.8155 - val_mae: 11.2726\n",
      "Epoch 67/200\n",
      "16/16 [==============================] - 1s 68ms/step - loss: 220.7324 - mse: 220.7324 - mae: 11.3626 - val_loss: 219.8933 - val_mse: 219.8933 - val_mae: 11.2130\n",
      "Epoch 68/200\n",
      "16/16 [==============================] - 1s 69ms/step - loss: 221.5886 - mse: 221.5886 - mae: 11.3741 - val_loss: 220.1154 - val_mse: 220.1154 - val_mae: 11.2122\n",
      "Epoch 69/200\n",
      "16/16 [==============================] - 1s 70ms/step - loss: 221.1586 - mse: 221.1586 - mae: 11.3501 - val_loss: 218.4145 - val_mse: 218.4145 - val_mae: 11.3079\n",
      "Epoch 70/200\n",
      "16/16 [==============================] - 1s 69ms/step - loss: 220.3064 - mse: 220.3064 - mae: 11.3406 - val_loss: 218.4194 - val_mse: 218.4194 - val_mae: 11.3042\n",
      "Epoch 71/200\n",
      "16/16 [==============================] - 1s 73ms/step - loss: 220.5581 - mse: 220.5581 - mae: 11.3496 - val_loss: 219.0245 - val_mse: 219.0245 - val_mae: 11.2652\n",
      "Epoch 72/200\n",
      "16/16 [==============================] - 1s 75ms/step - loss: 220.7324 - mse: 220.7324 - mae: 11.3418 - val_loss: 218.2312 - val_mse: 218.2312 - val_mae: 11.3034\n",
      "Epoch 73/200\n",
      "16/16 [==============================] - 1s 72ms/step - loss: 220.5314 - mse: 220.5314 - mae: 11.3422 - val_loss: 218.4223 - val_mse: 218.4223 - val_mae: 11.3038\n",
      "Epoch 74/200\n",
      "16/16 [==============================] - 1s 74ms/step - loss: 220.2612 - mse: 220.2612 - mae: 11.3491 - val_loss: 218.5958 - val_mse: 218.5958 - val_mae: 11.2713\n",
      "Epoch 75/200\n",
      "16/16 [==============================] - 1s 71ms/step - loss: 220.2536 - mse: 220.2536 - mae: 11.3430 - val_loss: 218.4394 - val_mse: 218.4394 - val_mae: 11.2743\n",
      "Epoch 76/200\n",
      "16/16 [==============================] - 1s 71ms/step - loss: 219.9087 - mse: 219.9087 - mae: 11.3443 - val_loss: 218.9686 - val_mse: 218.9686 - val_mae: 11.2225\n",
      "Epoch 77/200\n",
      "16/16 [==============================] - 1s 71ms/step - loss: 220.3626 - mse: 220.3626 - mae: 11.3377 - val_loss: 218.1078 - val_mse: 218.1078 - val_mae: 11.2977\n",
      "Epoch 78/200\n",
      "16/16 [==============================] - 1s 71ms/step - loss: 220.3812 - mse: 220.3812 - mae: 11.3174 - val_loss: 218.5553 - val_mse: 218.5553 - val_mae: 11.4081\n",
      "Epoch 79/200\n",
      "16/16 [==============================] - 1s 75ms/step - loss: 220.2325 - mse: 220.2325 - mae: 11.3336 - val_loss: 218.0337 - val_mse: 218.0337 - val_mae: 11.3410\n",
      "Epoch 80/200\n",
      "16/16 [==============================] - 1s 73ms/step - loss: 219.6658 - mse: 219.6658 - mae: 11.3260 - val_loss: 218.2112 - val_mse: 218.2112 - val_mae: 11.2839\n",
      "Epoch 81/200\n",
      "16/16 [==============================] - 1s 70ms/step - loss: 219.8842 - mse: 219.8842 - mae: 11.3261 - val_loss: 217.7592 - val_mse: 217.7592 - val_mae: 11.3007\n",
      "Epoch 82/200\n",
      "16/16 [==============================] - 1s 70ms/step - loss: 219.7586 - mse: 219.7586 - mae: 11.3153 - val_loss: 218.7663 - val_mse: 218.7663 - val_mae: 11.4413\n",
      "Epoch 83/200\n",
      "16/16 [==============================] - 1s 71ms/step - loss: 220.1232 - mse: 220.1232 - mae: 11.3501 - val_loss: 218.0145 - val_mse: 218.0145 - val_mae: 11.2601\n",
      "Epoch 84/200\n",
      "16/16 [==============================] - 1s 71ms/step - loss: 219.8634 - mse: 219.8634 - mae: 11.3338 - val_loss: 217.9793 - val_mse: 217.9793 - val_mae: 11.2563\n",
      "Epoch 85/200\n",
      "16/16 [==============================] - 1s 70ms/step - loss: 219.7276 - mse: 219.7276 - mae: 11.3424 - val_loss: 218.8230 - val_mse: 218.8230 - val_mae: 11.2008\n",
      "Epoch 86/200\n",
      "16/16 [==============================] - 1s 70ms/step - loss: 219.8011 - mse: 219.8011 - mae: 11.3278 - val_loss: 218.1176 - val_mse: 218.1176 - val_mae: 11.2292\n",
      "Epoch 87/200\n",
      "16/16 [==============================] - 1s 69ms/step - loss: 219.7123 - mse: 219.7123 - mae: 11.3222 - val_loss: 217.9285 - val_mse: 217.9285 - val_mae: 11.2316\n",
      "Epoch 88/200\n",
      "16/16 [==============================] - 1s 72ms/step - loss: 219.0480 - mse: 219.0480 - mae: 11.3073 - val_loss: 217.7139 - val_mse: 217.7139 - val_mae: 11.2489\n",
      "Epoch 89/200\n",
      "16/16 [==============================] - 1s 71ms/step - loss: 219.1950 - mse: 219.1950 - mae: 11.3163 - val_loss: 217.4651 - val_mse: 217.4651 - val_mae: 11.3218\n",
      "Epoch 90/200\n",
      "16/16 [==============================] - 1s 72ms/step - loss: 219.2049 - mse: 219.2049 - mae: 11.3198 - val_loss: 217.6662 - val_mse: 217.6662 - val_mae: 11.3108\n",
      "Epoch 91/200\n",
      "16/16 [==============================] - 1s 71ms/step - loss: 219.1862 - mse: 219.1862 - mae: 11.3190 - val_loss: 217.6069 - val_mse: 217.6069 - val_mae: 11.2796\n",
      "Epoch 92/200\n",
      "16/16 [==============================] - 1s 71ms/step - loss: 219.2381 - mse: 219.2381 - mae: 11.3123 - val_loss: 217.8994 - val_mse: 217.8994 - val_mae: 11.2019\n",
      "Epoch 93/200\n",
      "16/16 [==============================] - 1s 70ms/step - loss: 219.4594 - mse: 219.4594 - mae: 11.3125 - val_loss: 217.4333 - val_mse: 217.4333 - val_mae: 11.2489\n",
      "Epoch 94/200\n",
      "16/16 [==============================] - 1s 75ms/step - loss: 219.0619 - mse: 219.0619 - mae: 11.3053 - val_loss: 217.2891 - val_mse: 217.2891 - val_mae: 11.2895\n"
     ]
    },
    {
     "name": "stdout",
     "output_type": "stream",
     "text": [
      "Epoch 95/200\n",
      "16/16 [==============================] - 1s 70ms/step - loss: 218.9162 - mse: 218.9162 - mae: 11.3100 - val_loss: 217.4973 - val_mse: 217.4973 - val_mae: 11.2460\n",
      "Epoch 96/200\n",
      "16/16 [==============================] - 1s 69ms/step - loss: 218.8576 - mse: 218.8576 - mae: 11.2981 - val_loss: 217.3690 - val_mse: 217.3690 - val_mae: 11.2481\n",
      "Epoch 97/200\n",
      "16/16 [==============================] - 1s 70ms/step - loss: 218.8076 - mse: 218.8076 - mae: 11.3007 - val_loss: 217.0862 - val_mse: 217.0862 - val_mae: 11.2750\n",
      "Epoch 98/200\n",
      "16/16 [==============================] - 1s 72ms/step - loss: 218.9754 - mse: 218.9754 - mae: 11.3148 - val_loss: 217.2823 - val_mse: 217.2823 - val_mae: 11.2258\n",
      "Epoch 99/200\n",
      "16/16 [==============================] - 1s 71ms/step - loss: 218.8558 - mse: 218.8558 - mae: 11.2991 - val_loss: 217.0454 - val_mse: 217.0454 - val_mae: 11.3044\n",
      "Epoch 100/200\n",
      "16/16 [==============================] - 1s 70ms/step - loss: 218.9168 - mse: 218.9168 - mae: 11.3115 - val_loss: 217.2441 - val_mse: 217.2441 - val_mae: 11.3576\n",
      "Epoch 101/200\n",
      "16/16 [==============================] - 1s 76ms/step - loss: 218.8004 - mse: 218.8004 - mae: 11.3072 - val_loss: 217.0054 - val_mse: 217.0054 - val_mae: 11.2938\n",
      "Epoch 102/200\n",
      "16/16 [==============================] - 1s 69ms/step - loss: 218.6843 - mse: 218.6843 - mae: 11.3014 - val_loss: 216.9279 - val_mse: 216.9279 - val_mae: 11.2501\n",
      "Epoch 103/200\n",
      "16/16 [==============================] - 1s 69ms/step - loss: 218.5472 - mse: 218.5472 - mae: 11.2880 - val_loss: 216.7861 - val_mse: 216.7861 - val_mae: 11.2340\n",
      "Epoch 104/200\n",
      "16/16 [==============================] - 1s 73ms/step - loss: 218.2837 - mse: 218.2837 - mae: 11.2821 - val_loss: 217.2605 - val_mse: 217.2605 - val_mae: 11.3468\n",
      "Epoch 105/200\n",
      "16/16 [==============================] - 1s 69ms/step - loss: 218.2947 - mse: 218.2947 - mae: 11.2934 - val_loss: 216.9001 - val_mse: 216.9001 - val_mae: 11.2581\n",
      "Epoch 106/200\n",
      "16/16 [==============================] - 1s 70ms/step - loss: 218.2557 - mse: 218.2557 - mae: 11.2889 - val_loss: 216.7652 - val_mse: 216.7652 - val_mae: 11.2757\n",
      "Epoch 107/200\n",
      "16/16 [==============================] - 1s 71ms/step - loss: 218.1226 - mse: 218.1226 - mae: 11.2716 - val_loss: 216.6350 - val_mse: 216.6350 - val_mae: 11.2862\n",
      "Epoch 108/200\n",
      "16/16 [==============================] - 1s 69ms/step - loss: 218.1546 - mse: 218.1546 - mae: 11.2821 - val_loss: 216.5901 - val_mse: 216.5901 - val_mae: 11.2738\n",
      "Epoch 109/200\n",
      "16/16 [==============================] - 1s 69ms/step - loss: 218.1986 - mse: 218.1986 - mae: 11.2856 - val_loss: 216.6875 - val_mse: 216.6875 - val_mae: 11.2162\n",
      "Epoch 110/200\n",
      "16/16 [==============================] - 1s 68ms/step - loss: 218.1812 - mse: 218.1812 - mae: 11.2853 - val_loss: 216.8611 - val_mse: 216.8611 - val_mae: 11.2303\n",
      "Epoch 111/200\n",
      "16/16 [==============================] - 1s 69ms/step - loss: 217.9026 - mse: 217.9026 - mae: 11.2815 - val_loss: 216.5873 - val_mse: 216.5873 - val_mae: 11.2287\n",
      "Epoch 112/200\n",
      "16/16 [==============================] - 1s 69ms/step - loss: 217.8607 - mse: 217.8607 - mae: 11.2781 - val_loss: 216.7292 - val_mse: 216.7292 - val_mae: 11.2238\n",
      "Epoch 113/200\n",
      "16/16 [==============================] - 1s 69ms/step - loss: 218.0859 - mse: 218.0859 - mae: 11.2782 - val_loss: 216.7880 - val_mse: 216.7880 - val_mae: 11.2573\n",
      "Epoch 114/200\n",
      "16/16 [==============================] - 1s 71ms/step - loss: 218.1029 - mse: 218.1029 - mae: 11.2765 - val_loss: 216.3663 - val_mse: 216.3663 - val_mae: 11.2942\n",
      "Epoch 115/200\n",
      "16/16 [==============================] - 1s 70ms/step - loss: 217.5423 - mse: 217.5423 - mae: 11.2680 - val_loss: 216.4585 - val_mse: 216.4585 - val_mae: 11.2371\n",
      "Epoch 116/200\n",
      "16/16 [==============================] - 1s 69ms/step - loss: 217.6552 - mse: 217.6552 - mae: 11.2678 - val_loss: 216.5520 - val_mse: 216.5520 - val_mae: 11.2030\n",
      "Epoch 117/200\n",
      "16/16 [==============================] - 1s 69ms/step - loss: 217.9713 - mse: 217.9713 - mae: 11.2779 - val_loss: 216.5047 - val_mse: 216.5047 - val_mae: 11.2419\n",
      "Epoch 118/200\n",
      "16/16 [==============================] - 1s 69ms/step - loss: 217.6876 - mse: 217.6876 - mae: 11.2651 - val_loss: 216.5503 - val_mse: 216.5503 - val_mae: 11.2587\n",
      "Epoch 119/200\n",
      "16/16 [==============================] - 1s 69ms/step - loss: 217.4397 - mse: 217.4397 - mae: 11.2631 - val_loss: 216.6669 - val_mse: 216.6669 - val_mae: 11.1938\n",
      "Epoch 120/200\n",
      "16/16 [==============================] - 1s 70ms/step - loss: 217.5735 - mse: 217.5735 - mae: 11.2687 - val_loss: 216.3109 - val_mse: 216.3109 - val_mae: 11.1915\n",
      "Epoch 121/200\n",
      "16/16 [==============================] - 1s 71ms/step - loss: 217.7590 - mse: 217.7590 - mae: 11.2637 - val_loss: 216.1989 - val_mse: 216.1989 - val_mae: 11.2559\n",
      "Epoch 122/200\n",
      "16/16 [==============================] - 1s 72ms/step - loss: 217.6113 - mse: 217.6113 - mae: 11.2615 - val_loss: 217.1233 - val_mse: 217.1233 - val_mae: 11.4088\n",
      "Epoch 123/200\n",
      "16/16 [==============================] - 1s 71ms/step - loss: 217.5260 - mse: 217.5260 - mae: 11.2756 - val_loss: 216.0333 - val_mse: 216.0333 - val_mae: 11.2175\n",
      "Epoch 124/200\n",
      "16/16 [==============================] - 1s 69ms/step - loss: 217.5971 - mse: 217.5971 - mae: 11.2679 - val_loss: 216.4444 - val_mse: 216.4444 - val_mae: 11.1933\n",
      "Epoch 125/200\n",
      "16/16 [==============================] - 1s 70ms/step - loss: 218.0524 - mse: 218.0524 - mae: 11.2667 - val_loss: 216.3848 - val_mse: 216.3848 - val_mae: 11.3149\n",
      "Epoch 126/200\n",
      "16/16 [==============================] - 1s 71ms/step - loss: 217.5210 - mse: 217.5210 - mae: 11.2823 - val_loss: 216.0042 - val_mse: 216.0042 - val_mae: 11.2459\n",
      "Epoch 127/200\n",
      "16/16 [==============================] - 1s 70ms/step - loss: 217.2945 - mse: 217.2945 - mae: 11.2612 - val_loss: 216.4756 - val_mse: 216.4756 - val_mae: 11.3468\n",
      "Epoch 128/200\n",
      "16/16 [==============================] - 1s 71ms/step - loss: 217.5953 - mse: 217.5953 - mae: 11.2851 - val_loss: 216.4274 - val_mse: 216.4274 - val_mae: 11.1770\n",
      "Epoch 129/200\n",
      "16/16 [==============================] - 1s 69ms/step - loss: 217.3248 - mse: 217.3248 - mae: 11.2565 - val_loss: 217.1293 - val_mse: 217.1293 - val_mae: 11.1467\n",
      "Epoch 130/200\n",
      "16/16 [==============================] - 1s 70ms/step - loss: 217.0544 - mse: 217.0544 - mae: 11.2482 - val_loss: 216.2190 - val_mse: 216.2190 - val_mae: 11.1641\n",
      "Epoch 131/200\n",
      "16/16 [==============================] - 1s 70ms/step - loss: 216.9706 - mse: 216.9706 - mae: 11.2547 - val_loss: 216.3923 - val_mse: 216.3923 - val_mae: 11.1646\n",
      "Epoch 132/200\n",
      "16/16 [==============================] - 1s 69ms/step - loss: 216.7784 - mse: 216.7784 - mae: 11.2421 - val_loss: 215.7085 - val_mse: 215.7085 - val_mae: 11.2355\n",
      "Epoch 133/200\n",
      "16/16 [==============================] - 1s 69ms/step - loss: 216.6946 - mse: 216.6946 - mae: 11.2403 - val_loss: 216.0489 - val_mse: 216.0489 - val_mae: 11.2990\n",
      "Epoch 134/200\n",
      "16/16 [==============================] - 1s 71ms/step - loss: 216.8645 - mse: 216.8645 - mae: 11.2514 - val_loss: 215.6438 - val_mse: 215.6438 - val_mae: 11.2557\n",
      "Epoch 135/200\n",
      "16/16 [==============================] - 1s 72ms/step - loss: 216.6556 - mse: 216.6556 - mae: 11.2468 - val_loss: 215.7555 - val_mse: 215.7555 - val_mae: 11.2071\n",
      "Epoch 136/200\n",
      "16/16 [==============================] - 1s 71ms/step - loss: 216.6192 - mse: 216.6192 - mae: 11.2422 - val_loss: 215.8254 - val_mse: 215.8254 - val_mae: 11.3233\n",
      "Epoch 137/200\n",
      "16/16 [==============================] - 1s 70ms/step - loss: 216.6774 - mse: 216.6774 - mae: 11.2498 - val_loss: 215.6640 - val_mse: 215.6640 - val_mae: 11.1953\n",
      "Epoch 138/200\n",
      "16/16 [==============================] - 1s 69ms/step - loss: 216.2183 - mse: 216.2183 - mae: 11.2353 - val_loss: 215.4572 - val_mse: 215.4572 - val_mae: 11.2042\n",
      "Epoch 139/200\n",
      "16/16 [==============================] - 1s 70ms/step - loss: 216.4357 - mse: 216.4357 - mae: 11.2326 - val_loss: 215.3940 - val_mse: 215.3940 - val_mae: 11.1867\n",
      "Epoch 140/200\n",
      "16/16 [==============================] - 1s 74ms/step - loss: 216.5649 - mse: 216.5649 - mae: 11.2420 - val_loss: 215.3443 - val_mse: 215.3443 - val_mae: 11.1953\n",
      "Epoch 141/200\n"
     ]
    },
    {
     "name": "stdout",
     "output_type": "stream",
     "text": [
      "16/16 [==============================] - 1s 70ms/step - loss: 216.5058 - mse: 216.5058 - mae: 11.2334 - val_loss: 215.4325 - val_mse: 215.4325 - val_mae: 11.2401\n",
      "Epoch 142/200\n",
      "16/16 [==============================] - 1s 69ms/step - loss: 216.3724 - mse: 216.3724 - mae: 11.2372 - val_loss: 215.4078 - val_mse: 215.4078 - val_mae: 11.2008\n",
      "Epoch 143/200\n",
      "16/16 [==============================] - 1s 69ms/step - loss: 216.5455 - mse: 216.5455 - mae: 11.2383 - val_loss: 216.4816 - val_mse: 216.4816 - val_mae: 11.1523\n",
      "Epoch 144/200\n",
      "16/16 [==============================] - 1s 68ms/step - loss: 216.4694 - mse: 216.4694 - mae: 11.2301 - val_loss: 215.7853 - val_mse: 215.7853 - val_mae: 11.1572\n",
      "Epoch 145/200\n",
      "16/16 [==============================] - 1s 68ms/step - loss: 216.7202 - mse: 216.7202 - mae: 11.2440 - val_loss: 215.1840 - val_mse: 215.1840 - val_mae: 11.1927\n",
      "Epoch 146/200\n",
      "16/16 [==============================] - 1s 68ms/step - loss: 216.1857 - mse: 216.1857 - mae: 11.2348 - val_loss: 215.4688 - val_mse: 215.4688 - val_mae: 11.2260\n",
      "Epoch 147/200\n",
      "16/16 [==============================] - 1s 69ms/step - loss: 216.0678 - mse: 216.0678 - mae: 11.2327 - val_loss: 215.2387 - val_mse: 215.2387 - val_mae: 11.2169\n",
      "Epoch 148/200\n",
      "16/16 [==============================] - 1s 73ms/step - loss: 215.9523 - mse: 215.9523 - mae: 11.2257 - val_loss: 215.3536 - val_mse: 215.3536 - val_mae: 11.2227\n",
      "Epoch 149/200\n",
      "16/16 [==============================] - 1s 70ms/step - loss: 216.0534 - mse: 216.0534 - mae: 11.2266 - val_loss: 215.1930 - val_mse: 215.1930 - val_mae: 11.1791\n",
      "Epoch 150/200\n",
      "16/16 [==============================] - 1s 70ms/step - loss: 216.1708 - mse: 216.1708 - mae: 11.2216 - val_loss: 215.1387 - val_mse: 215.1387 - val_mae: 11.1924\n",
      "Epoch 151/200\n",
      "16/16 [==============================] - 1s 70ms/step - loss: 215.8176 - mse: 215.8176 - mae: 11.2195 - val_loss: 215.1395 - val_mse: 215.1395 - val_mae: 11.1693\n",
      "Epoch 152/200\n",
      "16/16 [==============================] - 1s 71ms/step - loss: 215.7371 - mse: 215.7371 - mae: 11.2155 - val_loss: 215.2661 - val_mse: 215.2661 - val_mae: 11.2980\n",
      "Epoch 153/200\n",
      "16/16 [==============================] - 1s 70ms/step - loss: 216.0803 - mse: 216.0803 - mae: 11.2352 - val_loss: 215.3346 - val_mse: 215.3346 - val_mae: 11.1578\n",
      "Epoch 154/200\n",
      "16/16 [==============================] - 1s 68ms/step - loss: 215.5846 - mse: 215.5846 - mae: 11.2209 - val_loss: 214.9743 - val_mse: 214.9743 - val_mae: 11.2454\n",
      "Epoch 155/200\n",
      "16/16 [==============================] - 1s 71ms/step - loss: 215.7252 - mse: 215.7252 - mae: 11.2176 - val_loss: 215.3132 - val_mse: 215.3132 - val_mae: 11.1728\n",
      "Epoch 156/200\n",
      "16/16 [==============================] - 1s 69ms/step - loss: 215.9046 - mse: 215.9046 - mae: 11.2140 - val_loss: 214.9529 - val_mse: 214.9529 - val_mae: 11.2609\n",
      "Epoch 157/200\n",
      "16/16 [==============================] - 1s 70ms/step - loss: 215.9552 - mse: 215.9552 - mae: 11.2359 - val_loss: 215.4771 - val_mse: 215.4771 - val_mae: 11.1355\n",
      "Epoch 158/200\n",
      "16/16 [==============================] - 1s 69ms/step - loss: 216.0967 - mse: 216.0967 - mae: 11.2170 - val_loss: 214.9892 - val_mse: 214.9892 - val_mae: 11.1630\n",
      "Epoch 159/200\n",
      "16/16 [==============================] - 1s 69ms/step - loss: 215.9390 - mse: 215.9390 - mae: 11.2154 - val_loss: 214.8414 - val_mse: 214.8414 - val_mae: 11.2591\n",
      "Epoch 160/200\n",
      "16/16 [==============================] - 1s 69ms/step - loss: 216.1427 - mse: 216.1427 - mae: 11.2308 - val_loss: 215.5269 - val_mse: 215.5269 - val_mae: 11.1516\n",
      "Epoch 161/200\n",
      "16/16 [==============================] - 1s 70ms/step - loss: 215.3419 - mse: 215.3419 - mae: 11.2083 - val_loss: 214.9761 - val_mse: 214.9761 - val_mae: 11.2440\n",
      "Epoch 162/200\n",
      "16/16 [==============================] - 1s 69ms/step - loss: 215.6328 - mse: 215.6328 - mae: 11.2272 - val_loss: 215.0023 - val_mse: 215.0023 - val_mae: 11.1453\n",
      "Epoch 163/200\n",
      "16/16 [==============================] - 1s 71ms/step - loss: 215.1399 - mse: 215.1399 - mae: 11.1966 - val_loss: 216.6817 - val_mse: 216.6817 - val_mae: 11.3937\n",
      "Epoch 164/200\n",
      "16/16 [==============================] - 1s 79ms/step - loss: 216.4339 - mse: 216.4339 - mae: 11.2535 - val_loss: 216.0735 - val_mse: 216.0735 - val_mae: 11.0906\n",
      "Epoch 165/200\n",
      "16/16 [==============================] - 2s 99ms/step - loss: 215.6941 - mse: 215.6941 - mae: 11.2082 - val_loss: 214.5406 - val_mse: 214.5406 - val_mae: 11.2162\n",
      "Epoch 166/200\n",
      "16/16 [==============================] - 1s 79ms/step - loss: 215.4352 - mse: 215.4352 - mae: 11.2141 - val_loss: 214.6689 - val_mse: 214.6689 - val_mae: 11.2516\n",
      "Epoch 167/200\n",
      "16/16 [==============================] - 1s 73ms/step - loss: 215.2184 - mse: 215.2184 - mae: 11.2067 - val_loss: 216.4718 - val_mse: 216.4718 - val_mae: 11.0905\n",
      "Epoch 168/200\n",
      "16/16 [==============================] - 1s 73ms/step - loss: 215.5714 - mse: 215.5714 - mae: 11.2053 - val_loss: 214.6678 - val_mse: 214.6678 - val_mae: 11.1493\n",
      "Epoch 169/200\n",
      "16/16 [==============================] - 1s 69ms/step - loss: 215.1493 - mse: 215.1493 - mae: 11.1941 - val_loss: 214.5470 - val_mse: 214.5470 - val_mae: 11.2035\n",
      "Epoch 170/200\n",
      "16/16 [==============================] - 1s 68ms/step - loss: 215.5189 - mse: 215.5189 - mae: 11.2151 - val_loss: 214.9542 - val_mse: 214.9542 - val_mae: 11.1244\n",
      "Epoch 171/200\n",
      "16/16 [==============================] - 1s 71ms/step - loss: 215.2045 - mse: 215.2045 - mae: 11.1956 - val_loss: 215.0528 - val_mse: 215.0528 - val_mae: 11.2916\n",
      "Epoch 172/200\n",
      "16/16 [==============================] - 1s 69ms/step - loss: 215.4928 - mse: 215.4928 - mae: 11.2204 - val_loss: 214.5197 - val_mse: 214.5197 - val_mae: 11.2245\n",
      "Epoch 173/200\n",
      "16/16 [==============================] - 1s 69ms/step - loss: 215.5033 - mse: 215.5033 - mae: 11.2250 - val_loss: 214.3423 - val_mse: 214.3423 - val_mae: 11.1754\n"
     ]
    }
   ],
   "source": [
    "from tensorflow.keras.optimizers import Adam\n",
    "adam=Adam(learning_rate=0.001)\n",
    "model.compile(loss='mse', optimizer=adam, metrics=['mse','mae'])\n",
    "history=model.fit(X_train, y_train, epochs=200,  verbose=1, batch_size=8000,callbacks=[early_stop],validation_split=0.2)"
   ]
  },
  {
   "cell_type": "code",
   "execution_count": 105,
   "id": "2e9cfeb9",
   "metadata": {},
   "outputs": [
    {
     "name": "stdout",
     "output_type": "stream",
     "text": [
      "1185/1185 [==============================] - 1s 1ms/step\n"
     ]
    }
   ],
   "source": [
    "y_pred = model.predict(X_test)"
   ]
  },
  {
   "cell_type": "code",
   "execution_count": 106,
   "id": "9202c47e",
   "metadata": {},
   "outputs": [
    {
     "name": "stdout",
     "output_type": "stream",
     "text": [
      "RMSE :  14.73705912334137\n",
      "MAPE :  0.26173494420750826\n"
     ]
    }
   ],
   "source": [
    "print(\"RMSE : \", mse(y_test, y_pred)**0.5)\n",
    "print(\"MAPE : \", mape(y_test, y_pred))"
   ]
  },
  {
   "cell_type": "markdown",
   "id": "4c60f0ac",
   "metadata": {},
   "source": [
    "# Model comparison\n",
    "\n",
    "Random Forest:\n",
    "\n",
    "RMSE :  14.558861867958914\n",
    "\n",
    "MAPE :  0.26194626377226565\n",
    "\n",
    "NN Regressor Model:\n",
    "\n",
    "RMSE :  14.792099770338092\n",
    "\n",
    "MAPE :  0.2583657635867709"
   ]
  },
  {
   "cell_type": "markdown",
   "id": "5d427f8d",
   "metadata": {},
   "source": [
    "# Leading Questions:\n",
    "\n",
    "1. Defining the problem statements and where can this and modifications of this be used?\n",
    "\n",
    "Ans: This can be extended in estimating delivery time of all e-commerce websites. \n",
    "\n",
    "2. List 3 functions the pandas datetime provides with one line explanation.\n",
    "\n",
    "Ans: \n",
    "1. pd.dt.dayofweek: Returns the day of the week as an integer (Monday=0, Sunday=6) for each element in a pandas datetime object.\n",
    "2. pd.dt.hour : Returns an integer representing the hour of the day (ranging from 0 to 23) for each element in a pandas datetime object.\n",
    "3. pd.dt.strftime: Formats the pandas datetime object as a string according to a specified format string.\n",
    "\n",
    "3. Short note on datetime, timedelta, time span (period)\n",
    "\n",
    "Ans: Datetime refers to a specific point in time, usually expressed as a combination of a date and a time. In Python, the datetime module provides classes and functions for working with dates and times.\n",
    "\n",
    "Timedelta is a class in the datetime module that represents a duration of time, such as the difference between two dates or times. Timedelta objects can be used to perform arithmetic with datetime objects, such as adding or subtracting time intervals.\n",
    "\n",
    "Time span or period refers to a fixed length of time, such as a day, a week, or a month. In pandas, the Period class represents a fixed frequency interval of time, such as daily, weekly, or monthly. Period objects can be used to perform operations on time series data, such as aggregating data over fixed intervals.\n",
    "\n",
    "4. Why do we need to check for outliers in our data?\n",
    "\n",
    "Ans: It is important to check for outliers in our data because outliers can significantly affect the results of statistical analyses and machine learning models. Outliers are data points that are significantly different from other data points in the dataset, and can occur due to measurement errors, data entry errors, or genuine extreme values.\n",
    "\n",
    "In machine learning, outliers can also affect the performance of models, particularly models that are sensitive to extreme values, such as linear regression or k-nearest neighbors. Outliers can distort the relationship between the input features and the target variable, leading to inaccurate predictions and reduced model performance.\n",
    "\n",
    "5. Name 3 outlier removal methods?\n",
    "\n",
    "Ans:\n",
    "1. IQR method.\n",
    "2. z-score method.\n",
    "3. LOF method.\n",
    "\n",
    "6. What classical machine learning methods can we use other than random forest for regression?\n",
    "\n",
    "Ans: We can use other methods like GBDT, XgBoost, etc.\n",
    "\n",
    "7. Why is scaling required for neural networks?\n",
    "\n",
    "Ans: Scaling is required for neural networks to ensure that the input features are consistent and effective for gradient descent, activation functions, and regularization. Scaling can improve the stability, effectiveness, and generalization of neural networks.\n",
    "\n",
    "8. Briefly explain your choice of optimizer.\n",
    "\n",
    "Ans: We chose Adam optimizer because it is most widely used because it is a powerful and versatile optimization algorithm that can help to improve the convergence speed, accuracy, stability, and efficiency of deep learning models.\n",
    "\n",
    "9. Which activation function did you use and why?\n",
    "\n",
    "Ans: We used relu since it is a powerful and widely used activation function in neural networks that offers several advantages, including sparsity, non-linearity, simplicity, avoiding the vanishing gradient problem, and good performance in practice.\n",
    "\n",
    "10. Why does a neural network perform well on a large dataset?\n",
    "\n",
    "Ans: A neural network can perform well on a large dataset because it can learn more complex representations, handle noise and outliers, reduce overfitting, improve regularization, and improve optimization. This is why large datasets are often used in deep learning applications, such as image classification, speech recognition, and natural language processing.\n",
    "\n",
    "\n",
    "\n"
   ]
  },
  {
   "cell_type": "code",
   "execution_count": null,
   "id": "fb7c6648",
   "metadata": {},
   "outputs": [],
   "source": []
  }
 ],
 "metadata": {
  "kernelspec": {
   "display_name": "Python 3 (ipykernel)",
   "language": "python",
   "name": "python3"
  },
  "language_info": {
   "codemirror_mode": {
    "name": "ipython",
    "version": 3
   },
   "file_extension": ".py",
   "mimetype": "text/x-python",
   "name": "python",
   "nbconvert_exporter": "python",
   "pygments_lexer": "ipython3",
   "version": "3.9.7"
  }
 },
 "nbformat": 4,
 "nbformat_minor": 5
}
